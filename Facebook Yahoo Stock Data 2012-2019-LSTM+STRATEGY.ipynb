{
 "cells": [
  {
   "cell_type": "markdown",
   "metadata": {},
   "source": [
    "# FACEBOOK DATA FROM YAHOO FINANCE"
   ]
  },
  {
   "cell_type": "code",
   "execution_count": 1,
   "metadata": {},
   "outputs": [],
   "source": [
    "import pandas as pd\n",
    "import numpy as np\n",
    "from matplotlib import pyplot as plt\n",
    "%matplotlib inline"
   ]
  },
  {
   "cell_type": "code",
   "execution_count": 2,
   "metadata": {},
   "outputs": [],
   "source": [
    "df = pd.read_csv(\"packtpub-src/csv/FB2012-2019.csv\")"
   ]
  },
  {
   "cell_type": "code",
   "execution_count": 3,
   "metadata": {},
   "outputs": [
    {
     "data": {
      "text/html": [
       "<div>\n",
       "<style scoped>\n",
       "    .dataframe tbody tr th:only-of-type {\n",
       "        vertical-align: middle;\n",
       "    }\n",
       "\n",
       "    .dataframe tbody tr th {\n",
       "        vertical-align: top;\n",
       "    }\n",
       "\n",
       "    .dataframe thead th {\n",
       "        text-align: right;\n",
       "    }\n",
       "</style>\n",
       "<table border=\"1\" class=\"dataframe\">\n",
       "  <thead>\n",
       "    <tr style=\"text-align: right;\">\n",
       "      <th></th>\n",
       "      <th>Date</th>\n",
       "      <th>Open</th>\n",
       "      <th>High</th>\n",
       "      <th>Low</th>\n",
       "      <th>Close</th>\n",
       "      <th>Adj Close</th>\n",
       "      <th>Volume</th>\n",
       "    </tr>\n",
       "  </thead>\n",
       "  <tbody>\n",
       "    <tr>\n",
       "      <th>0</th>\n",
       "      <td>2012-05-29</td>\n",
       "      <td>31.480000</td>\n",
       "      <td>31.690001</td>\n",
       "      <td>28.650000</td>\n",
       "      <td>28.840000</td>\n",
       "      <td>28.840000</td>\n",
       "      <td>78063400</td>\n",
       "    </tr>\n",
       "    <tr>\n",
       "      <th>1</th>\n",
       "      <td>2012-05-30</td>\n",
       "      <td>28.700001</td>\n",
       "      <td>29.549999</td>\n",
       "      <td>27.860001</td>\n",
       "      <td>28.190001</td>\n",
       "      <td>28.190001</td>\n",
       "      <td>57267900</td>\n",
       "    </tr>\n",
       "    <tr>\n",
       "      <th>2</th>\n",
       "      <td>2012-05-31</td>\n",
       "      <td>28.549999</td>\n",
       "      <td>29.670000</td>\n",
       "      <td>26.830000</td>\n",
       "      <td>29.600000</td>\n",
       "      <td>29.600000</td>\n",
       "      <td>111639200</td>\n",
       "    </tr>\n",
       "    <tr>\n",
       "      <th>3</th>\n",
       "      <td>2012-06-01</td>\n",
       "      <td>28.889999</td>\n",
       "      <td>29.150000</td>\n",
       "      <td>27.389999</td>\n",
       "      <td>27.719999</td>\n",
       "      <td>27.719999</td>\n",
       "      <td>41855500</td>\n",
       "    </tr>\n",
       "    <tr>\n",
       "      <th>4</th>\n",
       "      <td>2012-06-04</td>\n",
       "      <td>27.200001</td>\n",
       "      <td>27.650000</td>\n",
       "      <td>26.440001</td>\n",
       "      <td>26.900000</td>\n",
       "      <td>26.900000</td>\n",
       "      <td>35230300</td>\n",
       "    </tr>\n",
       "  </tbody>\n",
       "</table>\n",
       "</div>"
      ],
      "text/plain": [
       "         Date       Open       High        Low      Close  Adj Close  \\\n",
       "0  2012-05-29  31.480000  31.690001  28.650000  28.840000  28.840000   \n",
       "1  2012-05-30  28.700001  29.549999  27.860001  28.190001  28.190001   \n",
       "2  2012-05-31  28.549999  29.670000  26.830000  29.600000  29.600000   \n",
       "3  2012-06-01  28.889999  29.150000  27.389999  27.719999  27.719999   \n",
       "4  2012-06-04  27.200001  27.650000  26.440001  26.900000  26.900000   \n",
       "\n",
       "      Volume  \n",
       "0   78063400  \n",
       "1   57267900  \n",
       "2  111639200  \n",
       "3   41855500  \n",
       "4   35230300  "
      ]
     },
     "execution_count": 3,
     "metadata": {},
     "output_type": "execute_result"
    }
   ],
   "source": [
    "df.head()"
   ]
  },
  {
   "cell_type": "code",
   "execution_count": 4,
   "metadata": {},
   "outputs": [
    {
     "data": {
      "text/html": [
       "<div>\n",
       "<style scoped>\n",
       "    .dataframe tbody tr th:only-of-type {\n",
       "        vertical-align: middle;\n",
       "    }\n",
       "\n",
       "    .dataframe tbody tr th {\n",
       "        vertical-align: top;\n",
       "    }\n",
       "\n",
       "    .dataframe thead th {\n",
       "        text-align: right;\n",
       "    }\n",
       "</style>\n",
       "<table border=\"1\" class=\"dataframe\">\n",
       "  <thead>\n",
       "    <tr style=\"text-align: right;\">\n",
       "      <th></th>\n",
       "      <th>Date</th>\n",
       "      <th>Open</th>\n",
       "      <th>High</th>\n",
       "      <th>Low</th>\n",
       "      <th>Close</th>\n",
       "      <th>Adj Close</th>\n",
       "      <th>Volume</th>\n",
       "    </tr>\n",
       "  </thead>\n",
       "  <tbody>\n",
       "    <tr>\n",
       "      <th>1755</th>\n",
       "      <td>2019-05-21</td>\n",
       "      <td>184.570007</td>\n",
       "      <td>185.699997</td>\n",
       "      <td>183.889999</td>\n",
       "      <td>184.820007</td>\n",
       "      <td>184.820007</td>\n",
       "      <td>7502800</td>\n",
       "    </tr>\n",
       "    <tr>\n",
       "      <th>1756</th>\n",
       "      <td>2019-05-22</td>\n",
       "      <td>184.729996</td>\n",
       "      <td>186.740005</td>\n",
       "      <td>183.610001</td>\n",
       "      <td>185.320007</td>\n",
       "      <td>185.320007</td>\n",
       "      <td>9213800</td>\n",
       "    </tr>\n",
       "    <tr>\n",
       "      <th>1757</th>\n",
       "      <td>2019-05-23</td>\n",
       "      <td>182.419998</td>\n",
       "      <td>183.899994</td>\n",
       "      <td>179.669998</td>\n",
       "      <td>180.869995</td>\n",
       "      <td>180.869995</td>\n",
       "      <td>12768800</td>\n",
       "    </tr>\n",
       "    <tr>\n",
       "      <th>1758</th>\n",
       "      <td>2019-05-24</td>\n",
       "      <td>182.330002</td>\n",
       "      <td>183.630005</td>\n",
       "      <td>180.830002</td>\n",
       "      <td>181.059998</td>\n",
       "      <td>181.059998</td>\n",
       "      <td>8807700</td>\n",
       "    </tr>\n",
       "    <tr>\n",
       "      <th>1759</th>\n",
       "      <td>2019-05-28</td>\n",
       "      <td>181.539993</td>\n",
       "      <td>184.710007</td>\n",
       "      <td>181.449997</td>\n",
       "      <td>184.309998</td>\n",
       "      <td>184.309998</td>\n",
       "      <td>14843300</td>\n",
       "    </tr>\n",
       "  </tbody>\n",
       "</table>\n",
       "</div>"
      ],
      "text/plain": [
       "            Date        Open        High         Low       Close   Adj Close  \\\n",
       "1755  2019-05-21  184.570007  185.699997  183.889999  184.820007  184.820007   \n",
       "1756  2019-05-22  184.729996  186.740005  183.610001  185.320007  185.320007   \n",
       "1757  2019-05-23  182.419998  183.899994  179.669998  180.869995  180.869995   \n",
       "1758  2019-05-24  182.330002  183.630005  180.830002  181.059998  181.059998   \n",
       "1759  2019-05-28  181.539993  184.710007  181.449997  184.309998  184.309998   \n",
       "\n",
       "        Volume  \n",
       "1755   7502800  \n",
       "1756   9213800  \n",
       "1757  12768800  \n",
       "1758   8807700  \n",
       "1759  14843300  "
      ]
     },
     "execution_count": 4,
     "metadata": {},
     "output_type": "execute_result"
    }
   ],
   "source": [
    "df.tail()"
   ]
  },
  {
   "cell_type": "code",
   "execution_count": 5,
   "metadata": {},
   "outputs": [
    {
     "data": {
      "image/png": "[encoded data removed]",
      "text/plain": [
       "<Figure size 432x288 with 1 Axes>"
      ]
     },
     "metadata": {
      "needs_background": "light"
     },
     "output_type": "display_data"
    }
   ],
   "source": [
    "plt.figure()\n",
    "plt.title(\"FB stock price history\")\n",
    "plt.plot(df['Open'])\n",
    "#plt.plot(df[\"Close\"])\n",
    "#plt.plot(df[\"High\"])\n",
    "#plt.plot(df[\"Low\"])\n",
    "plt.ylabel('Price (USD)')\n",
    "plt.xlabel('Days')\n",
    "plt.legend(['Open', 'Close', 'High', 'Low'], loc='upper left')\n",
    "plt.show()"
   ]
  },
  {
   "cell_type": "code",
   "execution_count": 6,
   "metadata": {},
   "outputs": [
    {
     "data": {
      "image/png": "[encoded data removed]",
      "text/plain": [
       "<Figure size 432x288 with 1 Axes>"
      ]
     },
     "metadata": {
      "needs_background": "light"
     },
     "output_type": "display_data"
    }
   ],
   "source": [
    "plt.figure()\n",
    "plt.plot(df['Volume'])\n",
    "plt.title('FB stock volume history')\n",
    "plt.ylabel('Volume')\n",
    "plt.xlabel('Days')\n",
    "plt.show()"
   ]
  },
  {
   "cell_type": "code",
   "execution_count": 7,
   "metadata": {},
   "outputs": [
    {
     "name": "stdout",
     "output_type": "stream",
     "text": [
      "Checking if any null values are present\n",
      " Date         0\n",
      "Open         0\n",
      "High         0\n",
      "Low          0\n",
      "Close        0\n",
      "Adj Close    0\n",
      "Volume       0\n",
      "dtype: int64\n"
     ]
    }
   ],
   "source": [
    "print('Checking if any null values are present\\n', df.isna().sum())"
   ]
  },
  {
   "cell_type": "markdown",
   "metadata": {},
   "source": [
    "### Normalizing the data\n",
    "* Split the data into train, test\n",
    "* Normalize\n",
    "* Covert the DataFrame to ndarray"
   ]
  },
  {
   "cell_type": "code",
   "execution_count": 8,
   "metadata": {},
   "outputs": [],
   "source": [
    "#! pip install keras"
   ]
  },
  {
   "cell_type": "code",
   "execution_count": 9,
   "metadata": {},
   "outputs": [],
   "source": [
    "#! pip install np_utils"
   ]
  },
  {
   "cell_type": "code",
   "execution_count": 10,
   "metadata": {},
   "outputs": [],
   "source": [
    "#! pip install tensorflow"
   ]
  },
  {
   "cell_type": "code",
   "execution_count": 11,
   "metadata": {},
   "outputs": [],
   "source": [
    "#! pip install numpy --upgrade --user"
   ]
  },
  {
   "cell_type": "code",
   "execution_count": 12,
   "metadata": {},
   "outputs": [
    {
     "name": "stderr",
     "output_type": "stream",
     "text": [
      "Using TensorFlow backend.\n"
     ]
    },
    {
     "name": "stdout",
     "output_type": "stream",
     "text": [
      "Checking GPU available []\n"
     ]
    }
   ],
   "source": [
    "from tqdm._tqdm_notebook import tqdm_notebook\n",
    "from sklearn.preprocessing import MinMaxScaler\n",
    "from sklearn.model_selection import train_test_split\n",
    "from sklearn.metrics import mean_squared_error\n",
    "from keras.models import Sequential, load_model\n",
    "from keras.layers import Dense, Dropout\n",
    "from keras.layers import LSTM\n",
    "from keras import optimizers\n",
    "from keras import backend as K\n",
    "from keras.callbacks import EarlyStopping\n",
    "\n",
    "print('Checking GPU available', K.tensorflow_backend._get_available_gpus())\n"
   ]
  },
  {
   "cell_type": "code",
   "execution_count": 13,
   "metadata": {},
   "outputs": [],
   "source": [
    "from keras import losses"
   ]
  },
  {
   "cell_type": "code",
   "execution_count": 14,
   "metadata": {},
   "outputs": [],
   "source": [
    "TIME_STEPS = 60\n",
    "BATCH_SIZE = 20"
   ]
  },
  {
   "cell_type": "code",
   "execution_count": 15,
   "metadata": {},
   "outputs": [],
   "source": [
    "params = {\n",
    "    \"batch_size\": 20,  # 20<16<10, 25 was a bust\n",
    "    \"epochs\": 10,\n",
    "    \"lr\": 0.00010000,\n",
    "    \"time_steps\": 60\n",
    "}"
   ]
  },
  {
   "cell_type": "code",
   "execution_count": 16,
   "metadata": {},
   "outputs": [
    {
     "name": "stdout",
     "output_type": "stream",
     "text": [
      "Train and test set 1408 352\n"
     ]
    }
   ],
   "source": [
    "\n",
    "train_cols = ['Open', 'High', 'Low', 'Close', 'Volume']\n",
    "df_train, df_test = train_test_split(df, train_size=0.8, test_size=0.2, shuffle=True)\n",
    "print('Train and test set', len(df_train), len(df_test))\n",
    "\n",
    "#scale the feature MinMax, build array\n",
    "x = df_train.loc[:, train_cols].values\n",
    "min_max_scaler = MinMaxScaler()\n",
    "x_train = min_max_scaler.fit_transform(x)\n",
    "x_test = min_max_scaler.transform(df_test.loc[:, train_cols])"
   ]
  },
  {
   "cell_type": "code",
   "execution_count": 17,
   "metadata": {},
   "outputs": [],
   "source": [
    "def build_timeseries(mat, y_col_index):\n",
    "    # y_col_index is the index of column that would act as output column\n",
    "    # total nb of time-series samples would be len(mat) - TIME_STEPS\n",
    "    dim_0 = mat.shape[0] - TIME_STEPS\n",
    "    dim_1 = mat.shape[1]\n",
    "    x = np.zeros((dim_0, TIME_STEPS, dim_1))\n",
    "    y = np.zeros((dim_0,))\n",
    "    \n",
    "    for i in tqdm_notebook(range(dim_0)):\n",
    "        x[i] = mat[i:TIME_STEPS+i]\n",
    "        y[i] = mat[TIME_STEPS+i, y_col_index]\n",
    "    \n",
    "    print('length of time-series i/o', x.shape, y.shape)\n",
    "    return x, y"
   ]
  },
  {
   "cell_type": "code",
   "execution_count": 18,
   "metadata": {},
   "outputs": [],
   "source": [
    "def trim_dataset(mat, batch_size):\n",
    "    \"\"\"\n",
    "    trims dataset to a size that is divisible by BATCH_SIZE\n",
    "    \"\"\"\n",
    "    no_of_rows_drop = mat.shape[0] % batch_size\n",
    "    if no_of_rows_drop > 0:\n",
    "        return mat[:-no_of_rows_drop]\n",
    "    else:\n",
    "        return mat"
   ]
  },
  {
   "cell_type": "code",
   "execution_count": 19,
   "metadata": {},
   "outputs": [
    {
     "data": {
      "application/vnd.jupyter.widget-view+json": {
       "model_id": "6ecd69029e19451db679fe2e61a6fcaa",
       "version_major": 2,
       "version_minor": 0
      },
      "text/plain": [
       "HBox(children=(IntProgress(value=0, max=1348), HTML(value='')))"
      ]
     },
     "metadata": {},
     "output_type": "display_data"
    },
    {
     "name": "stdout",
     "output_type": "stream",
     "text": [
      "\n",
      "length of time-series i/o (1348, 60, 5) (1348,)\n"
     ]
    },
    {
     "data": {
      "application/vnd.jupyter.widget-view+json": {
       "model_id": "909ee1e1133f4edfa665f51a86952039",
       "version_major": 2,
       "version_minor": 0
      },
      "text/plain": [
       "HBox(children=(IntProgress(value=0, max=292), HTML(value='')))"
      ]
     },
     "metadata": {},
     "output_type": "display_data"
    },
    {
     "name": "stdout",
     "output_type": "stream",
     "text": [
      "\n",
      "length of time-series i/o (292, 60, 5) (292,)\n"
     ]
    }
   ],
   "source": [
    "x_t, y_t = build_timeseries(x_train, 3)\n",
    "x_t = trim_dataset(x_t, BATCH_SIZE)\n",
    "y_t = trim_dataset(y_t, BATCH_SIZE)\n",
    "\n",
    "x_temp, y_temp = build_timeseries(x_test, 3)\n",
    "x_val, x_test_t = np.split(trim_dataset(x_temp, BATCH_SIZE), 2)\n",
    "y_val, y_test_t = np.split(trim_dataset(y_temp, BATCH_SIZE), 2)\n",
    "\n",
    "# x_t : train data\n",
    "# x_val: validation data\n",
    "# x_test_t: test data"
   ]
  },
  {
   "cell_type": "code",
   "execution_count": 20,
   "metadata": {},
   "outputs": [],
   "source": [
    "def create_model():\n",
    "    lstm_model = Sequential()\n",
    "    # (batch_size, time_steps, data_dim)\n",
    "    lstm_model.add(LSTM(100, batch_input_shape=(BATCH_SIZE, TIME_STEPS, x_t.shape[2]),\n",
    "                       dropout=0.0, recurrent_dropout=0.0, stateful=True, return_sequences=True,\n",
    "                       kernel_initializer='random_uniform'))\n",
    "    lstm_model.add(Dropout(0.4))\n",
    "    lstm_model.add(LSTM(60, dropout=0.0))\n",
    "    lstm_model.add(Dropout(0.4))\n",
    "    lstm_model.add(Dense(20, activation='relu'))\n",
    "    lstm_model.add(Dense(1, activation='linear'))\n",
    "    optimizer = optimizers.RMSprop(lr=params['lr'])\n",
    "    lstm_model.compile(loss='mean_squared_error', optimizer=optimizer)\n",
    "    # lstm_model.compile(loss=losses.mean_squarred_error, optimizer=optimizer)\n",
    "    return lstm_model"
   ]
  },
  {
   "cell_type": "code",
   "execution_count": 21,
   "metadata": {},
   "outputs": [],
   "source": [
    "es = EarlyStopping(monitor='val_loss', mode='min', verbose=1,\n",
    "                   patience=40, min_delta=0.0001)"
   ]
  },
  {
   "cell_type": "code",
   "execution_count": 25,
   "metadata": {},
   "outputs": [
    {
     "name": "stdout",
     "output_type": "stream",
     "text": [
      "Train on 1340 samples, validate on 140 samples\n",
      "Epoch 1/3\n",
      " - 9s - loss: 0.1281 - val_loss: 0.0759\n",
      "Epoch 2/3\n",
      " - 7s - loss: 0.0816 - val_loss: 0.0755\n",
      "Epoch 3/3\n",
      " - 5s - loss: 0.0816 - val_loss: 0.0754\n"
     ]
    }
   ],
   "source": [
    "model = create_model()\n",
    "\n",
    "#csv_logger = CSVLogger()\n",
    "\n",
    "history = model.fit(x_t, y_t, epochs=3, verbose=2, batch_size=BATCH_SIZE,\n",
    "                   shuffle=False, validation_data=(trim_dataset(x_val, BATCH_SIZE), \n",
    "                                                   trim_dataset(y_val, BATCH_SIZE)),callbacks=[es])"
   ]
  },
  {
   "cell_type": "code",
   "execution_count": 26,
   "metadata": {
    "scrolled": true
   },
   "outputs": [
    {
     "name": "stdout",
     "output_type": "stream",
     "text": [
      "dict_keys(['val_loss', 'loss'])\n",
      "[0.07586273763860975, 0.07551193716270584, 0.0753868328673499]\n"
     ]
    }
   ],
   "source": [
    "print(history.history.keys())\n",
    "print(history.history['val_loss'])"
   ]
  },
  {
   "cell_type": "code",
   "execution_count": 27,
   "metadata": {},
   "outputs": [
    {
     "data": {
      "text/plain": [
       "Text(0, 0.5, 'Model loss')"
      ]
     },
     "execution_count": 27,
     "metadata": {},
     "output_type": "execute_result"
    },
    {
     "data": {
      "image/png": "[encoded data removed]",
      "text/plain": [
       "<Figure size 432x288 with 1 Axes>"
      ]
     },
     "metadata": {
      "needs_background": "light"
     },
     "output_type": "display_data"
    }
   ],
   "source": [
    "plt.figure()\n",
    "plt.plot(history.history['val_loss'])\n",
    "plt.plot(history.history['loss'])\n",
    "plt.legend(['Test', 'Train'])\n",
    "plt.xlabel('Epoch')\n",
    "plt.ylabel('Model loss')"
   ]
  },
  {
   "cell_type": "code",
   "execution_count": 43,
   "metadata": {},
   "outputs": [],
   "source": [
    "# plot the predicted vs real price"
   ]
  },
  {
   "cell_type": "code",
   "execution_count": null,
   "metadata": {},
   "outputs": [],
   "source": []
  },
  {
   "cell_type": "code",
   "execution_count": 28,
   "metadata": {},
   "outputs": [
    {
     "name": "stdout",
     "output_type": "stream",
     "text": [
      "Error 0.07215081576388344 (140,) (140,)\n"
     ]
    }
   ],
   "source": [
    "y_pred = model.predict(trim_dataset(x_test_t, BATCH_SIZE), batch_size=BATCH_SIZE)\n",
    "y_pred = y_pred.flatten()\n",
    "y_test_t = trim_dataset(y_test_t, BATCH_SIZE)\n",
    "error = mean_squared_error(y_test_t, y_pred)\n",
    "print(\"Error\", error, y_pred.shape, y_test_t.shape)\n",
    "\n",
    "y_pred_orig = (y_pred * min_max_scaler.data_range_[3]) + min_max_scaler.data_min_[3] #min_max_scaler.inverse_transform(y_pred)\n",
    "y_test_t_orig = (y_test_t * min_max_scaler.data_range_[3]) + min_max_scaler.data_min_[3] #min_max_scaler.inverse_transform(y_test_t)"
   ]
  },
  {
   "cell_type": "code",
   "execution_count": 29,
   "metadata": {},
   "outputs": [
    {
     "data": {
      "image/png": "[encoded data removed]",
      "text/plain": [
       "<Figure size 432x288 with 1 Axes>"
      ]
     },
     "metadata": {
      "needs_background": "light"
     },
     "output_type": "display_data"
    }
   ],
   "source": [
    "plt.figure()\n",
    "plt.plot(y_pred_orig)\n",
    "plt.plot(y_test_t_orig)\n",
    "plt.title('Prediction vs Real Stock Price')\n",
    "plt.ylabel('Price')\n",
    "plt.xlabel('Days')\n",
    "plt.legend(['Prediction', 'Real'], loc='upper left')\n",
    "plt.show()"
   ]
  },
  {
   "cell_type": "code",
   "execution_count": 30,
   "metadata": {},
   "outputs": [],
   "source": [
    "# do gridsearch, put logging into\n",
    "# what overfit would mean here?\n",
    "# read lstm AK\n",
    "# how to appreciate how good is the prediction?\n",
    "\n",
    "# sentiment analysis for stock prediction ? X\n",
    "\n"
   ]
  },
  {
   "cell_type": "code",
   "execution_count": 31,
   "metadata": {},
   "outputs": [],
   "source": [
    "from sklearn.linear_model import LinearRegression"
   ]
  },
  {
   "cell_type": "code",
   "execution_count": 32,
   "metadata": {},
   "outputs": [
    {
     "data": {
      "text/plain": [
       "(1340, 60, 5)"
      ]
     },
     "execution_count": 32,
     "metadata": {},
     "output_type": "execute_result"
    }
   ],
   "source": [
    "x_t.shape"
   ]
  },
  {
   "cell_type": "code",
   "execution_count": 33,
   "metadata": {},
   "outputs": [
    {
     "data": {
      "text/plain": [
       "array([0.44546562, 0.07484514, 0.51863514, ..., 0.49192649, 0.2040723 ,\n",
       "       0.23230426])"
      ]
     },
     "execution_count": 33,
     "metadata": {},
     "output_type": "execute_result"
    }
   ],
   "source": [
    "y_t"
   ]
  },
  {
   "cell_type": "code",
   "execution_count": 34,
   "metadata": {},
   "outputs": [],
   "source": [
    "m = LinearRegression()"
   ]
  },
  {
   "cell_type": "code",
   "execution_count": 35,
   "metadata": {
    "scrolled": true
   },
   "outputs": [
    {
     "data": {
      "text/plain": [
       "(1340, 60)"
      ]
     },
     "execution_count": 35,
     "metadata": {},
     "output_type": "execute_result"
    }
   ],
   "source": [
    "x_t[:,:,0].shape"
   ]
  },
  {
   "cell_type": "code",
   "execution_count": 36,
   "metadata": {},
   "outputs": [],
   "source": [
    "rx_t = x_t[:,:,0]"
   ]
  },
  {
   "cell_type": "code",
   "execution_count": 37,
   "metadata": {},
   "outputs": [
    {
     "data": {
      "text/plain": [
       "(2, 60)"
      ]
     },
     "execution_count": 37,
     "metadata": {},
     "output_type": "execute_result"
    }
   ],
   "source": [
    "rx_t[0:2].shape"
   ]
  },
  {
   "cell_type": "code",
   "execution_count": 38,
   "metadata": {},
   "outputs": [
    {
     "data": {
      "text/plain": [
       "array([[0.67710503, 0.50626809, 0.21260722, 0.25082475, 0.2366137 ,\n",
       "        0.38227682, 0.22915292, 0.03933411, 0.78668224, 0.34776429,\n",
       "        0.31046033, 0.31604323, 0.9042278 , 0.74694209, 0.61919505,\n",
       "        0.31594174, 0.57057301, 0.04222707, 0.52433639, 0.33157389,\n",
       "        0.05598133, 0.83956757, 0.14302389, 0.247272  , 0.01730701,\n",
       "        0.89691926, 0.76516264, 0.55981325, 0.88813889, 0.21321626,\n",
       "        0.17814546, 0.05486474, 0.28934678, 0.58838753, 0.01390651,\n",
       "        0.77810485, 0.88544888, 0.81845402, 0.69694967, 0.20651677,\n",
       "        0.48576359, 0.67954119, 0.53555295, 0.02481855, 0.50418717,\n",
       "        0.45673247, 0.31264274, 0.51474395, 0.03349744, 0.04841903,\n",
       "        0.04207482, 0.76013808, 0.74572397, 0.21671826, 0.82083945,\n",
       "        0.44866265, 0.76064557, 0.23554787, 0.29234127, 0.7773943 ],\n",
       "       [0.50626809, 0.21260722, 0.25082475, 0.2366137 , 0.38227682,\n",
       "        0.22915292, 0.03933411, 0.78668224, 0.34776429, 0.31046033,\n",
       "        0.31604323, 0.9042278 , 0.74694209, 0.61919505, 0.31594174,\n",
       "        0.57057301, 0.04222707, 0.52433639, 0.33157389, 0.05598133,\n",
       "        0.83956757, 0.14302389, 0.247272  , 0.01730701, 0.89691926,\n",
       "        0.76516264, 0.55981325, 0.88813889, 0.21321626, 0.17814546,\n",
       "        0.05486474, 0.28934678, 0.58838753, 0.01390651, 0.77810485,\n",
       "        0.88544888, 0.81845402, 0.69694967, 0.20651677, 0.48576359,\n",
       "        0.67954119, 0.53555295, 0.02481855, 0.50418717, 0.45673247,\n",
       "        0.31264274, 0.51474395, 0.03349744, 0.04841903, 0.04207482,\n",
       "        0.76013808, 0.74572397, 0.21671826, 0.82083945, 0.44866265,\n",
       "        0.76064557, 0.23554787, 0.29234127, 0.7773943 , 0.45054051]])"
      ]
     },
     "execution_count": 38,
     "metadata": {},
     "output_type": "execute_result"
    }
   ],
   "source": [
    "rx_t[0:2]"
   ]
  },
  {
   "cell_type": "code",
   "execution_count": 39,
   "metadata": {},
   "outputs": [
    {
     "data": {
      "text/plain": [
       "LinearRegression(copy_X=True, fit_intercept=True, n_jobs=None, normalize=False)"
      ]
     },
     "execution_count": 39,
     "metadata": {},
     "output_type": "execute_result"
    }
   ],
   "source": [
    "m.fit(rx_t, y_t)"
   ]
  },
  {
   "cell_type": "code",
   "execution_count": 40,
   "metadata": {},
   "outputs": [],
   "source": [
    "rx_test = x_test"
   ]
  },
  {
   "cell_type": "code",
   "execution_count": 41,
   "metadata": {},
   "outputs": [],
   "source": [
    "rx_test = rx_test[-60:,0].reshape(-1, 1)"
   ]
  },
  {
   "cell_type": "code",
   "execution_count": 42,
   "metadata": {},
   "outputs": [
    {
     "data": {
      "text/plain": [
       "(292, 60)"
      ]
     },
     "execution_count": 42,
     "metadata": {},
     "output_type": "execute_result"
    }
   ],
   "source": [
    "x_temp[:,:,0].shape"
   ]
  },
  {
   "cell_type": "code",
   "execution_count": 43,
   "metadata": {},
   "outputs": [],
   "source": [
    "y_pred=m.predict(x_temp[:,:,0])"
   ]
  },
  {
   "cell_type": "code",
   "execution_count": 44,
   "metadata": {},
   "outputs": [],
   "source": [
    "from sklearn.metrics import mean_squared_error"
   ]
  },
  {
   "cell_type": "code",
   "execution_count": 45,
   "metadata": {},
   "outputs": [
    {
     "data": {
      "text/plain": [
       "0.08251396510638316"
      ]
     },
     "execution_count": 45,
     "metadata": {},
     "output_type": "execute_result"
    }
   ],
   "source": [
    "mean_squared_error(y_temp,y_pred)"
   ]
  },
  {
   "cell_type": "code",
   "execution_count": null,
   "metadata": {},
   "outputs": [],
   "source": []
  },
  {
   "cell_type": "code",
   "execution_count": 46,
   "metadata": {},
   "outputs": [
    {
     "data": {
      "text/plain": [
       "array([0.43998171, 0.42794761, 0.28724486, 0.03132934, 0.4288616 ,\n",
       "       0.52904437, 0.71681728, 0.01518228, 0.78343661, 0.44785214,\n",
       "       0.04905047, 0.04458211, 0.23590943, 0.05448359, 0.38199451,\n",
       "       0.32705392, 0.65974411, 0.38788465, 0.48014625, 0.04041841,\n",
       "       0.52675943, 0.01746725, 0.83807251, 0.2135168 , 0.44541484,\n",
       "       0.03264954, 0.05133543, 0.52371283, 0.04727329, 0.75916526,\n",
       "       0.29074844, 0.60927187, 0.58652385, 0.04062151, 0.30562607,\n",
       "       0.15938864, 0.40250838, 0.81776176, 0.04138316, 0.21696963,\n",
       "       0.02467757, 0.50847976, 0.54600387, 0.79029144, 0.58672692,\n",
       "       0.1579669 , 0.02660708, 0.16512644, 0.77825735, 0.22844522,\n",
       "       0.79846653, 0.38763075, 0.26591855, 0.28424901, 0.22864831,\n",
       "       0.26353203, 0.86391793, 0.44932468, 0.29541995, 0.79613083,\n",
       "       0.64212452, 0.62003655, 0.3653397 , 0.29389663, 0.61328321,\n",
       "       0.68888999, 0.3037981 , 0.4795877 , 0.77566775, 0.78318271,\n",
       "       0.54143395, 0.02726719, 0.03518838, 0.04580075, 0.03341119,\n",
       "       0.53204023, 0.83705699, 0.29130699, 0.18528487, 0.01761958,\n",
       "       0.79800955, 0.29501372, 0.44912156, 1.01436987, 0.28597544,\n",
       "       0.34563828, 0.79922822, 0.68051184, 0.23245658, 0.81100842,\n",
       "       0.3207576 , 0.57890731, 0.40225448, 0.03985986, 0.30613384,\n",
       "       0.07103686, 0.03341119, 0.54072307, 0.01081548, 0.24367829,\n",
       "       0.43825532, 0.03183711, 0.67182895, 0.56169395, 0.55590535,\n",
       "       0.93566569, 0.57007211, 0.84898951, 0.68305068, 0.81847263,\n",
       "       0.57560677, 0.31395348, 0.8406621 , 0.31826955, 0.06778714,\n",
       "       0.56494367, 0.09561288, 0.50365593, 0.30806338, 0.79247489,\n",
       "       0.06976744, 0.02960292, 0.24718191, 0.54407433, 0.78612778,\n",
       "       0.10317863, 0.19914696, 0.35670765, 0.46222201, 0.00908906,\n",
       "       0.68589418, 0.39220068, 0.19386615, 0.44094649, 0.23545241,\n",
       "       0.25647405, 0.27739414, 0.8531025 , 0.06600995, 0.76637557,\n",
       "       0.86010966, 0.57129078, 0.58241086, 0.26129787, 0.5608815 ,\n",
       "       0.78064386, 0.31862498, 0.3037981 , 0.18340611, 0.60774855,\n",
       "       0.52269726, 0.64014423, 0.14572967, 0.25083781, 0.35127452,\n",
       "       0.59109374, 0.0235097 , 0.31491825, 0.02137707, 0.67061036,\n",
       "       0.55250331, 0.30227482, 0.30750483, 0.23926068, 0.04026607,\n",
       "       0.1975221 , 0.30136083, 0.30547375, 0.83126843, 0.25185337,\n",
       "       0.85899256, 0.82421044, 0.24393215, 0.05214786, 0.37178835,\n",
       "       0.55641312, 0.28866661, 0.24657257, 0.42591653, 0.38859553,\n",
       "       0.32014827, 0.17350463, 0.78155781, 0.3193866 , 0.73540164,\n",
       "       0.77592157, 0.6280593 , 0.31958972, 0.06946278, 0.81197319,\n",
       "       0.04727329, 0.62181377, 0.38935719, 0.50309739, 0.27795268,\n",
       "       0.45491013, 0.14344471, 0.81908193, 0.29227177, 0.82187467,\n",
       "       0.05377272, 0.18949934, 0.29643547, 0.89042347, 0.82527672,\n",
       "       0.03935209, 0.04849193, 0.22148877, 0.67644967, 0.62054434,\n",
       "       0.41454252, 0.14867471, 0.39367321, 0.63953485, 0.04925358,\n",
       "       0.4414035 , 0.00868285, 0.52036153, 0.79704478, 0.76657865,\n",
       "       0.34604447, 0.74723266, 0.30953591, 0.82837411, 0.04341424,\n",
       "       0.47994313, 0.62871943, 0.28699096, 0.30374735, 0.8637656 ,\n",
       "       0.3664568 , 0.84980196, 0.85086831, 0.50071086, 0.27906978,\n",
       "       0.55930739, 0.03447751, 0.66563425, 0.31832029, 0.73418304,\n",
       "       0.0162486 , 0.29465828, 0.73474152, 0.28059307, 0.05372194,\n",
       "       0.7762263 , 0.46222201, 0.16964557, 0.29953286, 0.05103078,\n",
       "       0.84675539, 0.40255917, 0.66959484, 0.31567992, 0.52239262,\n",
       "       0.01345587, 0.75058396, 0.16649741, 0.05747943, 0.42850616,\n",
       "       0.49436375, 0.41647203, 0.72392609, 0.44952779, 0.46669036,\n",
       "       0.76002846, 0.83964658, 0.29846655, 0.68071491, 0.52137709,\n",
       "       0.06529908, 0.75962224, 0.89666908, 0.68289836, 0.88255304,\n",
       "       0.04153549, 0.78617853, 0.65415862, 0.82426119, 0.68076574,\n",
       "       0.56687314, 0.4160658 , 0.00726109, 0.97303749, 0.22732812,\n",
       "       0.28795574, 0.79450593, 0.56753326, 0.28445212, 0.04544531,\n",
       "       0.67050879, 0.81847263])"
      ]
     },
     "execution_count": 46,
     "metadata": {},
     "output_type": "execute_result"
    }
   ],
   "source": [
    "y_temp"
   ]
  },
  {
   "cell_type": "markdown",
   "metadata": {},
   "source": [
    "# STRATEGY"
   ]
  },
  {
   "cell_type": "markdown",
   "metadata": {},
   "source": [
    "http://cs229.stanford.edu/proj2017/final-reports/5241098.pdf"
   ]
  },
  {
   "cell_type": "markdown",
   "metadata": {},
   "source": [
    "We consider a simple algorithmic trading strategy based\n",
    "on the prediction by the model. At day t, an investor buys\n",
    "one share of INTC stock if the predicted price is higher\n",
    "than the current actual adjusted closing price. Otherwise,\n",
    "he or she sells one share of INTC stock. The strategy st\n",
    "can be described as:\n",
    "st =\n",
    "(\n",
    "+1 if yˆt+1 > yt\n",
    "−1 if yˆt+1 ≤ yt"
   ]
  },
  {
   "cell_type": "code",
   "execution_count": 49,
   "metadata": {},
   "outputs": [],
   "source": [
    "y_pred # prediction\n",
    "pass"
   ]
  },
  {
   "cell_type": "code",
   "execution_count": 50,
   "metadata": {},
   "outputs": [],
   "source": [
    "x_test_t # window\n",
    "pass"
   ]
  },
  {
   "cell_type": "code",
   "execution_count": 51,
   "metadata": {},
   "outputs": [],
   "source": [
    "# x_t : train data\n",
    "# x_val: validation data\n",
    "# x_test_t: test data"
   ]
  },
  {
   "cell_type": "markdown",
   "metadata": {},
   "source": [
    "TODO\n",
    "1. get data OK\n",
    "2. write trading algorithm (function of the prediction) OK\n",
    "3. compute returns\n",
    "\n",
    "4. compute sharpe ratio of the strategy"
   ]
  },
  {
   "cell_type": "code",
   "execution_count": 57,
   "metadata": {},
   "outputs": [],
   "source": [
    "y_pred_orig # predicted data\n",
    "pass"
   ]
  },
  {
   "cell_type": "code",
   "execution_count": 58,
   "metadata": {},
   "outputs": [],
   "source": [
    "y_test_t_orig # real data\n",
    "pass"
   ]
  },
  {
   "cell_type": "code",
   "execution_count": 145,
   "metadata": {},
   "outputs": [
    {
     "data": {
      "text/plain": [
       "True"
      ]
     },
     "execution_count": 145,
     "metadata": {},
     "output_type": "execute_result"
    }
   ],
   "source": [
    "len(predicted_data) == len(real_data)"
   ]
  },
  {
   "cell_type": "code",
   "execution_count": 146,
   "metadata": {},
   "outputs": [
    {
     "data": {
      "text/plain": [
       "(numpy.ndarray, numpy.float32)"
      ]
     },
     "execution_count": 146,
     "metadata": {},
     "output_type": "execute_result"
    }
   ],
   "source": [
    "assert len(predicted_data) == len(real_data)\n",
    "type(predicted_data), type(predicted_data[0])"
   ]
  },
  {
   "cell_type": "code",
   "execution_count": 105,
   "metadata": {},
   "outputs": [],
   "source": [
    "class strategy():\n",
    "    def __init__(self):\n",
    "        self.stocks = 0\n",
    "    \n",
    "    def take_action(self, today_real_price, tomorrow_forcasted_price):\n",
    "        \"\"\"\n",
    "         At day t, an investor buys one share of INTC stock if the predicted price \n",
    "         is higher than the current actual adjusted closing price.\n",
    "         Otherwise, he or she sells one share of INTC stock\"\"\"\n",
    "        if tomorrow_forcasted_price > today_real_price:\n",
    "            self.stocks += 1\n",
    "        else:\n",
    "            self.stocks -= 1\n",
    "    \n",
    "    def compute_daily_return(self, today_real_price, tomorrow_real_price):\n",
    "        \"\"\"\n",
    "         Using the\n",
    "indicator variable st\n",
    ", we can calculate a daily return of\n",
    "the strategy at day t + 1:\n",
    "rt+1 = st × log \u0012\n",
    "yt+1\n",
    "yt\n",
    "\u0013\n",
    "−\n",
    "        \"\"\"\n",
    "        import math\n",
    "        daily_return = self.stocks * math.log(tomorrow_real_price, today_real_price)\n",
    "        return daily_return\n",
    "            "
   ]
  },
  {
   "cell_type": "code",
   "execution_count": 147,
   "metadata": {},
   "outputs": [],
   "source": [
    "def execute_strategy(strategy, predicted_data, verbose=True):\n",
    "    \"\"\"\n",
    "    args: strategy to execute\n",
    "    \"\"\"\n",
    "    cumulative_return = 0\n",
    "    for day, today_real_price in enumerate(real_data[:-1]):\n",
    "        # day by day and execute my strategy\n",
    "        today_predicted_price = predicted_data[day]\n",
    "        if verbose: print(day, today_real_price, today_predicted_price)\n",
    "        \n",
    "        strategy.take_action(today_real_price, predicted_data[day + 1])\n",
    "        today_return = strategy.compute_daily_return(today_real_price, real_data[day + 1])\n",
    "        # metric: cumulative return\n",
    "        # sum of all the returns\n",
    "        cumulative_return += today_return\n",
    "    return cumulative_return"
   ]
  },
  {
   "cell_type": "code",
   "execution_count": 149,
   "metadata": {},
   "outputs": [
    {
     "name": "stdout",
     "output_type": "stream",
     "text": [
      "992.6346143371755\n"
     ]
    }
   ],
   "source": [
    "lstm_strategy = strategy() # you need initialize this every time\n",
    "lstm_predicted_data = y_pred_orig # find prediction data\n",
    "\n",
    "real_data = y_test_t_orig\n",
    "\n",
    "lstm_strategy_return = execute_strategy(lstm_strategy, lstm_predicted_data, verbose=False)\n",
    "lstm_strategy.stocks # how is my stock balance at the end of the execution:?\n",
    "print(lstm_strategy_return)"
   ]
  },
  {
   "cell_type": "code",
   "execution_count": 150,
   "metadata": {},
   "outputs": [
    {
     "name": "stdout",
     "output_type": "stream",
     "text": [
      "992.6346143371755\n"
     ]
    }
   ],
   "source": [
    "regressor_strategy = strategy()\n",
    "regression_predicted_data = y_pred_orig # TODO: find this\n",
    "real_data = y_test_t_orig\n",
    "regression_strategy_return = execute_strategy(regressor_strategy, regression_predicted_data, verbose=False)\n",
    "regressor_strategy.stocks\n",
    "print(regression_strategy_return)"
   ]
  },
  {
   "cell_type": "code",
   "execution_count": null,
   "metadata": {},
   "outputs": [],
   "source": []
  }
 ],
 "metadata": {
  "kernelspec": {
   "display_name": "Python 3",
   "language": "python",
   "name": "python3"
  },
  "language_info": {
   "codemirror_mode": {
    "name": "ipython",
    "version": 3
   },
   "file_extension": ".py",
   "mimetype": "text/x-python",
   "name": "python",
   "nbconvert_exporter": "python",
   "pygments_lexer": "ipython3",
   "version": "3.6.5"
  }
 },
 "nbformat": 4,
 "nbformat_minor": 2
}
