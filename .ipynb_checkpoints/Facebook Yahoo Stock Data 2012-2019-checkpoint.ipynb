{
 "cells": [
  {
   "cell_type": "markdown",
   "metadata": {},
   "source": [
    "# FACEBOOK DATA FROM YAHOO FINANCE"
   ]
  },
  {
   "cell_type": "code",
   "execution_count": 1,
   "metadata": {},
   "outputs": [],
   "source": [
    "import pandas as pd\n",
    "import numpy as np\n",
    "from matplotlib import pyplot as plt\n",
    "%matplotlib inline"
   ]
  },
  {
   "cell_type": "code",
   "execution_count": 2,
   "metadata": {},
   "outputs": [],
   "source": [
    "df = pd.read_csv(\"C:/Users/ASUS/Desktop/FMI/Licenta OB/Overall Code/packtpub-src/csv/FB.csv\")"
   ]
  },
  {
   "cell_type": "code",
   "execution_count": 3,
   "metadata": {},
   "outputs": [
    {
     "data": {
      "text/html": [
       "<div>\n",
       "<style scoped>\n",
       "    .dataframe tbody tr th:only-of-type {\n",
       "        vertical-align: middle;\n",
       "    }\n",
       "\n",
       "    .dataframe tbody tr th {\n",
       "        vertical-align: top;\n",
       "    }\n",
       "\n",
       "    .dataframe thead th {\n",
       "        text-align: right;\n",
       "    }\n",
       "</style>\n",
       "<table border=\"1\" class=\"dataframe\">\n",
       "  <thead>\n",
       "    <tr style=\"text-align: right;\">\n",
       "      <th></th>\n",
       "      <th>Date</th>\n",
       "      <th>Open</th>\n",
       "      <th>High</th>\n",
       "      <th>Low</th>\n",
       "      <th>Close</th>\n",
       "      <th>Adj Close</th>\n",
       "      <th>Volume</th>\n",
       "    </tr>\n",
       "  </thead>\n",
       "  <tbody>\n",
       "    <tr>\n",
       "      <th>0</th>\n",
       "      <td>2017-05-30</td>\n",
       "      <td>151.970001</td>\n",
       "      <td>152.899994</td>\n",
       "      <td>151.639999</td>\n",
       "      <td>152.380005</td>\n",
       "      <td>152.380005</td>\n",
       "      <td>13226000</td>\n",
       "    </tr>\n",
       "    <tr>\n",
       "      <th>1</th>\n",
       "      <td>2017-05-31</td>\n",
       "      <td>152.699997</td>\n",
       "      <td>153.350006</td>\n",
       "      <td>151.089996</td>\n",
       "      <td>151.460007</td>\n",
       "      <td>151.460007</td>\n",
       "      <td>18023900</td>\n",
       "    </tr>\n",
       "    <tr>\n",
       "      <th>2</th>\n",
       "      <td>2017-06-01</td>\n",
       "      <td>151.750000</td>\n",
       "      <td>152.289993</td>\n",
       "      <td>150.300003</td>\n",
       "      <td>151.529999</td>\n",
       "      <td>151.529999</td>\n",
       "      <td>14530600</td>\n",
       "    </tr>\n",
       "    <tr>\n",
       "      <th>3</th>\n",
       "      <td>2017-06-02</td>\n",
       "      <td>151.850006</td>\n",
       "      <td>153.630005</td>\n",
       "      <td>151.300003</td>\n",
       "      <td>153.610001</td>\n",
       "      <td>153.610001</td>\n",
       "      <td>16854400</td>\n",
       "    </tr>\n",
       "    <tr>\n",
       "      <th>4</th>\n",
       "      <td>2017-06-05</td>\n",
       "      <td>153.639999</td>\n",
       "      <td>154.710007</td>\n",
       "      <td>153.410004</td>\n",
       "      <td>153.630005</td>\n",
       "      <td>153.630005</td>\n",
       "      <td>12520400</td>\n",
       "    </tr>\n",
       "  </tbody>\n",
       "</table>\n",
       "</div>"
      ],
      "text/plain": [
       "         Date        Open        High         Low       Close   Adj Close  \\\n",
       "0  2017-05-30  151.970001  152.899994  151.639999  152.380005  152.380005   \n",
       "1  2017-05-31  152.699997  153.350006  151.089996  151.460007  151.460007   \n",
       "2  2017-06-01  151.750000  152.289993  150.300003  151.529999  151.529999   \n",
       "3  2017-06-02  151.850006  153.630005  151.300003  153.610001  153.610001   \n",
       "4  2017-06-05  153.639999  154.710007  153.410004  153.630005  153.630005   \n",
       "\n",
       "     Volume  \n",
       "0  13226000  \n",
       "1  18023900  \n",
       "2  14530600  \n",
       "3  16854400  \n",
       "4  12520400  "
      ]
     },
     "execution_count": 3,
     "metadata": {},
     "output_type": "execute_result"
    }
   ],
   "source": [
    "df.head()"
   ]
  },
  {
   "cell_type": "code",
   "execution_count": 4,
   "metadata": {},
   "outputs": [
    {
     "data": {
      "text/html": [
       "<div>\n",
       "<style scoped>\n",
       "    .dataframe tbody tr th:only-of-type {\n",
       "        vertical-align: middle;\n",
       "    }\n",
       "\n",
       "    .dataframe tbody tr th {\n",
       "        vertical-align: top;\n",
       "    }\n",
       "\n",
       "    .dataframe thead th {\n",
       "        text-align: right;\n",
       "    }\n",
       "</style>\n",
       "<table border=\"1\" class=\"dataframe\">\n",
       "  <thead>\n",
       "    <tr style=\"text-align: right;\">\n",
       "      <th></th>\n",
       "      <th>Date</th>\n",
       "      <th>Open</th>\n",
       "      <th>High</th>\n",
       "      <th>Low</th>\n",
       "      <th>Close</th>\n",
       "      <th>Adj Close</th>\n",
       "      <th>Volume</th>\n",
       "    </tr>\n",
       "  </thead>\n",
       "  <tbody>\n",
       "    <tr>\n",
       "      <th>497</th>\n",
       "      <td>2019-05-21</td>\n",
       "      <td>184.570007</td>\n",
       "      <td>185.699997</td>\n",
       "      <td>183.889999</td>\n",
       "      <td>184.820007</td>\n",
       "      <td>184.820007</td>\n",
       "      <td>7502800</td>\n",
       "    </tr>\n",
       "    <tr>\n",
       "      <th>498</th>\n",
       "      <td>2019-05-22</td>\n",
       "      <td>184.729996</td>\n",
       "      <td>186.740005</td>\n",
       "      <td>183.610001</td>\n",
       "      <td>185.320007</td>\n",
       "      <td>185.320007</td>\n",
       "      <td>9213800</td>\n",
       "    </tr>\n",
       "    <tr>\n",
       "      <th>499</th>\n",
       "      <td>2019-05-23</td>\n",
       "      <td>182.419998</td>\n",
       "      <td>183.899994</td>\n",
       "      <td>179.669998</td>\n",
       "      <td>180.869995</td>\n",
       "      <td>180.869995</td>\n",
       "      <td>12768800</td>\n",
       "    </tr>\n",
       "    <tr>\n",
       "      <th>500</th>\n",
       "      <td>2019-05-24</td>\n",
       "      <td>182.330002</td>\n",
       "      <td>183.630005</td>\n",
       "      <td>180.830002</td>\n",
       "      <td>181.059998</td>\n",
       "      <td>181.059998</td>\n",
       "      <td>8807700</td>\n",
       "    </tr>\n",
       "    <tr>\n",
       "      <th>501</th>\n",
       "      <td>2019-05-28</td>\n",
       "      <td>181.539993</td>\n",
       "      <td>184.710007</td>\n",
       "      <td>181.449997</td>\n",
       "      <td>184.309998</td>\n",
       "      <td>184.309998</td>\n",
       "      <td>14832200</td>\n",
       "    </tr>\n",
       "  </tbody>\n",
       "</table>\n",
       "</div>"
      ],
      "text/plain": [
       "           Date        Open        High         Low       Close   Adj Close  \\\n",
       "497  2019-05-21  184.570007  185.699997  183.889999  184.820007  184.820007   \n",
       "498  2019-05-22  184.729996  186.740005  183.610001  185.320007  185.320007   \n",
       "499  2019-05-23  182.419998  183.899994  179.669998  180.869995  180.869995   \n",
       "500  2019-05-24  182.330002  183.630005  180.830002  181.059998  181.059998   \n",
       "501  2019-05-28  181.539993  184.710007  181.449997  184.309998  184.309998   \n",
       "\n",
       "       Volume  \n",
       "497   7502800  \n",
       "498   9213800  \n",
       "499  12768800  \n",
       "500   8807700  \n",
       "501  14832200  "
      ]
     },
     "execution_count": 4,
     "metadata": {},
     "output_type": "execute_result"
    }
   ],
   "source": [
    "df.tail()"
   ]
  },
  {
   "cell_type": "code",
   "execution_count": 5,
   "metadata": {},
   "outputs": [
    {
     "data": {
      "image/png": "[encoded data removed]",
      "text/plain": [
       "<Figure size 432x288 with 1 Axes>"
      ]
     },
     "metadata": {
      "needs_background": "light"
     },
     "output_type": "display_data"
    }
   ],
   "source": [
    "plt.figure()\n",
    "plt.title(\"FB stock price history\")\n",
    "plt.plot(df['Open'])\n",
    "#plt.plot(df[\"Close\"])\n",
    "#plt.plot(df[\"High\"])\n",
    "#plt.plot(df[\"Low\"])\n",
    "plt.ylabel('Price (USD)')\n",
    "plt.xlabel('Days')\n",
    "plt.legend(['Open', 'Close', 'High', 'Low'], loc='upper left')\n",
    "plt.show()"
   ]
  },
  {
   "cell_type": "code",
   "execution_count": 6,
   "metadata": {},
   "outputs": [
    {
     "data": {
      "image/png": "[encoded data removed]",
      "text/plain": [
       "<Figure size 432x288 with 1 Axes>"
      ]
     },
     "metadata": {
      "needs_background": "light"
     },
     "output_type": "display_data"
    }
   ],
   "source": [
    "plt.figure()\n",
    "plt.plot(df['Volume'])\n",
    "plt.title('FB stock volume history')\n",
    "plt.ylabel('Volume')\n",
    "plt.xlabel('Days')\n",
    "plt.show()"
   ]
  },
  {
   "cell_type": "code",
   "execution_count": 7,
   "metadata": {},
   "outputs": [
    {
     "name": "stdout",
     "output_type": "stream",
     "text": [
      "Checking if any null values are present\n",
      " Date         0\n",
      "Open         0\n",
      "High         0\n",
      "Low          0\n",
      "Close        0\n",
      "Adj Close    0\n",
      "Volume       0\n",
      "dtype: int64\n"
     ]
    }
   ],
   "source": [
    "print('Checking if any null values are present\\n', df.isna().sum())"
   ]
  },
  {
   "cell_type": "markdown",
   "metadata": {},
   "source": [
    "### Normalizing the data\n",
    "* Split the data into train, test\n",
    "* Normalize\n",
    "* Covert the DataFrame to ndarray"
   ]
  },
  {
   "cell_type": "code",
   "execution_count": 8,
   "metadata": {},
   "outputs": [],
   "source": [
    "#! pip install keras"
   ]
  },
  {
   "cell_type": "code",
   "execution_count": 9,
   "metadata": {},
   "outputs": [],
   "source": [
    "#! pip install np_utils"
   ]
  },
  {
   "cell_type": "code",
   "execution_count": 10,
   "metadata": {},
   "outputs": [],
   "source": [
    "#! pip install tensorflow"
   ]
  },
  {
   "cell_type": "code",
   "execution_count": 11,
   "metadata": {},
   "outputs": [],
   "source": [
    "#! pip install numpy --upgrade --user"
   ]
  },
  {
   "cell_type": "code",
   "execution_count": 22,
   "metadata": {},
   "outputs": [
    {
     "name": "stdout",
     "output_type": "stream",
     "text": [
      "Checking GPU available []\n"
     ]
    }
   ],
   "source": [
    "from tqdm._tqdm_notebook import tqdm_notebook\n",
    "from sklearn.preprocessing import MinMaxScaler\n",
    "from sklearn.model_selection import train_test_split\n",
    "from sklearn.metrics import mean_squared_error\n",
    "from keras.models import Sequential, load_model\n",
    "from keras.layers import Dense, Dropout\n",
    "from keras.layers import LSTM\n",
    "from keras import optimizers\n",
    "from keras import backend as K\n",
    "\n",
    "print('Checking GPU available', K.tensorflow_backend._get_available_gpus())\n"
   ]
  },
  {
   "cell_type": "code",
   "execution_count": 23,
   "metadata": {},
   "outputs": [],
   "source": [
    "from keras import losses"
   ]
  },
  {
   "cell_type": "code",
   "execution_count": 24,
   "metadata": {},
   "outputs": [],
   "source": [
    "TIME_STEPS = 60\n",
    "BATCH_SIZE = 20"
   ]
  },
  {
   "cell_type": "code",
   "execution_count": 25,
   "metadata": {},
   "outputs": [],
   "source": [
    "params = {\n",
    "    \"batch_size\": 20,  # 20<16<10, 25 was a bust\n",
    "    \"epochs\": 300,\n",
    "    \"lr\": 0.00010000,\n",
    "    \"time_steps\": 60\n",
    "}"
   ]
  },
  {
   "cell_type": "code",
   "execution_count": 26,
   "metadata": {},
   "outputs": [
    {
     "name": "stdout",
     "output_type": "stream",
     "text": [
      "Train and test set 401 101\n"
     ]
    }
   ],
   "source": [
    "\n",
    "train_cols = ['Open', 'High', 'Low', 'Close', 'Volume']\n",
    "df_train, df_test = train_test_split(df, train_size=0.8, test_size=0.2, shuffle=False)\n",
    "print('Train and test set', len(df_train), len(df_test))\n",
    "\n",
    "#scale the feature MinMax, build array\n",
    "x = df_train.loc[:, train_cols].values\n",
    "min_max_scaler = MinMaxScaler()\n",
    "x_train = min_max_scaler.fit_transform(x)\n",
    "x_test = min_max_scaler.transform(df_test.loc[:, train_cols])"
   ]
  },
  {
   "cell_type": "code",
   "execution_count": 27,
   "metadata": {},
   "outputs": [],
   "source": [
    "def build_timeseries(mat, y_col_index):\n",
    "    # y_col_index is the index of column that would act as output column\n",
    "    # total nb of time-series samples would be len(mat) - TIME_STEPS\n",
    "    dim_0 = mat.shape[0] - TIME_STEPS\n",
    "    dim_1 = mat.shape[1]\n",
    "    x = np.zeros((dim_0, TIME_STEPS, dim_1))\n",
    "    y = np.zeros((dim_0,))\n",
    "    \n",
    "    for i in tqdm_notebook(range(dim_0)):\n",
    "        x[i] = mat[i:TIME_STEPS+i]\n",
    "        y[i] = mat[TIME_STEPS+i, y_col_index]\n",
    "    \n",
    "    print('length of time-series i/o', x.shape, y.shape)\n",
    "    return x, y"
   ]
  },
  {
   "cell_type": "code",
   "execution_count": 28,
   "metadata": {},
   "outputs": [],
   "source": [
    "def trim_dataset(mat, batch_size):\n",
    "    \"\"\"\n",
    "    trims dataset to a size that is divisible by BATCH_SIZE\n",
    "    \"\"\"\n",
    "    no_of_rows_drop = mat.shape[0] % batch_size\n",
    "    if no_of_rows_drop > 0:\n",
    "        return mat[:-no_of_rows_drop]\n",
    "    else:\n",
    "        return mat"
   ]
  },
  {
   "cell_type": "code",
   "execution_count": 29,
   "metadata": {},
   "outputs": [
    {
     "data": {
      "application/vnd.jupyter.widget-view+json": {
       "model_id": "b25fc40a5ece4845a114fe95a19499e0",
       "version_major": 2,
       "version_minor": 0
      },
      "text/plain": [
       "HBox(children=(IntProgress(value=0, max=341), HTML(value='')))"
      ]
     },
     "metadata": {},
     "output_type": "display_data"
    },
    {
     "name": "stdout",
     "output_type": "stream",
     "text": [
      "\n",
      "length of time-series i/o (341, 60, 5) (341,)\n"
     ]
    },
    {
     "data": {
      "application/vnd.jupyter.widget-view+json": {
       "model_id": "cc59afd592d9407589a75ba80cc274eb",
       "version_major": 2,
       "version_minor": 0
      },
      "text/plain": [
       "HBox(children=(IntProgress(value=0, max=41), HTML(value='')))"
      ]
     },
     "metadata": {},
     "output_type": "display_data"
    },
    {
     "name": "stdout",
     "output_type": "stream",
     "text": [
      "\n",
      "length of time-series i/o (41, 60, 5) (41,)\n"
     ]
    }
   ],
   "source": [
    "x_t, y_t = build_timeseries(x_train, 3)\n",
    "x_t = trim_dataset(x_t, BATCH_SIZE)\n",
    "y_t = trim_dataset(y_t, BATCH_SIZE)\n",
    "\n",
    "x_temp, y_temp = build_timeseries(x_test, 3)\n",
    "x_val, x_test_t = np.split(trim_dataset(x_temp, BATCH_SIZE), 2)\n",
    "y_val, y_test_t = np.split(trim_dataset(y_temp, BATCH_SIZE), 2)"
   ]
  },
  {
   "cell_type": "code",
   "execution_count": 45,
   "metadata": {},
   "outputs": [
    {
     "data": {
      "text/plain": [
       "(101, 5)"
      ]
     },
     "execution_count": 45,
     "metadata": {},
     "output_type": "execute_result"
    }
   ],
   "source": [
    "\n"
   ]
  },
  {
   "cell_type": "code",
   "execution_count": 30,
   "metadata": {},
   "outputs": [],
   "source": [
    "def create_model():\n",
    "    lstm_model = Sequential()\n",
    "    # (batch_size, time_steps, data_dim)\n",
    "    lstm_model.add(LSTM(100, batch_input_shape=(BATCH_SIZE, TIME_STEPS, x_t.shape[2]),\n",
    "                       dropout=0.0, recurrent_dropout=0.0, stateful=True, return_sequences=True,\n",
    "                       kernel_initializer='random_uniform'))\n",
    "    lstm_model.add(Dropout(0.4))\n",
    "    lstm_model.add(LSTM(60, dropout=0.0))\n",
    "    lstm_model.add(Dropout(0.4))\n",
    "    lstm_model.add(Dense(20, activation='relu'))\n",
    "    lstm_model.add(Dense(1, activation='linear'))\n",
    "    optimizer = optimizers.RMSprop(lr=params['lr'])\n",
    "    lstm_model.compile(loss='mean_squared_error', optimizer=optimizer)\n",
    "    # lstm_model.compile(loss=losses.mean_squarred_error, optimizer=optimizer)\n",
    "    return lstm_model"
   ]
  },
  {
   "cell_type": "code",
   "execution_count": 31,
   "metadata": {},
   "outputs": [
    {
     "name": "stdout",
     "output_type": "stream",
     "text": [
      "Train on 340 samples, validate on 20 samples\n",
      "Epoch 1/300\n",
      " - 4s - loss: 0.2023 - val_loss: 0.1782\n",
      "Epoch 2/300\n",
      " - 1s - loss: 0.0896 - val_loss: 0.0661\n",
      "Epoch 3/300\n",
      " - 1s - loss: 0.0270 - val_loss: 0.0293\n",
      "Epoch 4/300\n",
      " - 1s - loss: 0.0209 - val_loss: 0.0301\n",
      "Epoch 5/300\n",
      " - 1s - loss: 0.0191 - val_loss: 0.0321\n",
      "Epoch 6/300\n",
      " - 1s - loss: 0.0168 - val_loss: 0.0297\n",
      "Epoch 7/300\n",
      " - 1s - loss: 0.0165 - val_loss: 0.0306\n",
      "Epoch 8/300\n",
      " - 1s - loss: 0.0159 - val_loss: 0.0269\n",
      "Epoch 9/300\n",
      " - 1s - loss: 0.0172 - val_loss: 0.0276\n",
      "Epoch 10/300\n",
      " - 1s - loss: 0.0185 - val_loss: 0.0238\n",
      "Epoch 11/300\n",
      " - 1s - loss: 0.0160 - val_loss: 0.0277\n",
      "Epoch 12/300\n",
      " - 1s - loss: 0.0144 - val_loss: 0.0254\n",
      "Epoch 13/300\n",
      " - 1s - loss: 0.0132 - val_loss: 0.0285\n",
      "Epoch 14/300\n",
      " - 1s - loss: 0.0152 - val_loss: 0.0252\n",
      "Epoch 15/300\n",
      " - 1s - loss: 0.0145 - val_loss: 0.0238\n",
      "Epoch 16/300\n",
      " - 1s - loss: 0.0178 - val_loss: 0.0216\n",
      "Epoch 17/300\n",
      " - 1s - loss: 0.0119 - val_loss: 0.0214\n",
      "Epoch 18/300\n",
      " - 1s - loss: 0.0138 - val_loss: 0.0209\n",
      "Epoch 19/300\n",
      " - 1s - loss: 0.0142 - val_loss: 0.0219\n",
      "Epoch 20/300\n",
      " - 1s - loss: 0.0142 - val_loss: 0.0201\n",
      "Epoch 21/300\n",
      " - 1s - loss: 0.0129 - val_loss: 0.0240\n",
      "Epoch 22/300\n",
      " - 1s - loss: 0.0124 - val_loss: 0.0238\n",
      "Epoch 23/300\n",
      " - 1s - loss: 0.0133 - val_loss: 0.0221\n",
      "Epoch 24/300\n",
      " - 1s - loss: 0.0130 - val_loss: 0.0227\n",
      "Epoch 25/300\n",
      " - 1s - loss: 0.0121 - val_loss: 0.0204\n",
      "Epoch 26/300\n",
      " - 1s - loss: 0.0113 - val_loss: 0.0220\n",
      "Epoch 27/300\n",
      " - 1s - loss: 0.0124 - val_loss: 0.0204\n",
      "Epoch 28/300\n",
      " - 1s - loss: 0.0128 - val_loss: 0.0178\n",
      "Epoch 29/300\n",
      " - 1s - loss: 0.0107 - val_loss: 0.0195\n",
      "Epoch 30/300\n",
      " - 1s - loss: 0.0103 - val_loss: 0.0165\n",
      "Epoch 31/300\n",
      " - 1s - loss: 0.0105 - val_loss: 0.0202\n",
      "Epoch 32/300\n",
      " - 1s - loss: 0.0121 - val_loss: 0.0225\n",
      "Epoch 33/300\n",
      " - 1s - loss: 0.0123 - val_loss: 0.0186\n",
      "Epoch 34/300\n",
      " - 1s - loss: 0.0124 - val_loss: 0.0183\n",
      "Epoch 35/300\n",
      " - 1s - loss: 0.0103 - val_loss: 0.0195\n",
      "Epoch 36/300\n",
      " - 1s - loss: 0.0093 - val_loss: 0.0191\n",
      "Epoch 37/300\n",
      " - 1s - loss: 0.0112 - val_loss: 0.0190\n",
      "Epoch 38/300\n",
      " - 1s - loss: 0.0109 - val_loss: 0.0168\n",
      "Epoch 39/300\n",
      " - 1s - loss: 0.0098 - val_loss: 0.0167\n",
      "Epoch 40/300\n",
      " - 1s - loss: 0.0094 - val_loss: 0.0195\n",
      "Epoch 41/300\n",
      " - 1s - loss: 0.0096 - val_loss: 0.0196\n",
      "Epoch 42/300\n",
      " - 1s - loss: 0.0118 - val_loss: 0.0144\n",
      "Epoch 43/300\n",
      " - 1s - loss: 0.0098 - val_loss: 0.0178\n",
      "Epoch 44/300\n",
      " - 1s - loss: 0.0089 - val_loss: 0.0189\n",
      "Epoch 45/300\n",
      " - 1s - loss: 0.0119 - val_loss: 0.0127\n",
      "Epoch 46/300\n",
      " - 1s - loss: 0.0095 - val_loss: 0.0152\n",
      "Epoch 47/300\n",
      " - 1s - loss: 0.0091 - val_loss: 0.0144\n",
      "Epoch 48/300\n",
      " - 1s - loss: 0.0105 - val_loss: 0.0138\n",
      "Epoch 49/300\n",
      " - 1s - loss: 0.0089 - val_loss: 0.0184\n",
      "Epoch 50/300\n",
      " - 1s - loss: 0.0091 - val_loss: 0.0187\n",
      "Epoch 51/300\n",
      " - 1s - loss: 0.0089 - val_loss: 0.0161\n",
      "Epoch 52/300\n",
      " - 1s - loss: 0.0078 - val_loss: 0.0163\n",
      "Epoch 53/300\n",
      " - 1s - loss: 0.0082 - val_loss: 0.0161\n",
      "Epoch 54/300\n",
      " - 1s - loss: 0.0096 - val_loss: 0.0154\n",
      "Epoch 55/300\n",
      " - 1s - loss: 0.0097 - val_loss: 0.0145\n",
      "Epoch 56/300\n",
      " - 1s - loss: 0.0093 - val_loss: 0.0144\n",
      "Epoch 57/300\n",
      " - 1s - loss: 0.0084 - val_loss: 0.0144\n",
      "Epoch 58/300\n",
      " - 1s - loss: 0.0100 - val_loss: 0.0125\n",
      "Epoch 59/300\n",
      " - 1s - loss: 0.0093 - val_loss: 0.0137\n",
      "Epoch 60/300\n",
      " - 1s - loss: 0.0084 - val_loss: 0.0130\n",
      "Epoch 61/300\n",
      " - 1s - loss: 0.0086 - val_loss: 0.0140\n",
      "Epoch 62/300\n",
      " - 1s - loss: 0.0098 - val_loss: 0.0158\n",
      "Epoch 63/300\n",
      " - 1s - loss: 0.0089 - val_loss: 0.0127\n",
      "Epoch 64/300\n",
      " - 1s - loss: 0.0089 - val_loss: 0.0142\n",
      "Epoch 65/300\n",
      " - 1s - loss: 0.0085 - val_loss: 0.0131\n",
      "Epoch 66/300\n",
      " - 1s - loss: 0.0078 - val_loss: 0.0125\n",
      "Epoch 67/300\n",
      " - 1s - loss: 0.0087 - val_loss: 0.0149\n",
      "Epoch 68/300\n",
      " - 1s - loss: 0.0100 - val_loss: 0.0126\n",
      "Epoch 69/300\n",
      " - 1s - loss: 0.0085 - val_loss: 0.0122\n",
      "Epoch 70/300\n",
      " - 1s - loss: 0.0077 - val_loss: 0.0132\n",
      "Epoch 71/300\n",
      " - 1s - loss: 0.0086 - val_loss: 0.0141\n",
      "Epoch 72/300\n",
      " - 1s - loss: 0.0082 - val_loss: 0.0129\n",
      "Epoch 73/300\n",
      " - 1s - loss: 0.0086 - val_loss: 0.0134\n",
      "Epoch 74/300\n",
      " - 1s - loss: 0.0087 - val_loss: 0.0139\n",
      "Epoch 75/300\n",
      " - 1s - loss: 0.0088 - val_loss: 0.0147\n",
      "Epoch 76/300\n",
      " - 1s - loss: 0.0078 - val_loss: 0.0138\n",
      "Epoch 77/300\n",
      " - 1s - loss: 0.0081 - val_loss: 0.0124\n",
      "Epoch 78/300\n",
      " - 1s - loss: 0.0090 - val_loss: 0.0137\n",
      "Epoch 79/300\n",
      " - 1s - loss: 0.0073 - val_loss: 0.0135\n",
      "Epoch 80/300\n",
      " - 1s - loss: 0.0083 - val_loss: 0.0129\n",
      "Epoch 81/300\n",
      " - 1s - loss: 0.0077 - val_loss: 0.0155\n",
      "Epoch 82/300\n",
      " - 1s - loss: 0.0076 - val_loss: 0.0109\n",
      "Epoch 83/300\n",
      " - 1s - loss: 0.0081 - val_loss: 0.0115\n",
      "Epoch 84/300\n",
      " - 1s - loss: 0.0079 - val_loss: 0.0131\n",
      "Epoch 85/300\n",
      " - 1s - loss: 0.0086 - val_loss: 0.0113\n",
      "Epoch 86/300\n",
      " - 1s - loss: 0.0081 - val_loss: 0.0112\n",
      "Epoch 87/300\n",
      " - 1s - loss: 0.0074 - val_loss: 0.0126\n",
      "Epoch 88/300\n",
      " - 1s - loss: 0.0071 - val_loss: 0.0133\n",
      "Epoch 89/300\n",
      " - 1s - loss: 0.0069 - val_loss: 0.0127\n",
      "Epoch 90/300\n",
      " - 1s - loss: 0.0079 - val_loss: 0.0124\n",
      "Epoch 91/300\n",
      " - 1s - loss: 0.0081 - val_loss: 0.0095\n",
      "Epoch 92/300\n",
      " - 1s - loss: 0.0073 - val_loss: 0.0151\n",
      "Epoch 93/300\n",
      " - 1s - loss: 0.0084 - val_loss: 0.0102\n",
      "Epoch 94/300\n",
      " - 1s - loss: 0.0075 - val_loss: 0.0124\n",
      "Epoch 95/300\n",
      " - 1s - loss: 0.0066 - val_loss: 0.0133\n",
      "Epoch 96/300\n",
      " - 1s - loss: 0.0084 - val_loss: 0.0116\n",
      "Epoch 97/300\n",
      " - 1s - loss: 0.0076 - val_loss: 0.0110\n",
      "Epoch 98/300\n",
      " - 1s - loss: 0.0076 - val_loss: 0.0116\n",
      "Epoch 99/300\n",
      " - 1s - loss: 0.0076 - val_loss: 0.0120\n",
      "Epoch 100/300\n",
      " - 1s - loss: 0.0077 - val_loss: 0.0122\n",
      "Epoch 101/300\n",
      " - 1s - loss: 0.0068 - val_loss: 0.0101\n",
      "Epoch 102/300\n",
      " - 1s - loss: 0.0077 - val_loss: 0.0110\n",
      "Epoch 103/300\n",
      " - 1s - loss: 0.0085 - val_loss: 0.0103\n",
      "Epoch 104/300\n",
      " - 1s - loss: 0.0077 - val_loss: 0.0126\n",
      "Epoch 105/300\n",
      " - 1s - loss: 0.0073 - val_loss: 0.0107\n",
      "Epoch 106/300\n",
      " - 1s - loss: 0.0074 - val_loss: 0.0089\n",
      "Epoch 107/300\n",
      " - 1s - loss: 0.0071 - val_loss: 0.0109\n",
      "Epoch 108/300\n",
      " - 1s - loss: 0.0067 - val_loss: 0.0117\n",
      "Epoch 109/300\n",
      " - 1s - loss: 0.0067 - val_loss: 0.0107\n",
      "Epoch 110/300\n",
      " - 1s - loss: 0.0069 - val_loss: 0.0116\n",
      "Epoch 111/300\n",
      " - 1s - loss: 0.0058 - val_loss: 0.0126\n",
      "Epoch 112/300\n",
      " - 1s - loss: 0.0074 - val_loss: 0.0097\n",
      "Epoch 113/300\n",
      " - 1s - loss: 0.0065 - val_loss: 0.0111\n",
      "Epoch 114/300\n",
      " - 1s - loss: 0.0057 - val_loss: 0.0123\n",
      "Epoch 115/300\n",
      " - 1s - loss: 0.0073 - val_loss: 0.0113\n",
      "Epoch 116/300\n",
      " - 1s - loss: 0.0076 - val_loss: 0.0125\n",
      "Epoch 117/300\n",
      " - 1s - loss: 0.0078 - val_loss: 0.0104\n",
      "Epoch 118/300\n",
      " - 1s - loss: 0.0067 - val_loss: 0.0106\n",
      "Epoch 119/300\n",
      " - 1s - loss: 0.0076 - val_loss: 0.0101\n",
      "Epoch 120/300\n",
      " - 1s - loss: 0.0068 - val_loss: 0.0118\n",
      "Epoch 121/300\n",
      " - 1s - loss: 0.0071 - val_loss: 0.0109\n",
      "Epoch 122/300\n",
      " - 1s - loss: 0.0075 - val_loss: 0.0093\n",
      "Epoch 123/300\n",
      " - 1s - loss: 0.0070 - val_loss: 0.0094\n",
      "Epoch 124/300\n",
      " - 1s - loss: 0.0068 - val_loss: 0.0108\n",
      "Epoch 125/300\n",
      " - 1s - loss: 0.0064 - val_loss: 0.0096\n",
      "Epoch 126/300\n",
      " - 1s - loss: 0.0072 - val_loss: 0.0114\n",
      "Epoch 127/300\n",
      " - 1s - loss: 0.0069 - val_loss: 0.0081\n",
      "Epoch 128/300\n",
      " - 1s - loss: 0.0063 - val_loss: 0.0110\n",
      "Epoch 129/300\n",
      " - 1s - loss: 0.0060 - val_loss: 0.0117\n",
      "Epoch 130/300\n",
      " - 1s - loss: 0.0074 - val_loss: 0.0101\n",
      "Epoch 131/300\n",
      " - 1s - loss: 0.0065 - val_loss: 0.0115\n",
      "Epoch 132/300\n",
      " - 1s - loss: 0.0061 - val_loss: 0.0117\n",
      "Epoch 133/300\n",
      " - 1s - loss: 0.0066 - val_loss: 0.0099\n",
      "Epoch 134/300\n",
      " - 1s - loss: 0.0064 - val_loss: 0.0096\n",
      "Epoch 135/300\n",
      " - 1s - loss: 0.0071 - val_loss: 0.0121\n",
      "Epoch 136/300\n",
      " - 1s - loss: 0.0060 - val_loss: 0.0103\n",
      "Epoch 137/300\n",
      " - 1s - loss: 0.0072 - val_loss: 0.0089\n",
      "Epoch 138/300\n",
      " - 1s - loss: 0.0068 - val_loss: 0.0112\n",
      "Epoch 139/300\n",
      " - 1s - loss: 0.0065 - val_loss: 0.0097\n",
      "Epoch 140/300\n",
      " - 1s - loss: 0.0066 - val_loss: 0.0112\n",
      "Epoch 141/300\n",
      " - 1s - loss: 0.0070 - val_loss: 0.0106\n",
      "Epoch 142/300\n",
      " - 1s - loss: 0.0074 - val_loss: 0.0111\n",
      "Epoch 143/300\n",
      " - 1s - loss: 0.0060 - val_loss: 0.0098\n",
      "Epoch 144/300\n",
      " - 1s - loss: 0.0067 - val_loss: 0.0112\n",
      "Epoch 145/300\n",
      " - 1s - loss: 0.0065 - val_loss: 0.0098\n",
      "Epoch 146/300\n",
      " - 1s - loss: 0.0071 - val_loss: 0.0097\n",
      "Epoch 147/300\n",
      " - 1s - loss: 0.0062 - val_loss: 0.0099\n",
      "Epoch 148/300\n",
      " - 1s - loss: 0.0069 - val_loss: 0.0112\n",
      "Epoch 149/300\n",
      " - 1s - loss: 0.0055 - val_loss: 0.0113\n",
      "Epoch 150/300\n",
      " - 1s - loss: 0.0059 - val_loss: 0.0107\n",
      "Epoch 151/300\n",
      " - 1s - loss: 0.0064 - val_loss: 0.0122\n",
      "Epoch 152/300\n",
      " - 1s - loss: 0.0058 - val_loss: 0.0114\n",
      "Epoch 153/300\n",
      " - 1s - loss: 0.0065 - val_loss: 0.0086\n"
     ]
    },
    {
     "name": "stdout",
     "output_type": "stream",
     "text": [
      "Epoch 154/300\n",
      " - 1s - loss: 0.0060 - val_loss: 0.0080\n",
      "Epoch 155/300\n",
      " - 1s - loss: 0.0063 - val_loss: 0.0103\n",
      "Epoch 156/300\n",
      " - 1s - loss: 0.0053 - val_loss: 0.0105\n",
      "Epoch 157/300\n",
      " - 1s - loss: 0.0061 - val_loss: 0.0116\n",
      "Epoch 158/300\n",
      " - 1s - loss: 0.0067 - val_loss: 0.0085\n",
      "Epoch 159/300\n",
      " - 1s - loss: 0.0057 - val_loss: 0.0102\n",
      "Epoch 160/300\n",
      " - 1s - loss: 0.0060 - val_loss: 0.0087\n",
      "Epoch 161/300\n",
      " - 1s - loss: 0.0062 - val_loss: 0.0105\n",
      "Epoch 162/300\n",
      " - 1s - loss: 0.0063 - val_loss: 0.0102\n",
      "Epoch 163/300\n",
      " - 1s - loss: 0.0062 - val_loss: 0.0096\n",
      "Epoch 164/300\n",
      " - 1s - loss: 0.0065 - val_loss: 0.0088\n",
      "Epoch 165/300\n",
      " - 1s - loss: 0.0062 - val_loss: 0.0096\n",
      "Epoch 166/300\n",
      " - 1s - loss: 0.0058 - val_loss: 0.0104\n",
      "Epoch 167/300\n",
      " - 1s - loss: 0.0061 - val_loss: 0.0117\n",
      "Epoch 168/300\n",
      " - 1s - loss: 0.0068 - val_loss: 0.0122\n",
      "Epoch 169/300\n",
      " - 1s - loss: 0.0056 - val_loss: 0.0112\n",
      "Epoch 170/300\n",
      " - 1s - loss: 0.0061 - val_loss: 0.0117\n",
      "Epoch 171/300\n",
      " - 1s - loss: 0.0060 - val_loss: 0.0098\n",
      "Epoch 172/300\n",
      " - 1s - loss: 0.0064 - val_loss: 0.0091\n",
      "Epoch 173/300\n",
      " - 1s - loss: 0.0053 - val_loss: 0.0107\n",
      "Epoch 174/300\n",
      " - 1s - loss: 0.0054 - val_loss: 0.0095\n",
      "Epoch 175/300\n",
      " - 1s - loss: 0.0058 - val_loss: 0.0084\n",
      "Epoch 176/300\n",
      " - 1s - loss: 0.0059 - val_loss: 0.0100\n",
      "Epoch 177/300\n",
      " - 1s - loss: 0.0063 - val_loss: 0.0105\n",
      "Epoch 178/300\n",
      " - 1s - loss: 0.0065 - val_loss: 0.0087\n",
      "Epoch 179/300\n",
      " - 1s - loss: 0.0058 - val_loss: 0.0083\n",
      "Epoch 180/300\n",
      " - 1s - loss: 0.0052 - val_loss: 0.0088\n",
      "Epoch 181/300\n",
      " - 1s - loss: 0.0056 - val_loss: 0.0081\n",
      "Epoch 182/300\n",
      " - 1s - loss: 0.0049 - val_loss: 0.0102\n",
      "Epoch 183/300\n",
      " - 1s - loss: 0.0063 - val_loss: 0.0074\n",
      "Epoch 184/300\n",
      " - 1s - loss: 0.0065 - val_loss: 0.0066\n",
      "Epoch 185/300\n",
      " - 1s - loss: 0.0048 - val_loss: 0.0098\n",
      "Epoch 186/300\n",
      " - 1s - loss: 0.0054 - val_loss: 0.0093\n",
      "Epoch 187/300\n",
      " - 1s - loss: 0.0053 - val_loss: 0.0091\n",
      "Epoch 188/300\n",
      " - 1s - loss: 0.0055 - val_loss: 0.0096\n",
      "Epoch 189/300\n",
      " - 1s - loss: 0.0051 - val_loss: 0.0091\n",
      "Epoch 190/300\n",
      " - 1s - loss: 0.0061 - val_loss: 0.0104\n",
      "Epoch 191/300\n",
      " - 1s - loss: 0.0054 - val_loss: 0.0097\n",
      "Epoch 192/300\n",
      " - 1s - loss: 0.0048 - val_loss: 0.0100\n",
      "Epoch 193/300\n",
      " - 1s - loss: 0.0055 - val_loss: 0.0112\n",
      "Epoch 194/300\n",
      " - 1s - loss: 0.0053 - val_loss: 0.0080\n",
      "Epoch 195/300\n",
      " - 1s - loss: 0.0055 - val_loss: 0.0088\n",
      "Epoch 196/300\n",
      " - 1s - loss: 0.0050 - val_loss: 0.0099\n",
      "Epoch 197/300\n",
      " - 1s - loss: 0.0055 - val_loss: 0.0082\n",
      "Epoch 198/300\n",
      " - 1s - loss: 0.0050 - val_loss: 0.0093\n",
      "Epoch 199/300\n",
      " - 1s - loss: 0.0057 - val_loss: 0.0089\n",
      "Epoch 200/300\n",
      " - 1s - loss: 0.0053 - val_loss: 0.0095\n",
      "Epoch 201/300\n",
      " - 1s - loss: 0.0058 - val_loss: 0.0083\n",
      "Epoch 202/300\n",
      " - 1s - loss: 0.0047 - val_loss: 0.0100\n",
      "Epoch 203/300\n",
      " - 1s - loss: 0.0056 - val_loss: 0.0105\n",
      "Epoch 204/300\n",
      " - 1s - loss: 0.0049 - val_loss: 0.0105\n",
      "Epoch 205/300\n",
      " - 1s - loss: 0.0051 - val_loss: 0.0082\n",
      "Epoch 206/300\n",
      " - 1s - loss: 0.0055 - val_loss: 0.0079\n",
      "Epoch 207/300\n",
      " - 1s - loss: 0.0055 - val_loss: 0.0093\n",
      "Epoch 208/300\n",
      " - 1s - loss: 0.0046 - val_loss: 0.0111\n",
      "Epoch 209/300\n",
      " - 1s - loss: 0.0049 - val_loss: 0.0112\n",
      "Epoch 210/300\n",
      " - 1s - loss: 0.0051 - val_loss: 0.0101\n",
      "Epoch 211/300\n",
      " - 1s - loss: 0.0050 - val_loss: 0.0102\n",
      "Epoch 212/300\n",
      " - 1s - loss: 0.0056 - val_loss: 0.0083\n",
      "Epoch 213/300\n",
      " - 1s - loss: 0.0051 - val_loss: 0.0087\n",
      "Epoch 214/300\n",
      " - 1s - loss: 0.0051 - val_loss: 0.0083\n",
      "Epoch 215/300\n",
      " - 1s - loss: 0.0047 - val_loss: 0.0114\n",
      "Epoch 216/300\n",
      " - 1s - loss: 0.0051 - val_loss: 0.0087\n",
      "Epoch 217/300\n",
      " - 1s - loss: 0.0054 - val_loss: 0.0084\n",
      "Epoch 218/300\n",
      " - 1s - loss: 0.0045 - val_loss: 0.0080\n",
      "Epoch 219/300\n",
      " - 1s - loss: 0.0056 - val_loss: 0.0076\n",
      "Epoch 220/300\n",
      " - 1s - loss: 0.0052 - val_loss: 0.0086\n",
      "Epoch 221/300\n",
      " - 1s - loss: 0.0055 - val_loss: 0.0080\n",
      "Epoch 222/300\n",
      " - 1s - loss: 0.0049 - val_loss: 0.0083\n",
      "Epoch 223/300\n",
      " - 1s - loss: 0.0053 - val_loss: 0.0091\n",
      "Epoch 224/300\n",
      " - 1s - loss: 0.0048 - val_loss: 0.0094\n",
      "Epoch 225/300\n",
      " - 1s - loss: 0.0054 - val_loss: 0.0079\n",
      "Epoch 226/300\n",
      " - 1s - loss: 0.0048 - val_loss: 0.0089\n",
      "Epoch 227/300\n",
      " - 1s - loss: 0.0051 - val_loss: 0.0083\n",
      "Epoch 228/300\n",
      " - 1s - loss: 0.0053 - val_loss: 0.0099\n",
      "Epoch 229/300\n",
      " - 1s - loss: 0.0051 - val_loss: 0.0084\n",
      "Epoch 230/300\n",
      " - 1s - loss: 0.0052 - val_loss: 0.0077\n",
      "Epoch 231/300\n",
      " - 1s - loss: 0.0049 - val_loss: 0.0088\n",
      "Epoch 232/300\n",
      " - 1s - loss: 0.0043 - val_loss: 0.0113\n",
      "Epoch 233/300\n",
      " - 1s - loss: 0.0050 - val_loss: 0.0106\n",
      "Epoch 234/300\n",
      " - 1s - loss: 0.0047 - val_loss: 0.0093\n",
      "Epoch 235/300\n",
      " - 1s - loss: 0.0046 - val_loss: 0.0086\n",
      "Epoch 236/300\n",
      " - 1s - loss: 0.0051 - val_loss: 0.0085\n",
      "Epoch 237/300\n",
      " - 1s - loss: 0.0043 - val_loss: 0.0104\n",
      "Epoch 238/300\n",
      " - 1s - loss: 0.0044 - val_loss: 0.0089\n",
      "Epoch 239/300\n",
      " - 1s - loss: 0.0052 - val_loss: 0.0095\n",
      "Epoch 240/300\n",
      " - 1s - loss: 0.0046 - val_loss: 0.0081\n",
      "Epoch 241/300\n",
      " - 1s - loss: 0.0050 - val_loss: 0.0094\n",
      "Epoch 242/300\n",
      " - 1s - loss: 0.0046 - val_loss: 0.0081\n",
      "Epoch 243/300\n",
      " - 1s - loss: 0.0046 - val_loss: 0.0092\n",
      "Epoch 244/300\n",
      " - 1s - loss: 0.0051 - val_loss: 0.0081\n",
      "Epoch 245/300\n",
      " - 1s - loss: 0.0046 - val_loss: 0.0092\n",
      "Epoch 246/300\n",
      " - 1s - loss: 0.0047 - val_loss: 0.0093\n",
      "Epoch 247/300\n",
      " - 1s - loss: 0.0046 - val_loss: 0.0091\n",
      "Epoch 248/300\n",
      " - 1s - loss: 0.0045 - val_loss: 0.0100\n",
      "Epoch 249/300\n",
      " - 1s - loss: 0.0042 - val_loss: 0.0084\n",
      "Epoch 250/300\n",
      " - 1s - loss: 0.0042 - val_loss: 0.0088\n",
      "Epoch 251/300\n",
      " - 1s - loss: 0.0045 - val_loss: 0.0085\n",
      "Epoch 252/300\n",
      " - 1s - loss: 0.0050 - val_loss: 0.0068\n",
      "Epoch 253/300\n",
      " - 1s - loss: 0.0048 - val_loss: 0.0074\n",
      "Epoch 254/300\n",
      " - 1s - loss: 0.0047 - val_loss: 0.0083\n",
      "Epoch 255/300\n",
      " - 1s - loss: 0.0045 - val_loss: 0.0072\n",
      "Epoch 256/300\n",
      " - 1s - loss: 0.0047 - val_loss: 0.0069\n",
      "Epoch 257/300\n",
      " - 1s - loss: 0.0050 - val_loss: 0.0083\n",
      "Epoch 258/300\n",
      " - 1s - loss: 0.0043 - val_loss: 0.0071\n",
      "Epoch 259/300\n",
      " - 1s - loss: 0.0046 - val_loss: 0.0096\n",
      "Epoch 260/300\n",
      " - 1s - loss: 0.0045 - val_loss: 0.0084\n",
      "Epoch 261/300\n",
      " - 1s - loss: 0.0042 - val_loss: 0.0086\n",
      "Epoch 262/300\n",
      " - 1s - loss: 0.0049 - val_loss: 0.0074\n",
      "Epoch 263/300\n",
      " - 1s - loss: 0.0046 - val_loss: 0.0088\n",
      "Epoch 264/300\n",
      " - 1s - loss: 0.0052 - val_loss: 0.0070\n",
      "Epoch 265/300\n",
      " - 1s - loss: 0.0047 - val_loss: 0.0081\n",
      "Epoch 266/300\n",
      " - 1s - loss: 0.0045 - val_loss: 0.0084\n",
      "Epoch 267/300\n",
      " - 1s - loss: 0.0041 - val_loss: 0.0083\n",
      "Epoch 268/300\n",
      " - 1s - loss: 0.0043 - val_loss: 0.0084\n",
      "Epoch 269/300\n",
      " - 1s - loss: 0.0044 - val_loss: 0.0080\n",
      "Epoch 270/300\n",
      " - 1s - loss: 0.0042 - val_loss: 0.0075\n",
      "Epoch 271/300\n",
      " - 1s - loss: 0.0046 - val_loss: 0.0057\n",
      "Epoch 272/300\n",
      " - 1s - loss: 0.0039 - val_loss: 0.0057\n",
      "Epoch 273/300\n",
      " - 1s - loss: 0.0038 - val_loss: 0.0082\n",
      "Epoch 274/300\n",
      " - 1s - loss: 0.0044 - val_loss: 0.0081\n",
      "Epoch 275/300\n",
      " - 1s - loss: 0.0045 - val_loss: 0.0090\n",
      "Epoch 276/300\n",
      " - 1s - loss: 0.0038 - val_loss: 0.0074\n",
      "Epoch 277/300\n",
      " - 1s - loss: 0.0043 - val_loss: 0.0082\n",
      "Epoch 278/300\n",
      " - 1s - loss: 0.0041 - val_loss: 0.0082\n",
      "Epoch 279/300\n",
      " - 1s - loss: 0.0045 - val_loss: 0.0064\n",
      "Epoch 280/300\n",
      " - 1s - loss: 0.0043 - val_loss: 0.0069\n",
      "Epoch 281/300\n",
      " - 1s - loss: 0.0043 - val_loss: 0.0092\n",
      "Epoch 282/300\n",
      " - 1s - loss: 0.0043 - val_loss: 0.0078\n",
      "Epoch 283/300\n",
      " - 1s - loss: 0.0042 - val_loss: 0.0066\n",
      "Epoch 284/300\n",
      " - 1s - loss: 0.0043 - val_loss: 0.0084\n",
      "Epoch 285/300\n",
      " - 1s - loss: 0.0044 - val_loss: 0.0074\n",
      "Epoch 286/300\n",
      " - 1s - loss: 0.0047 - val_loss: 0.0068\n",
      "Epoch 287/300\n",
      " - 1s - loss: 0.0044 - val_loss: 0.0064\n",
      "Epoch 288/300\n",
      " - 1s - loss: 0.0046 - val_loss: 0.0068\n",
      "Epoch 289/300\n",
      " - 1s - loss: 0.0045 - val_loss: 0.0081\n",
      "Epoch 290/300\n",
      " - 1s - loss: 0.0041 - val_loss: 0.0065\n",
      "Epoch 291/300\n",
      " - 1s - loss: 0.0044 - val_loss: 0.0063\n",
      "Epoch 292/300\n",
      " - 1s - loss: 0.0040 - val_loss: 0.0068\n",
      "Epoch 293/300\n",
      " - 1s - loss: 0.0035 - val_loss: 0.0073\n",
      "Epoch 294/300\n",
      " - 1s - loss: 0.0043 - val_loss: 0.0075\n",
      "Epoch 295/300\n",
      " - 1s - loss: 0.0043 - val_loss: 0.0078\n",
      "Epoch 296/300\n",
      " - 1s - loss: 0.0047 - val_loss: 0.0081\n",
      "Epoch 297/300\n",
      " - 1s - loss: 0.0042 - val_loss: 0.0077\n",
      "Epoch 298/300\n",
      " - 1s - loss: 0.0045 - val_loss: 0.0070\n",
      "Epoch 299/300\n",
      " - 1s - loss: 0.0044 - val_loss: 0.0068\n",
      "Epoch 300/300\n",
      " - 1s - loss: 0.0037 - val_loss: 0.0059\n"
     ]
    }
   ],
   "source": [
    "model = create_model()\n",
    "\n",
    "#csv_logger = CSVLogger()\n",
    "\n",
    "history = model.fit(x_t, y_t, epochs=params['epochs'], verbose=2, batch_size=BATCH_SIZE,\n",
    "                   shuffle=False, validation_data=(trim_dataset(x_val, BATCH_SIZE), \n",
    "                                                   trim_dataset(y_val, BATCH_SIZE))) #,callbacks=[es, mcp, csv_logger]"
   ]
  },
  {
   "cell_type": "code",
   "execution_count": 32,
   "metadata": {},
   "outputs": [
    {
     "name": "stdout",
     "output_type": "stream",
     "text": [
      "dict_keys(['val_loss', 'loss'])\n",
      "[0.17821362614631653, 0.06607535481452942, 0.029264336451888084, 0.03012213110923767, 0.03207581490278244, 0.029739756137132645, 0.03063628450036049, 0.02694324217736721, 0.027596455067396164, 0.023751717060804367, 0.027663875371217728, 0.02541518211364746, 0.028548236936330795, 0.02524162456393242, 0.023848459124565125, 0.021574094891548157, 0.02141174115240574, 0.020914260298013687, 0.021864522248506546, 0.020087197422981262, 0.023996522650122643, 0.023833945393562317, 0.022051602602005005, 0.02272481843829155, 0.020422570407390594, 0.022040413692593575, 0.0203824732452631, 0.017843570560216904, 0.019492629915475845, 0.01653234288096428, 0.020160619169473648, 0.022451603785157204, 0.018592962995171547, 0.0182631928473711, 0.01946534588932991, 0.01910926215350628, 0.019027119502425194, 0.016751853749155998, 0.01671169511973858, 0.019546419382095337, 0.019649598747491837, 0.014417286030948162, 0.01780962385237217, 0.018867362290620804, 0.012663361616432667, 0.015158722177147865, 0.014398899860680103, 0.013818154111504555, 0.01835162565112114, 0.018739815801382065, 0.016127033159136772, 0.01628517545759678, 0.016144435852766037, 0.015409099869430065, 0.01451040804386139, 0.014360262081027031, 0.014446953311562538, 0.012526246719062328, 0.0136729059740901, 0.013049682602286339, 0.01399724930524826, 0.01581912860274315, 0.01265881396830082, 0.014179348945617676, 0.013064590282738209, 0.012531268410384655, 0.01487614493817091, 0.012613004073500633, 0.012246930040419102, 0.013203767128288746, 0.01414343249052763, 0.012946103699505329, 0.013423922471702099, 0.01390196941792965, 0.014733850955963135, 0.013827609829604626, 0.012439599260687828, 0.01371394656598568, 0.013463323935866356, 0.01293144840747118, 0.015460404567420483, 0.010948814451694489, 0.011548629030585289, 0.013123080134391785, 0.011302745901048183, 0.011238206177949905, 0.012571294791996479, 0.013316968455910683, 0.01271512359380722, 0.012394199147820473, 0.00953703187406063, 0.015141896903514862, 0.010209362022578716, 0.012441663071513176, 0.013259408995509148, 0.011563032865524292, 0.01100696437060833, 0.011624675244092941, 0.011983457952737808, 0.01216868869960308, 0.010126030072569847, 0.011031829752027988, 0.010308736935257912, 0.01264750212430954, 0.010656754486262798, 0.00893847644329071, 0.010863426141440868, 0.011660771444439888, 0.010655739344656467, 0.01163195725530386, 0.012612092308700085, 0.009651875123381615, 0.011137601919472218, 0.012341277673840523, 0.01133775431662798, 0.01245919894427061, 0.010359363630414009, 0.010572158731520176, 0.010132716968655586, 0.01178547739982605, 0.010889766737818718, 0.009270193986594677, 0.009445109404623508, 0.010795908980071545, 0.009594976902008057, 0.011424491181969643, 0.008138598874211311, 0.01100535411387682, 0.011742688715457916, 0.01013533677905798, 0.011476216837763786, 0.011724323034286499, 0.009925736114382744, 0.009551582857966423, 0.012135977856814861, 0.010255862958729267, 0.008917910978198051, 0.01116131991147995, 0.00965847633779049, 0.011188392527401447, 0.010644471272826195, 0.011093094944953918, 0.009819354861974716, 0.011192692443728447, 0.00984945334494114, 0.009659265168011189, 0.009869018569588661, 0.011153073981404305, 0.011278803460299969, 0.010709819383919239, 0.012171147391200066, 0.011366220191121101, 0.008553706109523773, 0.007958064787089825, 0.01028691977262497, 0.010498961433768272, 0.011572758667171001, 0.008487382903695107, 0.010206794366240501, 0.008726325817406178, 0.010508168488740921, 0.010212334804236889, 0.009643315337598324, 0.008804132230579853, 0.009550517424941063, 0.010408738628029823, 0.011714490130543709, 0.012197673320770264, 0.01116210501641035, 0.011726243421435356, 0.00975477509200573, 0.009146598167717457, 0.01067781075835228, 0.009537413716316223, 0.008444463834166527, 0.010030083358287811, 0.010513948276638985, 0.008733675815165043, 0.008322296664118767, 0.008831609971821308, 0.00808979757130146, 0.010185951367020607, 0.007412722799926996, 0.006579485721886158, 0.009770589880645275, 0.009293753653764725, 0.009069656953215599, 0.009568038396537304, 0.009116105735301971, 0.010413971729576588, 0.0097159119322896, 0.009976970963180065, 0.01122898980975151, 0.007966955192387104, 0.008815671317279339, 0.009899931028485298, 0.008208902552723885, 0.009314094670116901, 0.008880475535988808, 0.009541074745357037, 0.008305166848003864, 0.010023808106780052, 0.01054526586085558, 0.010517016053199768, 0.008176562376320362, 0.00793490745127201, 0.009299073368310928, 0.011114311404526234, 0.011228235438466072, 0.010071160271763802, 0.010213920846581459, 0.008256064727902412, 0.008742531761527061, 0.008283952251076698, 0.011385617777705193, 0.00874392967671156, 0.00839998573064804, 0.007982425391674042, 0.007604134269058704, 0.00856038834899664, 0.00798732042312622, 0.008289146237075329, 0.009092194028198719, 0.009442904964089394, 0.00793691910803318, 0.008942368440330029, 0.008349152281880379, 0.00989466905593872, 0.008430570363998413, 0.007741686888039112, 0.008829014375805855, 0.011253347620368004, 0.010614573955535889, 0.009279406629502773, 0.008579869754612446, 0.00854220986366272, 0.010391424410045147, 0.008945459499955177, 0.009480593726038933, 0.008123298175632954, 0.009372208267450333, 0.008086804300546646, 0.009180440567433834, 0.008065445348620415, 0.009171701967716217, 0.009336349554359913, 0.00910110492259264, 0.01002462673932314, 0.00839549582451582, 0.008847606368362904, 0.008517407812178135, 0.006821575574576855, 0.0073585063219070435, 0.008332410827279091, 0.007215636782348156, 0.006864927709102631, 0.008277016691863537, 0.007054060697555542, 0.009629103355109692, 0.008421016857028008, 0.00859922543168068, 0.007380730006843805, 0.008819160051643848, 0.006973286624997854, 0.008144659921526909, 0.008406275883316994, 0.008332950063049793, 0.008437399752438068, 0.008015868254005909, 0.0074842385947704315, 0.005654049105942249, 0.0056518022902309895, 0.00820278562605381, 0.008063319139182568, 0.008970668539404869, 0.007385137490928173, 0.00817875750362873, 0.008177275769412518, 0.006351479794830084, 0.006942103151232004, 0.009150205180048943, 0.007845412008464336, 0.006563547067344189, 0.008424702100455761, 0.007422704249620438, 0.0067879753187298775, 0.006430751644074917, 0.00680212676525116, 0.008089989423751831, 0.006515659391880035, 0.006308223120868206, 0.006784803234040737, 0.007261569611728191, 0.007455567363649607, 0.0077822087332606316, 0.008121893741190434, 0.007658005692064762, 0.006953726056963205, 0.006835533771663904, 0.005859326105564833]\n"
     ]
    }
   ],
   "source": [
    "print(history.history.keys())\n",
    "print(history.history['val_loss'])"
   ]
  },
  {
   "cell_type": "code",
   "execution_count": 34,
   "metadata": {},
   "outputs": [
    {
     "data": {
      "text/plain": [
       "[<matplotlib.lines.Line2D at 0x18399186d68>]"
      ]
     },
     "execution_count": 34,
     "metadata": {},
     "output_type": "execute_result"
    },
    {
     "data": {
      "image/png": "[encoded data removed]",
      "text/plain": [
       "<Figure size 432x288 with 1 Axes>"
      ]
     },
     "metadata": {
      "needs_background": "light"
     },
     "output_type": "display_data"
    }
   ],
   "source": [
    "plt.figure()\n",
    "plt.plot(history.history['val_loss'])\n",
    "plt.plot(history.history['loss'])"
   ]
  },
  {
   "cell_type": "code",
   "execution_count": 35,
   "metadata": {},
   "outputs": [],
   "source": [
    "# plot the predicted vs real price"
   ]
  },
  {
   "cell_type": "code",
   "execution_count": 42,
   "metadata": {},
   "outputs": [
    {
     "data": {
      "text/plain": [
       "(20, 60, 5)"
      ]
     },
     "execution_count": 42,
     "metadata": {},
     "output_type": "execute_result"
    }
   ],
   "source": []
  },
  {
   "cell_type": "code",
   "execution_count": 39,
   "metadata": {},
   "outputs": [
    {
     "name": "stdout",
     "output_type": "stream",
     "text": [
      "Error (20,) (20,)\n"
     ]
    }
   ],
   "source": [
    "y_pred = model.predict(trim_dataset(x_test_t, BATCH_SIZE), batch_size=BATCH_SIZE)\n",
    "y_pred = y_pred.flatten()\n",
    "y_test_t = trim_dataset(y_test_t, BATCH_SIZE)\n",
    "error = mean_squared_error(y_test_t, y_pred)\n",
    "print(\"Error\", y_pred.shape, y_test_t.shape)\n",
    "\n",
    "y_pred_orig = (y_pred * min_max_scaler.data_range_[3]) + min_max_scaler.data_min_[3] #min_max_scaler.inverse_transform(y_pred)\n",
    "y_test_t_orig = (y_test_t * min_max_scaler.data_range_[3]) + min_max_scaler.data_min_[3] #min_max_scaler.inverse_transform(y_test_t)"
   ]
  },
  {
   "cell_type": "code",
   "execution_count": 40,
   "metadata": {},
   "outputs": [
    {
     "data": {
      "image/png": "[encoded data removed]",
      "text/plain": [
       "<Figure size 432x288 with 1 Axes>"
      ]
     },
     "metadata": {
      "needs_background": "light"
     },
     "output_type": "display_data"
    }
   ],
   "source": [
    "plt.figure()\n",
    "plt.plot(y_pred_orig)\n",
    "plt.plot(y_test_t_orig)\n",
    "plt.title('Prediction vs Real Stock Price')\n",
    "plt.ylabel('Price')\n",
    "plt.xlabel('Days')\n",
    "plt.legend(['Prediction', 'Real'], loc='upper left')\n",
    "plt.show()"
   ]
  },
  {
   "cell_type": "code",
   "execution_count": null,
   "metadata": {},
   "outputs": [],
   "source": [
    "# do gridsearch, put logging into\n",
    "# what overfit would mean here?\n",
    "# read lstm AK\n",
    "# how to appreciate how good is the prediction?\n",
    "\n",
    "# sentiment analysis for stock prediction ? X\n",
    "\n"
   ]
  }
 ],
 "metadata": {
  "kernelspec": {
   "display_name": "Python 3",
   "language": "python",
   "name": "python3"
  },
  "language_info": {
   "codemirror_mode": {
    "name": "ipython",
    "version": 3
   },
   "file_extension": ".py",
   "mimetype": "text/x-python",
   "name": "python",
   "nbconvert_exporter": "python",
   "pygments_lexer": "ipython3",
   "version": "3.7.3"
  }
 },
 "nbformat": 4,
 "nbformat_minor": 2
}
