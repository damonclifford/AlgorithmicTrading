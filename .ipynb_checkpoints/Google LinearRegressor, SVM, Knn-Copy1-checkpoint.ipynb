{
 "cells": [
  {
   "cell_type": "markdown",
   "metadata": {},
   "source": [
    "# FACEBOOK DATA FROM YAHOO FINANCE"
   ]
  },
  {
   "cell_type": "code",
   "execution_count": null,
   "metadata": {},
   "outputs": [],
   "source": []
  },
  {
   "cell_type": "code",
   "execution_count": 73,
   "metadata": {},
   "outputs": [],
   "source": [
    "import pandas as pd\n",
    "import numpy as np\n",
    "from matplotlib import pyplot as plt\n",
    "%matplotlib inline"
   ]
  },
  {
   "cell_type": "code",
   "execution_count": 74,
   "metadata": {},
   "outputs": [],
   "source": [
    "df = pd.read_csv(\"C:/Users/ASUS/Desktop/FMI/Licenta OB/Overall Code/packtpub-src/csv/FB2012-2019.csv\")"
   ]
  },
  {
   "cell_type": "code",
   "execution_count": 3,
   "metadata": {},
   "outputs": [
    {
     "data": {
      "text/html": [
       "<div>\n",
       "<style scoped>\n",
       "    .dataframe tbody tr th:only-of-type {\n",
       "        vertical-align: middle;\n",
       "    }\n",
       "\n",
       "    .dataframe tbody tr th {\n",
       "        vertical-align: top;\n",
       "    }\n",
       "\n",
       "    .dataframe thead th {\n",
       "        text-align: right;\n",
       "    }\n",
       "</style>\n",
       "<table border=\"1\" class=\"dataframe\">\n",
       "  <thead>\n",
       "    <tr style=\"text-align: right;\">\n",
       "      <th></th>\n",
       "      <th>Date</th>\n",
       "      <th>Open</th>\n",
       "      <th>High</th>\n",
       "      <th>Low</th>\n",
       "      <th>Close</th>\n",
       "      <th>Adj Close</th>\n",
       "      <th>Volume</th>\n",
       "    </tr>\n",
       "  </thead>\n",
       "  <tbody>\n",
       "    <tr>\n",
       "      <th>0</th>\n",
       "      <td>2012-05-29</td>\n",
       "      <td>31.480000</td>\n",
       "      <td>31.690001</td>\n",
       "      <td>28.650000</td>\n",
       "      <td>28.840000</td>\n",
       "      <td>28.840000</td>\n",
       "      <td>78063400</td>\n",
       "    </tr>\n",
       "    <tr>\n",
       "      <th>1</th>\n",
       "      <td>2012-05-30</td>\n",
       "      <td>28.700001</td>\n",
       "      <td>29.549999</td>\n",
       "      <td>27.860001</td>\n",
       "      <td>28.190001</td>\n",
       "      <td>28.190001</td>\n",
       "      <td>57267900</td>\n",
       "    </tr>\n",
       "    <tr>\n",
       "      <th>2</th>\n",
       "      <td>2012-05-31</td>\n",
       "      <td>28.549999</td>\n",
       "      <td>29.670000</td>\n",
       "      <td>26.830000</td>\n",
       "      <td>29.600000</td>\n",
       "      <td>29.600000</td>\n",
       "      <td>111639200</td>\n",
       "    </tr>\n",
       "    <tr>\n",
       "      <th>3</th>\n",
       "      <td>2012-06-01</td>\n",
       "      <td>28.889999</td>\n",
       "      <td>29.150000</td>\n",
       "      <td>27.389999</td>\n",
       "      <td>27.719999</td>\n",
       "      <td>27.719999</td>\n",
       "      <td>41855500</td>\n",
       "    </tr>\n",
       "    <tr>\n",
       "      <th>4</th>\n",
       "      <td>2012-06-04</td>\n",
       "      <td>27.200001</td>\n",
       "      <td>27.650000</td>\n",
       "      <td>26.440001</td>\n",
       "      <td>26.900000</td>\n",
       "      <td>26.900000</td>\n",
       "      <td>35230300</td>\n",
       "    </tr>\n",
       "  </tbody>\n",
       "</table>\n",
       "</div>"
      ],
      "text/plain": [
       "         Date       Open       High        Low      Close  Adj Close  \\\n",
       "0  2012-05-29  31.480000  31.690001  28.650000  28.840000  28.840000   \n",
       "1  2012-05-30  28.700001  29.549999  27.860001  28.190001  28.190001   \n",
       "2  2012-05-31  28.549999  29.670000  26.830000  29.600000  29.600000   \n",
       "3  2012-06-01  28.889999  29.150000  27.389999  27.719999  27.719999   \n",
       "4  2012-06-04  27.200001  27.650000  26.440001  26.900000  26.900000   \n",
       "\n",
       "      Volume  \n",
       "0   78063400  \n",
       "1   57267900  \n",
       "2  111639200  \n",
       "3   41855500  \n",
       "4   35230300  "
      ]
     },
     "execution_count": 3,
     "metadata": {},
     "output_type": "execute_result"
    }
   ],
   "source": [
    "df.head()"
   ]
  },
  {
   "cell_type": "code",
   "execution_count": 4,
   "metadata": {},
   "outputs": [
    {
     "data": {
      "text/html": [
       "<div>\n",
       "<style scoped>\n",
       "    .dataframe tbody tr th:only-of-type {\n",
       "        vertical-align: middle;\n",
       "    }\n",
       "\n",
       "    .dataframe tbody tr th {\n",
       "        vertical-align: top;\n",
       "    }\n",
       "\n",
       "    .dataframe thead th {\n",
       "        text-align: right;\n",
       "    }\n",
       "</style>\n",
       "<table border=\"1\" class=\"dataframe\">\n",
       "  <thead>\n",
       "    <tr style=\"text-align: right;\">\n",
       "      <th></th>\n",
       "      <th>Date</th>\n",
       "      <th>Open</th>\n",
       "      <th>High</th>\n",
       "      <th>Low</th>\n",
       "      <th>Close</th>\n",
       "      <th>Adj Close</th>\n",
       "      <th>Volume</th>\n",
       "    </tr>\n",
       "  </thead>\n",
       "  <tbody>\n",
       "    <tr>\n",
       "      <th>1755</th>\n",
       "      <td>2019-05-21</td>\n",
       "      <td>184.570007</td>\n",
       "      <td>185.699997</td>\n",
       "      <td>183.889999</td>\n",
       "      <td>184.820007</td>\n",
       "      <td>184.820007</td>\n",
       "      <td>7502800</td>\n",
       "    </tr>\n",
       "    <tr>\n",
       "      <th>1756</th>\n",
       "      <td>2019-05-22</td>\n",
       "      <td>184.729996</td>\n",
       "      <td>186.740005</td>\n",
       "      <td>183.610001</td>\n",
       "      <td>185.320007</td>\n",
       "      <td>185.320007</td>\n",
       "      <td>9213800</td>\n",
       "    </tr>\n",
       "    <tr>\n",
       "      <th>1757</th>\n",
       "      <td>2019-05-23</td>\n",
       "      <td>182.419998</td>\n",
       "      <td>183.899994</td>\n",
       "      <td>179.669998</td>\n",
       "      <td>180.869995</td>\n",
       "      <td>180.869995</td>\n",
       "      <td>12768800</td>\n",
       "    </tr>\n",
       "    <tr>\n",
       "      <th>1758</th>\n",
       "      <td>2019-05-24</td>\n",
       "      <td>182.330002</td>\n",
       "      <td>183.630005</td>\n",
       "      <td>180.830002</td>\n",
       "      <td>181.059998</td>\n",
       "      <td>181.059998</td>\n",
       "      <td>8807700</td>\n",
       "    </tr>\n",
       "    <tr>\n",
       "      <th>1759</th>\n",
       "      <td>2019-05-28</td>\n",
       "      <td>181.539993</td>\n",
       "      <td>184.710007</td>\n",
       "      <td>181.449997</td>\n",
       "      <td>184.309998</td>\n",
       "      <td>184.309998</td>\n",
       "      <td>14843300</td>\n",
       "    </tr>\n",
       "  </tbody>\n",
       "</table>\n",
       "</div>"
      ],
      "text/plain": [
       "            Date        Open        High         Low       Close   Adj Close  \\\n",
       "1755  2019-05-21  184.570007  185.699997  183.889999  184.820007  184.820007   \n",
       "1756  2019-05-22  184.729996  186.740005  183.610001  185.320007  185.320007   \n",
       "1757  2019-05-23  182.419998  183.899994  179.669998  180.869995  180.869995   \n",
       "1758  2019-05-24  182.330002  183.630005  180.830002  181.059998  181.059998   \n",
       "1759  2019-05-28  181.539993  184.710007  181.449997  184.309998  184.309998   \n",
       "\n",
       "        Volume  \n",
       "1755   7502800  \n",
       "1756   9213800  \n",
       "1757  12768800  \n",
       "1758   8807700  \n",
       "1759  14843300  "
      ]
     },
     "execution_count": 4,
     "metadata": {},
     "output_type": "execute_result"
    }
   ],
   "source": [
    "df.tail()"
   ]
  },
  {
   "cell_type": "code",
   "execution_count": 5,
   "metadata": {},
   "outputs": [
    {
     "data": {
      "image/png": "[encoded data removed]",
      "text/plain": [
       "<Figure size 432x288 with 1 Axes>"
      ]
     },
     "metadata": {
      "needs_background": "light"
     },
     "output_type": "display_data"
    }
   ],
   "source": [
    "plt.figure()\n",
    "plt.title(\"FB stock price history\")\n",
    "plt.plot(df['Open'])\n",
    "#plt.plot(df[\"Close\"])\n",
    "#plt.plot(df[\"High\"])\n",
    "#plt.plot(df[\"Low\"])\n",
    "plt.ylabel('Price (USD)')\n",
    "plt.xlabel('Days')\n",
    "plt.legend(['Open', 'Close', 'High', 'Low'], loc='upper left')\n",
    "plt.show()"
   ]
  },
  {
   "cell_type": "code",
   "execution_count": 6,
   "metadata": {},
   "outputs": [
    {
     "data": {
      "image/png": "[encoded data removed]",
      "text/plain": [
       "<Figure size 432x288 with 1 Axes>"
      ]
     },
     "metadata": {
      "needs_background": "light"
     },
     "output_type": "display_data"
    }
   ],
   "source": [
    "plt.figure()\n",
    "plt.plot(df['Volume'])\n",
    "plt.title('FB stock volume history')\n",
    "plt.ylabel('Volume')\n",
    "plt.xlabel('Days')\n",
    "plt.show()"
   ]
  },
  {
   "cell_type": "code",
   "execution_count": 7,
   "metadata": {},
   "outputs": [
    {
     "name": "stdout",
     "output_type": "stream",
     "text": [
      "Checking if any null values are present\n",
      " Date         0\n",
      "Open         0\n",
      "High         0\n",
      "Low          0\n",
      "Close        0\n",
      "Adj Close    0\n",
      "Volume       0\n",
      "dtype: int64\n"
     ]
    }
   ],
   "source": [
    "print('Checking if any null values are present\\n', df.isna().sum())"
   ]
  },
  {
   "cell_type": "markdown",
   "metadata": {},
   "source": [
    "### Normalizing the data\n",
    "* Split the data into train, test\n",
    "* Normalize\n",
    "* Covert the DataFrame to ndarray"
   ]
  },
  {
   "cell_type": "code",
   "execution_count": 8,
   "metadata": {},
   "outputs": [],
   "source": [
    "#! pip install keras"
   ]
  },
  {
   "cell_type": "code",
   "execution_count": 9,
   "metadata": {},
   "outputs": [],
   "source": [
    "#! pip install np_utils"
   ]
  },
  {
   "cell_type": "code",
   "execution_count": 10,
   "metadata": {},
   "outputs": [],
   "source": [
    "#! pip install tensorflow"
   ]
  },
  {
   "cell_type": "code",
   "execution_count": 11,
   "metadata": {},
   "outputs": [],
   "source": [
    "#! pip install numpy --upgrade --user"
   ]
  },
  {
   "cell_type": "code",
   "execution_count": 12,
   "metadata": {},
   "outputs": [
    {
     "name": "stderr",
     "output_type": "stream",
     "text": [
      "Using TensorFlow backend.\n"
     ]
    },
    {
     "name": "stdout",
     "output_type": "stream",
     "text": [
      "Checking GPU available []\n"
     ]
    }
   ],
   "source": [
    "from tqdm._tqdm_notebook import tqdm_notebook\n",
    "from sklearn.preprocessing import MinMaxScaler\n",
    "from sklearn.model_selection import train_test_split\n",
    "from sklearn.metrics import mean_squared_error\n",
    "from keras.models import Sequential, load_model\n",
    "from keras.layers import Dense, Dropout\n",
    "from keras.layers import LSTM\n",
    "from keras import optimizers\n",
    "from keras import backend as K\n",
    "from keras.callbacks import EarlyStopping\n",
    "from sklearn.linear_model import LinearRegression\n",
    "from sklearn.svm import SVR\n",
    "from sklearn.neighbors import KNeighborsClassifier as knn\n",
    "\n",
    "print('Checking GPU available', K.tensorflow_backend._get_available_gpus())\n"
   ]
  },
  {
   "cell_type": "code",
   "execution_count": 13,
   "metadata": {},
   "outputs": [],
   "source": [
    "from keras import losses"
   ]
  },
  {
   "cell_type": "code",
   "execution_count": 14,
   "metadata": {},
   "outputs": [],
   "source": [
    "TIME_STEPS = 60\n",
    "BATCH_SIZE = 20"
   ]
  },
  {
   "cell_type": "code",
   "execution_count": 15,
   "metadata": {},
   "outputs": [],
   "source": [
    "params = {\n",
    "    \"batch_size\": 20,  # 20<16<10, 25 was a bust\n",
    "    \"epochs\": 10,\n",
    "    \"lr\": 0.00010000,\n",
    "    \"time_steps\": 60\n",
    "}"
   ]
  },
  {
   "cell_type": "code",
   "execution_count": 16,
   "metadata": {},
   "outputs": [
    {
     "name": "stdout",
     "output_type": "stream",
     "text": [
      "Train and test set 1408 352\n"
     ]
    }
   ],
   "source": [
    "\n",
    "train_cols = ['Open', 'High', 'Low', 'Close', 'Volume']\n",
    "df_train, df_test = train_test_split(df, train_size=0.8, test_size=0.2, shuffle=False)\n",
    "print('Train and test set', len(df_train), len(df_test))\n",
    "\n",
    "#scale the feature MinMax, build array\n",
    "x = df_train.loc[:, train_cols].values\n",
    "min_max_scaler = MinMaxScaler()\n",
    "x_train = min_max_scaler.fit_transform(x)\n",
    "x_test = min_max_scaler.transform(df_test.loc[:, train_cols])"
   ]
  },
  {
   "cell_type": "code",
   "execution_count": 17,
   "metadata": {},
   "outputs": [],
   "source": [
    "def build_timeseries(mat, y_col_index):\n",
    "    # y_col_index is the index of column that would act as output column\n",
    "    # total nb of time-series samples would be len(mat) - TIME_STEPS\n",
    "    dim_0 = mat.shape[0] - TIME_STEPS\n",
    "    dim_1 = mat.shape[1]\n",
    "    x = np.zeros((dim_0, TIME_STEPS, dim_1))\n",
    "    y = np.zeros((dim_0,))\n",
    "    \n",
    "    for i in tqdm_notebook(range(dim_0)):\n",
    "        x[i] = mat[i:TIME_STEPS+i]\n",
    "        y[i] = mat[TIME_STEPS+i, y_col_index]\n",
    "    \n",
    "    print('length of time-series i/o', x.shape, y.shape)\n",
    "    return x, y"
   ]
  },
  {
   "cell_type": "code",
   "execution_count": 18,
   "metadata": {},
   "outputs": [],
   "source": [
    "def trim_dataset(mat, batch_size):\n",
    "    \"\"\"\n",
    "    trims dataset to a size that is divisible by BATCH_SIZE\n",
    "    \"\"\"\n",
    "    no_of_rows_drop = mat.shape[0] % batch_size\n",
    "    if no_of_rows_drop > 0:\n",
    "        return mat[:-no_of_rows_drop]\n",
    "    else:\n",
    "        return mat"
   ]
  },
  {
   "cell_type": "code",
   "execution_count": 19,
   "metadata": {},
   "outputs": [
    {
     "data": {
      "application/vnd.jupyter.widget-view+json": {
       "model_id": "3f33864a7b6c4c0890d61669531a8575",
       "version_major": 2,
       "version_minor": 0
      },
      "text/plain": [
       "HBox(children=(IntProgress(value=0, max=1348), HTML(value='')))"
      ]
     },
     "metadata": {},
     "output_type": "display_data"
    },
    {
     "name": "stdout",
     "output_type": "stream",
     "text": [
      "\n",
      "length of time-series i/o (1348, 60, 5) (1348,)\n"
     ]
    },
    {
     "data": {
      "application/vnd.jupyter.widget-view+json": {
       "model_id": "9b31203877f24898a9c7f7a3c3075b61",
       "version_major": 2,
       "version_minor": 0
      },
      "text/plain": [
       "HBox(children=(IntProgress(value=0, max=292), HTML(value='')))"
      ]
     },
     "metadata": {},
     "output_type": "display_data"
    },
    {
     "name": "stdout",
     "output_type": "stream",
     "text": [
      "\n",
      "length of time-series i/o (292, 60, 5) (292,)\n"
     ]
    }
   ],
   "source": [
    "x_t, y_t = build_timeseries(x_train, 3)\n",
    "x_t = trim_dataset(x_t, BATCH_SIZE)\n",
    "y_t = trim_dataset(y_t, BATCH_SIZE)\n",
    "\n",
    "x_temp, y_temp = build_timeseries(x_test, 3)\n",
    "x_val, x_test_t = np.split(trim_dataset(x_temp, BATCH_SIZE), 2)\n",
    "y_val, y_test_t = np.split(trim_dataset(y_temp, BATCH_SIZE), 2)"
   ]
  },
  {
   "cell_type": "code",
   "execution_count": 20,
   "metadata": {},
   "outputs": [
    {
     "data": {
      "text/plain": [
       "(1340, 60, 1)"
      ]
     },
     "execution_count": 20,
     "metadata": {},
     "output_type": "execute_result"
    }
   ],
   "source": [
    "type(x_t)\n",
    "x_t.shape\n",
    "x_t[:, :, :1].shape"
   ]
  },
  {
   "cell_type": "code",
   "execution_count": 21,
   "metadata": {},
   "outputs": [
    {
     "name": "stdout",
     "output_type": "stream",
     "text": [
      "(1340, 60, 5)\n"
     ]
    }
   ],
   "source": [
    "print(x_t.shape)"
   ]
  },
  {
   "cell_type": "code",
   "execution_count": 22,
   "metadata": {},
   "outputs": [],
   "source": [
    " x_t = x_t[:, :, 0]\n",
    "x_temp = x_temp[:, :, 0]\n",
    "# x_test = x_test.reshape((x_test.shape[0], 1))\n",
    "# x_t.reshape(x_t.shape[0], -1)\n",
    "\n"
   ]
  },
  {
   "cell_type": "code",
   "execution_count": 23,
   "metadata": {},
   "outputs": [
    {
     "name": "stdout",
     "output_type": "stream",
     "text": [
      "(1340, 60)\n",
      "(352, 5)\n"
     ]
    }
   ],
   "source": [
    "print(x_t.shape)\n",
    "print(x_test.shape)"
   ]
  },
  {
   "cell_type": "code",
   "execution_count": null,
   "metadata": {},
   "outputs": [],
   "source": [
    "y_pred = model.predict(trim_dataset(x_test_t, BATCH_SIZE), batch_size=BATCH_SIZE)\n",
    "y_pred = y_pred.flatten()\n",
    "y_test_t = trim_dataset(y_test_t, BATCH_SIZE)\n",
    "error = mean_squared_error(y_test_t, y_pred)\n",
    "print(\"Error\", error, y_pred.shape, y_test_t.shape)\n",
    "\n",
    "y_pred_orig = (y_pred * min_max_scaler.data_range_[3]) + min_max_scaler.data_min_[3] #min_max_scaler.inverse_transform(y_pred)\n",
    "y_test_t_orig = (y_test_t * min_max_scaler.data_range_[3]) + min_max_scaler.data_min_[3] #min_max_scaler.inverse_transform(y_test_t)"
   ]
  },
  {
   "cell_type": "code",
   "execution_count": 43,
   "metadata": {},
   "outputs": [],
   "source": [
    "#from strategy import *"
   ]
  },
  {
   "cell_type": "code",
   "execution_count": 76,
   "metadata": {},
   "outputs": [
    {
     "data": {
      "text/plain": [
       "(1340, 60)"
      ]
     },
     "execution_count": 76,
     "metadata": {},
     "output_type": "execute_result"
    }
   ],
   "source": [
    "x_t.shape"
   ]
  },
  {
   "cell_type": "code",
   "execution_count": 77,
   "metadata": {},
   "outputs": [
    {
     "data": {
      "text/plain": [
       "(1340,)"
      ]
     },
     "execution_count": 77,
     "metadata": {},
     "output_type": "execute_result"
    }
   ],
   "source": [
    "y_t.shape"
   ]
  },
  {
   "cell_type": "code",
   "execution_count": 80,
   "metadata": {},
   "outputs": [
    {
     "data": {
      "text/plain": [
       "(292, 60)"
      ]
     },
     "execution_count": 80,
     "metadata": {},
     "output_type": "execute_result"
    }
   ],
   "source": [
    "x_temp.shape"
   ]
  },
  {
   "cell_type": "code",
   "execution_count": 81,
   "metadata": {},
   "outputs": [
    {
     "data": {
      "text/plain": [
       "(292,)"
      ]
     },
     "execution_count": 81,
     "metadata": {},
     "output_type": "execute_result"
    }
   ],
   "source": [
    "y_temp.shape"
   ]
  },
  {
   "cell_type": "markdown",
   "metadata": {},
   "source": [
    "# Linear Regressor"
   ]
  },
  {
   "cell_type": "code",
   "execution_count": 49,
   "metadata": {},
   "outputs": [],
   "source": [
    "benchmark_model = LinearRegression()\n",
    "benchmark_model.fit(x_t, y_t)\n",
    "y_test_pred = benchmark_model.predict(x_temp)"
   ]
  },
  {
   "cell_type": "code",
   "execution_count": 50,
   "metadata": {},
   "outputs": [
    {
     "name": "stdout",
     "output_type": "stream",
     "text": [
      "0.0008740562971972318\n"
     ]
    }
   ],
   "source": [
    "error = mean_squared_error(y_test_pred, y_temp)\n",
    "print(error)"
   ]
  },
  {
   "cell_type": "code",
   "execution_count": 78,
   "metadata": {},
   "outputs": [
    {
     "data": {
      "text/plain": [
       "(292,)"
      ]
     },
     "execution_count": 78,
     "metadata": {},
     "output_type": "execute_result"
    }
   ],
   "source": [
    "y_test_pred.shape"
   ]
  },
  {
   "cell_type": "code",
   "execution_count": 79,
   "metadata": {},
   "outputs": [
    {
     "data": {
      "text/plain": [
       "(292,)"
      ]
     },
     "execution_count": 79,
     "metadata": {},
     "output_type": "execute_result"
    }
   ],
   "source": [
    "y_temp.shape"
   ]
  },
  {
   "cell_type": "code",
   "execution_count": 51,
   "metadata": {},
   "outputs": [],
   "source": [
    "y_test_pred_orig = (y_test_pred * min_max_scaler.data_range_[3]) + min_max_scaler.data_min_[3] #min_max_scaler.inverse_transform(y_pred)\n",
    "y_temp_orig = (y_temp * min_max_scaler.data_range_[3]) + min_max_scaler.data_min_[3] #min_max_scaler.inverse_transform(y_test_t)"
   ]
  },
  {
   "cell_type": "code",
   "execution_count": 52,
   "metadata": {},
   "outputs": [
    {
     "data": {
      "image/png": "[encoded data removed]",
      "text/plain": [
       "<Figure size 432x288 with 1 Axes>"
      ]
     },
     "metadata": {
      "needs_background": "light"
     },
     "output_type": "display_data"
    }
   ],
   "source": [
    "plt.figure()\n",
    "plt.plot(y_test_pred)\n",
    "plt.plot(y_temp)\n",
    "plt.title('Prediction vs Real Stock Price (Scaled)')\n",
    "plt.ylabel('Price')\n",
    "plt.xlabel('Days')\n",
    "plt.legend(['Prediction', 'Real'], loc='upper left')\n",
    "plt.show()"
   ]
  },
  {
   "cell_type": "code",
   "execution_count": 82,
   "metadata": {},
   "outputs": [
    {
     "data": {
      "image/png": "[encoded data removed]",
      "text/plain": [
       "<Figure size 432x288 with 1 Axes>"
      ]
     },
     "metadata": {
      "needs_background": "light"
     },
     "output_type": "display_data"
    }
   ],
   "source": [
    "plt.figure()\n",
    "plt.plot(y_test_pred_orig)\n",
    "plt.plot(y_temp_orig)\n",
    "plt.title('Prediction vs Real Stock Price ')\n",
    "plt.ylabel('Price')\n",
    "plt.xlabel('Days')\n",
    "plt.legend(['Prediction', 'Real'], loc='upper left')\n",
    "plt.show()"
   ]
  },
  {
   "cell_type": "code",
   "execution_count": 53,
   "metadata": {},
   "outputs": [],
   "source": [
    "class strategy():\n",
    "    def __init__(self):\n",
    "        self.stocks = 0\n",
    "    \n",
    "    def take_action(self, today_real_price, tomorrow_forcasted_price):\n",
    "        \"\"\"\n",
    "         At day t, an investor buys one share of INTC stock if the predicted price \n",
    "         is higher than the current actual adjusted closing price.\n",
    "         Otherwise, he or she sells one share of INTC stock\"\"\"\n",
    "        if tomorrow_forcasted_price > today_real_price:\n",
    "            self.stocks += 1\n",
    "        else:\n",
    "            self.stocks -= 1\n",
    "    \n",
    "    def compute_daily_return(self, today_real_price, tomorrow_real_price):\n",
    "        \"\"\"\n",
    "         Using the\n",
    "indicator variable st\n",
    ", we can calculate a daily return of\n",
    "the strategy at day t + 1:\n",
    "rt+1 = st × log \u0012\n",
    "yt+1\n",
    "yt\n",
    "\u0013\n",
    "−\n",
    "        \"\"\"\n",
    "        import math\n",
    "        daily_return = self.stocks * math.log(tomorrow_real_price, today_real_price)\n",
    "        return daily_return\n",
    "            "
   ]
  },
  {
   "cell_type": "code",
   "execution_count": 54,
   "metadata": {},
   "outputs": [],
   "source": [
    "def execute_strategy(strategy, predicted_data, verbose=True):\n",
    "    \"\"\"\n",
    "    args: strategy to execute\n",
    "    \"\"\"\n",
    "    cumulative_return = 0\n",
    "    for day, today_real_price in enumerate(real_data[:-1]):\n",
    "        # day by day and execute my strategy\n",
    "        today_predicted_price = predicted_data[day]\n",
    "        if verbose: print(day, today_real_price, today_predicted_price)\n",
    "        \n",
    "        strategy.take_action(today_real_price, predicted_data[day + 1])\n",
    "        today_return = strategy.compute_daily_return(today_real_price, real_data[day + 1])\n",
    "        # metric: cumulative return\n",
    "        # sum of all the returns\n",
    "        cumulative_return += today_return\n",
    "    return cumulative_return"
   ]
  },
  {
   "cell_type": "code",
   "execution_count": 57,
   "metadata": {},
   "outputs": [
    {
     "name": "stdout",
     "output_type": "stream",
     "text": [
      "3369.204225761895\n"
     ]
    }
   ],
   "source": [
    "regressor_strategy = strategy()\n",
    "regression_predicted_data = y_test_pred_orig # TODO: find this\n",
    "real_data = y_temp_orig\n",
    "regression_strategy_return = execute_strategy(regressor_strategy, regression_predicted_data, verbose=False)\n",
    "regressor_strategy.stocks\n",
    "print(regression_strategy_return)"
   ]
  },
  {
   "cell_type": "markdown",
   "metadata": {},
   "source": [
    "# SVM "
   ]
  },
  {
   "cell_type": "code",
   "execution_count": 58,
   "metadata": {},
   "outputs": [
    {
     "name": "stderr",
     "output_type": "stream",
     "text": [
      "C:\\Users\\ASUS\\Anaconda3\\envs\\tradebot\\lib\\site-packages\\sklearn\\svm\\base.py:196: FutureWarning: The default value of gamma will change from 'auto' to 'scale' in version 0.22 to account better for unscaled features. Set gamma explicitly to 'auto' or 'scale' to avoid this warning.\n",
      "  \"avoid this warning.\", FutureWarning)\n"
     ]
    },
    {
     "name": "stdout",
     "output_type": "stream",
     "text": [
      "0.0008740562971972318\n"
     ]
    }
   ],
   "source": [
    "benchmark_model = SVR()\n",
    "benchmark_model.fit(x_t, y_t)\n",
    "y_test_pred_svm = benchmark_model.predict(x_temp)\n",
    "\n",
    "error = mean_squared_error(y_test_pred, y_temp)\n",
    "print(error)\n"
   ]
  },
  {
   "cell_type": "code",
   "execution_count": 68,
   "metadata": {},
   "outputs": [],
   "source": [
    "y_test_pred_svm = (y_test_pred_svm * min_max_scaler.data_range_[3]) + min_max_scaler.data_min_[3] #min_max_scaler.inverse_transform(y_pred)\n",
    "y_temp = (y_temp * min_max_scaler.data_range_[3]) + min_max_scaler.data_min_[3] #min_max_scaler.inverse_transform(y_test_t)"
   ]
  },
  {
   "cell_type": "code",
   "execution_count": 69,
   "metadata": {},
   "outputs": [
    {
     "data": {
      "image/png": "[encoded data removed]",
      "text/plain": [
       "<Figure size 432x288 with 1 Axes>"
      ]
     },
     "metadata": {
      "needs_background": "light"
     },
     "output_type": "display_data"
    }
   ],
   "source": [
    "plt.figure()\n",
    "plt.plot(y_test_pred_svm)\n",
    "plt.plot(y_temp)\n",
    "plt.title('Prediction vs Real Stock Price')\n",
    "plt.ylabel('Price')\n",
    "plt.xlabel('Days')\n",
    "plt.legend(['Prediction', 'Real'], loc='upper left')\n",
    "plt.show()"
   ]
  },
  {
   "cell_type": "code",
   "execution_count": 71,
   "metadata": {},
   "outputs": [
    {
     "name": "stdout",
     "output_type": "stream",
     "text": [
      "-4402.530945868712\n"
     ]
    }
   ],
   "source": [
    "svm_strategy = strategy()\n",
    "svm_predicted_data = y_test_pred_svm # TODO: find this\n",
    "real_data = y_temp_orig\n",
    "svm_strategy_return = execute_strategy(svm_strategy, svm_predicted_data, verbose=False)\n",
    "svm_strategy.stocks\n",
    "print(svm_strategy_return)"
   ]
  },
  {
   "cell_type": "code",
   "execution_count": 72,
   "metadata": {},
   "outputs": [],
   "source": [
    "# do gridsearch, put logging into\n",
    "# what overfit would mean here?\n",
    "# read lstm AK\n",
    "# how to appreciate how good is the prediction?\n",
    "\n",
    "# sentiment analysis for stock prediction ? X\n",
    "\n"
   ]
  },
  {
   "cell_type": "code",
   "execution_count": 31,
   "metadata": {},
   "outputs": [],
   "source": [
    "# KNN Classifier is a classifier; We modeled this as a regression problem"
   ]
  },
  {
   "cell_type": "markdown",
   "metadata": {},
   "source": [
    "benchmark_model = knn()\n",
    "benchmark_model.fit(x_t, y_t)\n",
    "y_test_pred = benchmark_model.predict(x_temp)\n",
    "\n",
    "error = mean_squared_error(y_test_pred, y_temp)\n",
    "print(error)\n"
   ]
  },
  {
   "cell_type": "code",
   "execution_count": null,
   "metadata": {},
   "outputs": [],
   "source": []
  }
 ],
 "metadata": {
  "kernelspec": {
   "display_name": "Python 3",
   "language": "python",
   "name": "python3"
  },
  "language_info": {
   "codemirror_mode": {
    "name": "ipython",
    "version": 3
   },
   "file_extension": ".py",
   "mimetype": "text/x-python",
   "name": "python",
   "nbconvert_exporter": "python",
   "pygments_lexer": "ipython3",
   "version": "3.7.3"
  }
 },
 "nbformat": 4,
 "nbformat_minor": 2
}
