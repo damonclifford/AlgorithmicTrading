{
 "cells": [
  {
   "cell_type": "markdown",
   "metadata": {},
   "source": [
    "# FACEBOOK DATA FROM YAHOO FINANCE"
   ]
  },
  {
   "cell_type": "code",
   "execution_count": 1,
   "metadata": {},
   "outputs": [],
   "source": [
    "import pandas as pd\n",
    "import numpy as np\n",
    "from matplotlib import pyplot as plt\n",
    "%matplotlib inline"
   ]
  },
  {
   "cell_type": "code",
   "execution_count": 2,
   "metadata": {},
   "outputs": [],
   "source": [
    "df = pd.read_csv(\"C:/Users/ASUS/Desktop/FMI/Licenta OB/Overall Code/packtpub-notebooks/packtpub-src/csv/FB2012-2019.csv\")"
   ]
  },
  {
   "cell_type": "code",
   "execution_count": 3,
   "metadata": {},
   "outputs": [
    {
     "data": {
      "text/html": [
       "<div>\n",
       "<style scoped>\n",
       "    .dataframe tbody tr th:only-of-type {\n",
       "        vertical-align: middle;\n",
       "    }\n",
       "\n",
       "    .dataframe tbody tr th {\n",
       "        vertical-align: top;\n",
       "    }\n",
       "\n",
       "    .dataframe thead th {\n",
       "        text-align: right;\n",
       "    }\n",
       "</style>\n",
       "<table border=\"1\" class=\"dataframe\">\n",
       "  <thead>\n",
       "    <tr style=\"text-align: right;\">\n",
       "      <th></th>\n",
       "      <th>Date</th>\n",
       "      <th>Open</th>\n",
       "      <th>High</th>\n",
       "      <th>Low</th>\n",
       "      <th>Close</th>\n",
       "      <th>Adj Close</th>\n",
       "      <th>Volume</th>\n",
       "    </tr>\n",
       "  </thead>\n",
       "  <tbody>\n",
       "    <tr>\n",
       "      <th>0</th>\n",
       "      <td>2012-05-29</td>\n",
       "      <td>31.480000</td>\n",
       "      <td>31.690001</td>\n",
       "      <td>28.650000</td>\n",
       "      <td>28.840000</td>\n",
       "      <td>28.840000</td>\n",
       "      <td>78063400</td>\n",
       "    </tr>\n",
       "    <tr>\n",
       "      <th>1</th>\n",
       "      <td>2012-05-30</td>\n",
       "      <td>28.700001</td>\n",
       "      <td>29.549999</td>\n",
       "      <td>27.860001</td>\n",
       "      <td>28.190001</td>\n",
       "      <td>28.190001</td>\n",
       "      <td>57267900</td>\n",
       "    </tr>\n",
       "    <tr>\n",
       "      <th>2</th>\n",
       "      <td>2012-05-31</td>\n",
       "      <td>28.549999</td>\n",
       "      <td>29.670000</td>\n",
       "      <td>26.830000</td>\n",
       "      <td>29.600000</td>\n",
       "      <td>29.600000</td>\n",
       "      <td>111639200</td>\n",
       "    </tr>\n",
       "    <tr>\n",
       "      <th>3</th>\n",
       "      <td>2012-06-01</td>\n",
       "      <td>28.889999</td>\n",
       "      <td>29.150000</td>\n",
       "      <td>27.389999</td>\n",
       "      <td>27.719999</td>\n",
       "      <td>27.719999</td>\n",
       "      <td>41855500</td>\n",
       "    </tr>\n",
       "    <tr>\n",
       "      <th>4</th>\n",
       "      <td>2012-06-04</td>\n",
       "      <td>27.200001</td>\n",
       "      <td>27.650000</td>\n",
       "      <td>26.440001</td>\n",
       "      <td>26.900000</td>\n",
       "      <td>26.900000</td>\n",
       "      <td>35230300</td>\n",
       "    </tr>\n",
       "  </tbody>\n",
       "</table>\n",
       "</div>"
      ],
      "text/plain": [
       "         Date       Open       High        Low      Close  Adj Close  \\\n",
       "0  2012-05-29  31.480000  31.690001  28.650000  28.840000  28.840000   \n",
       "1  2012-05-30  28.700001  29.549999  27.860001  28.190001  28.190001   \n",
       "2  2012-05-31  28.549999  29.670000  26.830000  29.600000  29.600000   \n",
       "3  2012-06-01  28.889999  29.150000  27.389999  27.719999  27.719999   \n",
       "4  2012-06-04  27.200001  27.650000  26.440001  26.900000  26.900000   \n",
       "\n",
       "      Volume  \n",
       "0   78063400  \n",
       "1   57267900  \n",
       "2  111639200  \n",
       "3   41855500  \n",
       "4   35230300  "
      ]
     },
     "execution_count": 3,
     "metadata": {},
     "output_type": "execute_result"
    }
   ],
   "source": [
    "df.head()"
   ]
  },
  {
   "cell_type": "code",
   "execution_count": 4,
   "metadata": {},
   "outputs": [
    {
     "data": {
      "text/html": [
       "<div>\n",
       "<style scoped>\n",
       "    .dataframe tbody tr th:only-of-type {\n",
       "        vertical-align: middle;\n",
       "    }\n",
       "\n",
       "    .dataframe tbody tr th {\n",
       "        vertical-align: top;\n",
       "    }\n",
       "\n",
       "    .dataframe thead th {\n",
       "        text-align: right;\n",
       "    }\n",
       "</style>\n",
       "<table border=\"1\" class=\"dataframe\">\n",
       "  <thead>\n",
       "    <tr style=\"text-align: right;\">\n",
       "      <th></th>\n",
       "      <th>Date</th>\n",
       "      <th>Open</th>\n",
       "      <th>High</th>\n",
       "      <th>Low</th>\n",
       "      <th>Close</th>\n",
       "      <th>Adj Close</th>\n",
       "      <th>Volume</th>\n",
       "    </tr>\n",
       "  </thead>\n",
       "  <tbody>\n",
       "    <tr>\n",
       "      <th>1755</th>\n",
       "      <td>2019-05-21</td>\n",
       "      <td>184.570007</td>\n",
       "      <td>185.699997</td>\n",
       "      <td>183.889999</td>\n",
       "      <td>184.820007</td>\n",
       "      <td>184.820007</td>\n",
       "      <td>7502800</td>\n",
       "    </tr>\n",
       "    <tr>\n",
       "      <th>1756</th>\n",
       "      <td>2019-05-22</td>\n",
       "      <td>184.729996</td>\n",
       "      <td>186.740005</td>\n",
       "      <td>183.610001</td>\n",
       "      <td>185.320007</td>\n",
       "      <td>185.320007</td>\n",
       "      <td>9213800</td>\n",
       "    </tr>\n",
       "    <tr>\n",
       "      <th>1757</th>\n",
       "      <td>2019-05-23</td>\n",
       "      <td>182.419998</td>\n",
       "      <td>183.899994</td>\n",
       "      <td>179.669998</td>\n",
       "      <td>180.869995</td>\n",
       "      <td>180.869995</td>\n",
       "      <td>12768800</td>\n",
       "    </tr>\n",
       "    <tr>\n",
       "      <th>1758</th>\n",
       "      <td>2019-05-24</td>\n",
       "      <td>182.330002</td>\n",
       "      <td>183.630005</td>\n",
       "      <td>180.830002</td>\n",
       "      <td>181.059998</td>\n",
       "      <td>181.059998</td>\n",
       "      <td>8807700</td>\n",
       "    </tr>\n",
       "    <tr>\n",
       "      <th>1759</th>\n",
       "      <td>2019-05-28</td>\n",
       "      <td>181.539993</td>\n",
       "      <td>184.710007</td>\n",
       "      <td>181.449997</td>\n",
       "      <td>184.309998</td>\n",
       "      <td>184.309998</td>\n",
       "      <td>14843300</td>\n",
       "    </tr>\n",
       "  </tbody>\n",
       "</table>\n",
       "</div>"
      ],
      "text/plain": [
       "            Date        Open        High         Low       Close   Adj Close  \\\n",
       "1755  2019-05-21  184.570007  185.699997  183.889999  184.820007  184.820007   \n",
       "1756  2019-05-22  184.729996  186.740005  183.610001  185.320007  185.320007   \n",
       "1757  2019-05-23  182.419998  183.899994  179.669998  180.869995  180.869995   \n",
       "1758  2019-05-24  182.330002  183.630005  180.830002  181.059998  181.059998   \n",
       "1759  2019-05-28  181.539993  184.710007  181.449997  184.309998  184.309998   \n",
       "\n",
       "        Volume  \n",
       "1755   7502800  \n",
       "1756   9213800  \n",
       "1757  12768800  \n",
       "1758   8807700  \n",
       "1759  14843300  "
      ]
     },
     "execution_count": 4,
     "metadata": {},
     "output_type": "execute_result"
    }
   ],
   "source": [
    "df.tail()"
   ]
  },
  {
   "cell_type": "code",
   "execution_count": 5,
   "metadata": {},
   "outputs": [
    {
     "data": {
      "image/png": "[encoded data removed]",
      "text/plain": [
       "<Figure size 432x288 with 1 Axes>"
      ]
     },
     "metadata": {
      "needs_background": "light"
     },
     "output_type": "display_data"
    }
   ],
   "source": [
    "plt.figure()\n",
    "plt.title(\"FB stock price history\")\n",
    "plt.plot(df['Open'])\n",
    "#plt.plot(df[\"Close\"])\n",
    "#plt.plot(df[\"High\"])\n",
    "#plt.plot(df[\"Low\"])\n",
    "plt.ylabel('Price (USD)')\n",
    "plt.xlabel('Days')\n",
    "plt.legend(['Open', 'Close', 'High', 'Low'], loc='upper left')\n",
    "plt.show()"
   ]
  },
  {
   "cell_type": "code",
   "execution_count": 6,
   "metadata": {},
   "outputs": [
    {
     "data": {
      "image/png": "[encoded data removed]",
      "text/plain": [
       "<Figure size 432x288 with 1 Axes>"
      ]
     },
     "metadata": {
      "needs_background": "light"
     },
     "output_type": "display_data"
    }
   ],
   "source": [
    "plt.figure()\n",
    "plt.plot(df['Volume'])\n",
    "plt.title('FB stock volume history')\n",
    "plt.ylabel('Volume')\n",
    "plt.xlabel('Days')\n",
    "plt.show()"
   ]
  },
  {
   "cell_type": "code",
   "execution_count": 7,
   "metadata": {},
   "outputs": [
    {
     "name": "stdout",
     "output_type": "stream",
     "text": [
      "Checking if any null values are present\n",
      " Date         0\n",
      "Open         0\n",
      "High         0\n",
      "Low          0\n",
      "Close        0\n",
      "Adj Close    0\n",
      "Volume       0\n",
      "dtype: int64\n"
     ]
    }
   ],
   "source": [
    "print('Checking if any null values are present\\n', df.isna().sum())"
   ]
  },
  {
   "cell_type": "markdown",
   "metadata": {},
   "source": [
    "### Normalizing the data\n",
    "* Split the data into train, test\n",
    "* Normalize\n",
    "* Covert the DataFrame to ndarray"
   ]
  },
  {
   "cell_type": "code",
   "execution_count": 8,
   "metadata": {},
   "outputs": [],
   "source": [
    "#! pip install keras"
   ]
  },
  {
   "cell_type": "code",
   "execution_count": 9,
   "metadata": {},
   "outputs": [],
   "source": [
    "#! pip install np_utils"
   ]
  },
  {
   "cell_type": "code",
   "execution_count": 10,
   "metadata": {},
   "outputs": [],
   "source": [
    "#! pip install tensorflow"
   ]
  },
  {
   "cell_type": "code",
   "execution_count": 11,
   "metadata": {},
   "outputs": [],
   "source": [
    "#! pip install numpy --upgrade --user"
   ]
  },
  {
   "cell_type": "code",
   "execution_count": 12,
   "metadata": {},
   "outputs": [
    {
     "name": "stderr",
     "output_type": "stream",
     "text": [
      "Using TensorFlow backend.\n"
     ]
    },
    {
     "name": "stdout",
     "output_type": "stream",
     "text": [
      "Checking GPU available []\n"
     ]
    }
   ],
   "source": [
    "from tqdm._tqdm_notebook import tqdm_notebook\n",
    "from sklearn.preprocessing import MinMaxScaler\n",
    "from sklearn.model_selection import train_test_split\n",
    "from sklearn.metrics import mean_squared_error\n",
    "from keras.models import Sequential, load_model\n",
    "from keras.layers import Dense, Dropout\n",
    "from keras.layers import LSTM\n",
    "from keras import optimizers\n",
    "from keras import backend as K\n",
    "from keras.callbacks import EarlyStopping\n",
    "\n",
    "print('Checking GPU available', K.tensorflow_backend._get_available_gpus())\n"
   ]
  },
  {
   "cell_type": "code",
   "execution_count": 13,
   "metadata": {},
   "outputs": [],
   "source": [
    "from keras import losses"
   ]
  },
  {
   "cell_type": "code",
   "execution_count": 14,
   "metadata": {},
   "outputs": [],
   "source": [
    "TIME_STEPS = 60\n",
    "BATCH_SIZE = 20"
   ]
  },
  {
   "cell_type": "code",
   "execution_count": 15,
   "metadata": {},
   "outputs": [],
   "source": [
    "params = {\n",
    "    \"batch_size\": 20,  # 20<16<10, 25 was a bust\n",
    "    \"epochs\": 300,\n",
    "    \"lr\": 0.00010000,\n",
    "    \"time_steps\": 60\n",
    "}"
   ]
  },
  {
   "cell_type": "code",
   "execution_count": 16,
   "metadata": {},
   "outputs": [
    {
     "name": "stdout",
     "output_type": "stream",
     "text": [
      "Train and test set 1408 352\n"
     ]
    }
   ],
   "source": [
    "\n",
    "train_cols = ['Open', 'High', 'Low', 'Close', 'Volume']\n",
    "df_train, df_test = train_test_split(df, train_size=0.8, test_size=0.2, shuffle=False)\n",
    "print('Train and test set', len(df_train), len(df_test))\n",
    "\n",
    "#scale the feature MinMax, build array\n",
    "x = df_train.loc[:, train_cols].values\n",
    "min_max_scaler = MinMaxScaler()\n",
    "x_train = min_max_scaler.fit_transform(x)\n",
    "x_test = min_max_scaler.transform(df_test.loc[:, train_cols])"
   ]
  },
  {
   "cell_type": "code",
   "execution_count": 17,
   "metadata": {},
   "outputs": [],
   "source": [
    "def build_timeseries(mat, y_col_index):\n",
    "    # y_col_index is the index of column that would act as output column\n",
    "    # total nb of time-series samples would be len(mat) - TIME_STEPS\n",
    "    dim_0 = mat.shape[0] - TIME_STEPS\n",
    "    dim_1 = mat.shape[1]\n",
    "    x = np.zeros((dim_0, TIME_STEPS, dim_1))\n",
    "    y = np.zeros((dim_0,))\n",
    "    \n",
    "    for i in tqdm_notebook(range(dim_0)):\n",
    "        x[i] = mat[i:TIME_STEPS+i]\n",
    "        y[i] = mat[TIME_STEPS+i, y_col_index]\n",
    "    \n",
    "    print('length of time-series i/o', x.shape, y.shape)\n",
    "    return x, y"
   ]
  },
  {
   "cell_type": "code",
   "execution_count": 18,
   "metadata": {},
   "outputs": [],
   "source": [
    "def trim_dataset(mat, batch_size):\n",
    "    \"\"\"\n",
    "    trims dataset to a size that is divisible by BATCH_SIZE\n",
    "    \"\"\"\n",
    "    no_of_rows_drop = mat.shape[0] % batch_size\n",
    "    if no_of_rows_drop > 0:\n",
    "        return mat[:-no_of_rows_drop]\n",
    "    else:\n",
    "        return mat"
   ]
  },
  {
   "cell_type": "code",
   "execution_count": 19,
   "metadata": {},
   "outputs": [
    {
     "data": {
      "application/vnd.jupyter.widget-view+json": {
       "model_id": "190a10a9de95447a947084f44780e730",
       "version_major": 2,
       "version_minor": 0
      },
      "text/plain": [
       "HBox(children=(IntProgress(value=0, max=1348), HTML(value='')))"
      ]
     },
     "metadata": {},
     "output_type": "display_data"
    },
    {
     "name": "stdout",
     "output_type": "stream",
     "text": [
      "\n",
      "length of time-series i/o (1348, 60, 5) (1348,)\n"
     ]
    },
    {
     "data": {
      "application/vnd.jupyter.widget-view+json": {
       "model_id": "9b751bb4da954dcbb8b38eb1508130ea",
       "version_major": 2,
       "version_minor": 0
      },
      "text/plain": [
       "HBox(children=(IntProgress(value=0, max=292), HTML(value='')))"
      ]
     },
     "metadata": {},
     "output_type": "display_data"
    },
    {
     "name": "stdout",
     "output_type": "stream",
     "text": [
      "\n",
      "length of time-series i/o (292, 60, 5) (292,)\n"
     ]
    }
   ],
   "source": [
    "x_t, y_t = build_timeseries(x_train, 3)\n",
    "x_t = trim_dataset(x_t, BATCH_SIZE)\n",
    "y_t = trim_dataset(y_t, BATCH_SIZE)\n",
    "\n",
    "x_temp, y_temp = build_timeseries(x_test, 3)\n",
    "x_val, x_test_t = np.split(trim_dataset(x_temp, BATCH_SIZE), 2)\n",
    "y_val, y_test_t = np.split(trim_dataset(y_temp, BATCH_SIZE), 2)"
   ]
  },
  {
   "cell_type": "code",
   "execution_count": 20,
   "metadata": {},
   "outputs": [],
   "source": [
    "def create_model():\n",
    "    lstm_model = Sequential()\n",
    "    # (batch_size, time_steps, data_dim)\n",
    "    lstm_model.add(LSTM(100, batch_input_shape=(BATCH_SIZE, TIME_STEPS, x_t.shape[2]),\n",
    "                       dropout=0.0, recurrent_dropout=0.0, stateful=True, return_sequences=True,\n",
    "                       kernel_initializer='random_uniform'))\n",
    "    lstm_model.add(Dropout(0.4))\n",
    "    lstm_model.add(LSTM(60, dropout=0.0))\n",
    "    lstm_model.add(Dropout(0.4))\n",
    "    lstm_model.add(Dense(20, activation='relu'))\n",
    "    lstm_model.add(Dense(1, activation='linear'))\n",
    "    optimizer = optimizers.RMSprop(lr=params['lr'])\n",
    "    lstm_model.compile(loss='mean_squared_error', optimizer=optimizer)\n",
    "    # lstm_model.compile(loss=losses.mean_squarred_error, optimizer=optimizer)\n",
    "    return lstm_model"
   ]
  },
  {
   "cell_type": "code",
   "execution_count": 21,
   "metadata": {},
   "outputs": [],
   "source": [
    "es = EarlyStopping(monitor='val_loss', mode='min', verbose=1,\n",
    "                   patience=40, min_delta=0.0001)"
   ]
  },
  {
   "cell_type": "code",
   "execution_count": 22,
   "metadata": {},
   "outputs": [
    {
     "name": "stdout",
     "output_type": "stream",
     "text": [
      "WARNING:tensorflow:From C:\\Users\\ASUS\\Anaconda3\\envs\\tradebot\\lib\\site-packages\\tensorflow\\python\\framework\\op_def_library.py:263: colocate_with (from tensorflow.python.framework.ops) is deprecated and will be removed in a future version.\n",
      "Instructions for updating:\n",
      "Colocations handled automatically by placer.\n",
      "WARNING:tensorflow:From C:\\Users\\ASUS\\Anaconda3\\envs\\tradebot\\lib\\site-packages\\keras\\backend\\tensorflow_backend.py:3445: calling dropout (from tensorflow.python.ops.nn_ops) with keep_prob is deprecated and will be removed in a future version.\n",
      "Instructions for updating:\n",
      "Please use `rate` instead of `keep_prob`. Rate should be set to `rate = 1 - keep_prob`.\n",
      "WARNING:tensorflow:From C:\\Users\\ASUS\\Anaconda3\\envs\\tradebot\\lib\\site-packages\\tensorflow\\python\\ops\\math_ops.py:3066: to_int32 (from tensorflow.python.ops.math_ops) is deprecated and will be removed in a future version.\n",
      "Instructions for updating:\n",
      "Use tf.cast instead.\n",
      "Train on 1340 samples, validate on 140 samples\n",
      "Epoch 1/300\n",
      " - 8s - loss: 0.0129 - val_loss: 0.0061\n",
      "Epoch 2/300\n",
      " - 6s - loss: 0.0100 - val_loss: 0.0050\n",
      "Epoch 3/300\n",
      " - 6s - loss: 0.0081 - val_loss: 0.0104\n",
      "Epoch 4/300\n",
      " - 5s - loss: 0.0072 - val_loss: 0.0053\n",
      "Epoch 5/300\n",
      " - 6s - loss: 0.0055 - val_loss: 0.0046\n",
      "Epoch 6/300\n",
      " - 5s - loss: 0.0052 - val_loss: 0.0040\n",
      "Epoch 7/300\n",
      " - 5s - loss: 0.0054 - val_loss: 0.0071\n",
      "Epoch 8/300\n",
      " - 5s - loss: 0.0051 - val_loss: 0.0040\n",
      "Epoch 9/300\n",
      " - 5s - loss: 0.0049 - val_loss: 0.0056\n",
      "Epoch 10/300\n",
      " - 5s - loss: 0.0045 - val_loss: 0.0038\n",
      "Epoch 11/300\n",
      " - 5s - loss: 0.0045 - val_loss: 0.0040\n",
      "Epoch 12/300\n",
      " - 5s - loss: 0.0040 - val_loss: 0.0041\n",
      "Epoch 13/300\n",
      " - 6s - loss: 0.0036 - val_loss: 0.0040\n",
      "Epoch 14/300\n",
      " - 6s - loss: 0.0038 - val_loss: 0.0036\n",
      "Epoch 15/300\n",
      " - 5s - loss: 0.0036 - val_loss: 0.0067\n",
      "Epoch 16/300\n",
      " - 5s - loss: 0.0037 - val_loss: 0.0045\n",
      "Epoch 17/300\n",
      " - 5s - loss: 0.0034 - val_loss: 0.0037\n",
      "Epoch 18/300\n",
      " - 5s - loss: 0.0035 - val_loss: 0.0041\n",
      "Epoch 19/300\n",
      " - 5s - loss: 0.0033 - val_loss: 0.0057\n",
      "Epoch 20/300\n",
      " - 5s - loss: 0.0036 - val_loss: 0.0035\n",
      "Epoch 21/300\n",
      " - 5s - loss: 0.0031 - val_loss: 0.0042\n",
      "Epoch 22/300\n",
      " - 5s - loss: 0.0030 - val_loss: 0.0034\n",
      "Epoch 23/300\n",
      " - 5s - loss: 0.0032 - val_loss: 0.0051\n",
      "Epoch 24/300\n",
      " - 5s - loss: 0.0031 - val_loss: 0.0037\n",
      "Epoch 25/300\n",
      " - 5s - loss: 0.0034 - val_loss: 0.0055\n",
      "Epoch 26/300\n",
      " - 5s - loss: 0.0029 - val_loss: 0.0042\n",
      "Epoch 27/300\n",
      " - 5s - loss: 0.0027 - val_loss: 0.0055\n",
      "Epoch 28/300\n",
      " - 5s - loss: 0.0030 - val_loss: 0.0041\n",
      "Epoch 29/300\n",
      " - 5s - loss: 0.0029 - val_loss: 0.0035\n",
      "Epoch 30/300\n",
      " - 5s - loss: 0.0027 - val_loss: 0.0039\n",
      "Epoch 31/300\n",
      " - 5s - loss: 0.0030 - val_loss: 0.0034\n",
      "Epoch 32/300\n",
      " - 5s - loss: 0.0026 - val_loss: 0.0042\n",
      "Epoch 33/300\n",
      " - 5s - loss: 0.0024 - val_loss: 0.0044\n",
      "Epoch 34/300\n",
      " - 5s - loss: 0.0026 - val_loss: 0.0069\n",
      "Epoch 35/300\n",
      " - 5s - loss: 0.0025 - val_loss: 0.0062\n",
      "Epoch 36/300\n",
      " - 5s - loss: 0.0025 - val_loss: 0.0049\n",
      "Epoch 37/300\n",
      " - 5s - loss: 0.0023 - val_loss: 0.0035\n",
      "Epoch 38/300\n",
      " - 5s - loss: 0.0027 - val_loss: 0.0044\n",
      "Epoch 39/300\n",
      " - 5s - loss: 0.0022 - val_loss: 0.0037\n",
      "Epoch 40/300\n",
      " - 5s - loss: 0.0023 - val_loss: 0.0062\n",
      "Epoch 41/300\n",
      " - 5s - loss: 0.0022 - val_loss: 0.0046\n",
      "Epoch 42/300\n",
      " - 5s - loss: 0.0020 - val_loss: 0.0052\n",
      "Epoch 43/300\n",
      " - 5s - loss: 0.0025 - val_loss: 0.0040\n",
      "Epoch 44/300\n",
      " - 5s - loss: 0.0024 - val_loss: 0.0032\n",
      "Epoch 45/300\n",
      " - 5s - loss: 0.0025 - val_loss: 0.0031\n",
      "Epoch 46/300\n",
      " - 5s - loss: 0.0023 - val_loss: 0.0045\n",
      "Epoch 47/300\n",
      " - 5s - loss: 0.0022 - val_loss: 0.0031\n",
      "Epoch 48/300\n",
      " - 5s - loss: 0.0022 - val_loss: 0.0050\n",
      "Epoch 49/300\n",
      " - 5s - loss: 0.0023 - val_loss: 0.0058\n",
      "Epoch 50/300\n",
      " - 5s - loss: 0.0020 - val_loss: 0.0034\n",
      "Epoch 51/300\n",
      " - 5s - loss: 0.0021 - val_loss: 0.0031\n",
      "Epoch 52/300\n",
      " - 5s - loss: 0.0020 - val_loss: 0.0036\n",
      "Epoch 53/300\n",
      " - 5s - loss: 0.0020 - val_loss: 0.0032\n",
      "Epoch 54/300\n",
      " - 5s - loss: 0.0021 - val_loss: 0.0033\n",
      "Epoch 55/300\n",
      " - 5s - loss: 0.0022 - val_loss: 0.0055\n",
      "Epoch 56/300\n",
      " - 5s - loss: 0.0020 - val_loss: 0.0030\n",
      "Epoch 57/300\n",
      " - 5s - loss: 0.0020 - val_loss: 0.0046\n",
      "Epoch 58/300\n",
      " - 5s - loss: 0.0020 - val_loss: 0.0043\n",
      "Epoch 59/300\n",
      " - 5s - loss: 0.0020 - val_loss: 0.0035\n",
      "Epoch 60/300\n",
      " - 5s - loss: 0.0020 - val_loss: 0.0031\n",
      "Epoch 61/300\n",
      " - 5s - loss: 0.0020 - val_loss: 0.0033\n",
      "Epoch 62/300\n",
      " - 5s - loss: 0.0021 - val_loss: 0.0047\n",
      "Epoch 63/300\n",
      " - 5s - loss: 0.0019 - val_loss: 0.0042\n",
      "Epoch 64/300\n",
      " - 5s - loss: 0.0019 - val_loss: 0.0053\n",
      "Epoch 65/300\n",
      " - 5s - loss: 0.0019 - val_loss: 0.0043\n",
      "Epoch 66/300\n",
      " - 5s - loss: 0.0017 - val_loss: 0.0052\n",
      "Epoch 67/300\n",
      " - 5s - loss: 0.0019 - val_loss: 0.0049\n",
      "Epoch 68/300\n",
      " - 5s - loss: 0.0018 - val_loss: 0.0054\n",
      "Epoch 69/300\n",
      " - 5s - loss: 0.0018 - val_loss: 0.0046\n",
      "Epoch 70/300\n",
      " - 5s - loss: 0.0018 - val_loss: 0.0040\n",
      "Epoch 71/300\n",
      " - 5s - loss: 0.0018 - val_loss: 0.0067\n",
      "Epoch 72/300\n",
      " - 6s - loss: 0.0017 - val_loss: 0.0053\n",
      "Epoch 73/300\n",
      " - 6s - loss: 0.0018 - val_loss: 0.0031\n",
      "Epoch 74/300\n",
      " - 6s - loss: 0.0020 - val_loss: 0.0047\n",
      "Epoch 75/300\n",
      " - 6s - loss: 0.0017 - val_loss: 0.0035\n",
      "Epoch 76/300\n",
      " - 5s - loss: 0.0017 - val_loss: 0.0033\n",
      "Epoch 77/300\n",
      " - 6s - loss: 0.0017 - val_loss: 0.0060\n",
      "Epoch 78/300\n",
      " - 6s - loss: 0.0018 - val_loss: 0.0057\n",
      "Epoch 79/300\n",
      " - 6s - loss: 0.0016 - val_loss: 0.0029\n",
      "Epoch 80/300\n",
      " - 6s - loss: 0.0018 - val_loss: 0.0052\n",
      "Epoch 81/300\n",
      " - 6s - loss: 0.0018 - val_loss: 0.0035\n",
      "Epoch 82/300\n",
      " - 5s - loss: 0.0017 - val_loss: 0.0034\n",
      "Epoch 83/300\n",
      " - 6s - loss: 0.0016 - val_loss: 0.0030\n",
      "Epoch 84/300\n",
      " - 6s - loss: 0.0016 - val_loss: 0.0029\n",
      "Epoch 85/300\n",
      " - 6s - loss: 0.0016 - val_loss: 0.0032\n",
      "Epoch 86/300\n",
      " - 6s - loss: 0.0017 - val_loss: 0.0041\n",
      "Epoch 87/300\n",
      " - 6s - loss: 0.0016 - val_loss: 0.0029\n",
      "Epoch 88/300\n",
      " - 6s - loss: 0.0017 - val_loss: 0.0032\n",
      "Epoch 89/300\n",
      " - 6s - loss: 0.0016 - val_loss: 0.0052\n",
      "Epoch 90/300\n",
      " - 6s - loss: 0.0016 - val_loss: 0.0036\n",
      "Epoch 91/300\n",
      " - 6s - loss: 0.0017 - val_loss: 0.0074\n",
      "Epoch 92/300\n",
      " - 5s - loss: 0.0016 - val_loss: 0.0040\n",
      "Epoch 93/300\n",
      " - 6s - loss: 0.0015 - val_loss: 0.0038\n",
      "Epoch 94/300\n",
      " - 5s - loss: 0.0016 - val_loss: 0.0028\n",
      "Epoch 95/300\n",
      " - 5s - loss: 0.0016 - val_loss: 0.0043\n",
      "Epoch 96/300\n",
      " - 5s - loss: 0.0015 - val_loss: 0.0035\n",
      "Epoch 97/300\n",
      " - 5s - loss: 0.0016 - val_loss: 0.0045\n",
      "Epoch 98/300\n",
      " - 5s - loss: 0.0014 - val_loss: 0.0028\n",
      "Epoch 99/300\n",
      " - 5s - loss: 0.0016 - val_loss: 0.0031\n",
      "Epoch 100/300\n",
      " - 5s - loss: 0.0015 - val_loss: 0.0071\n",
      "Epoch 101/300\n",
      " - 5s - loss: 0.0015 - val_loss: 0.0050\n",
      "Epoch 102/300\n",
      " - 5s - loss: 0.0016 - val_loss: 0.0059\n",
      "Epoch 103/300\n",
      " - 5s - loss: 0.0014 - val_loss: 0.0038\n",
      "Epoch 104/300\n",
      " - 5s - loss: 0.0015 - val_loss: 0.0038\n",
      "Epoch 105/300\n",
      " - 5s - loss: 0.0014 - val_loss: 0.0030\n",
      "Epoch 106/300\n",
      " - 5s - loss: 0.0015 - val_loss: 0.0044\n",
      "Epoch 107/300\n",
      " - 5s - loss: 0.0015 - val_loss: 0.0036\n",
      "Epoch 108/300\n",
      " - 5s - loss: 0.0014 - val_loss: 0.0032\n",
      "Epoch 109/300\n",
      " - 5s - loss: 0.0014 - val_loss: 0.0035\n",
      "Epoch 110/300\n",
      " - 5s - loss: 0.0013 - val_loss: 0.0028\n",
      "Epoch 111/300\n",
      " - 5s - loss: 0.0012 - val_loss: 0.0035\n",
      "Epoch 112/300\n",
      " - 5s - loss: 0.0013 - val_loss: 0.0043\n",
      "Epoch 113/300\n",
      " - 5s - loss: 0.0016 - val_loss: 0.0030\n",
      "Epoch 114/300\n",
      " - 5s - loss: 0.0015 - val_loss: 0.0038\n",
      "Epoch 115/300\n",
      " - 5s - loss: 0.0014 - val_loss: 0.0027\n",
      "Epoch 116/300\n",
      " - 5s - loss: 0.0016 - val_loss: 0.0073\n",
      "Epoch 117/300\n",
      " - 5s - loss: 0.0014 - val_loss: 0.0056\n",
      "Epoch 118/300\n",
      " - 5s - loss: 0.0014 - val_loss: 0.0040\n",
      "Epoch 119/300\n",
      " - 5s - loss: 0.0012 - val_loss: 0.0028\n",
      "Epoch 120/300\n",
      " - 5s - loss: 0.0014 - val_loss: 0.0040\n",
      "Epoch 121/300\n",
      " - 5s - loss: 0.0013 - val_loss: 0.0035\n",
      "Epoch 122/300\n",
      " - 6s - loss: 0.0013 - val_loss: 0.0028\n",
      "Epoch 123/300\n",
      " - 5s - loss: 0.0014 - val_loss: 0.0074\n",
      "Epoch 124/300\n",
      " - 5s - loss: 0.0013 - val_loss: 0.0028\n",
      "Epoch 125/300\n",
      " - 5s - loss: 0.0013 - val_loss: 0.0071\n",
      "Epoch 126/300\n",
      " - 5s - loss: 0.0013 - val_loss: 0.0048\n",
      "Epoch 127/300\n",
      " - 5s - loss: 0.0013 - val_loss: 0.0028\n",
      "Epoch 128/300\n",
      " - 5s - loss: 0.0013 - val_loss: 0.0055\n",
      "Epoch 129/300\n",
      " - 5s - loss: 0.0012 - val_loss: 0.0029\n",
      "Epoch 130/300\n",
      " - 5s - loss: 0.0013 - val_loss: 0.0040\n",
      "Epoch 131/300\n",
      " - 5s - loss: 0.0014 - val_loss: 0.0048\n",
      "Epoch 132/300\n",
      " - 5s - loss: 0.0012 - val_loss: 0.0044\n",
      "Epoch 133/300\n",
      " - 5s - loss: 0.0014 - val_loss: 0.0048\n",
      "Epoch 134/300\n",
      " - 5s - loss: 0.0013 - val_loss: 0.0027\n",
      "Epoch 135/300\n",
      " - 5s - loss: 0.0014 - val_loss: 0.0055\n",
      "Epoch 136/300\n",
      " - 5s - loss: 0.0013 - val_loss: 0.0039\n"
     ]
    },
    {
     "name": "stdout",
     "output_type": "stream",
     "text": [
      "Epoch 137/300\n",
      " - 5s - loss: 0.0013 - val_loss: 0.0037\n",
      "Epoch 138/300\n",
      " - 5s - loss: 0.0012 - val_loss: 0.0067\n",
      "Epoch 139/300\n",
      " - 5s - loss: 0.0014 - val_loss: 0.0045\n",
      "Epoch 140/300\n",
      " - 5s - loss: 0.0013 - val_loss: 0.0029\n",
      "Epoch 141/300\n",
      " - 5s - loss: 0.0013 - val_loss: 0.0033\n",
      "Epoch 142/300\n",
      " - 5s - loss: 0.0012 - val_loss: 0.0043\n",
      "Epoch 143/300\n",
      " - 5s - loss: 0.0012 - val_loss: 0.0069\n",
      "Epoch 144/300\n",
      " - 5s - loss: 0.0013 - val_loss: 0.0039\n",
      "Epoch 145/300\n",
      " - 5s - loss: 0.0013 - val_loss: 0.0038\n",
      "Epoch 146/300\n",
      " - 5s - loss: 0.0012 - val_loss: 0.0069\n",
      "Epoch 147/300\n",
      " - 5s - loss: 0.0013 - val_loss: 0.0026\n",
      "Epoch 148/300\n",
      " - 5s - loss: 0.0012 - val_loss: 0.0069\n",
      "Epoch 149/300\n",
      " - 5s - loss: 0.0012 - val_loss: 0.0045\n",
      "Epoch 150/300\n",
      " - 5s - loss: 0.0013 - val_loss: 0.0040\n",
      "Epoch 151/300\n",
      " - 5s - loss: 0.0013 - val_loss: 0.0030\n",
      "Epoch 152/300\n",
      " - 5s - loss: 0.0012 - val_loss: 0.0046\n",
      "Epoch 153/300\n",
      " - 5s - loss: 0.0013 - val_loss: 0.0043\n",
      "Epoch 154/300\n",
      " - 5s - loss: 0.0011 - val_loss: 0.0027\n",
      "Epoch 155/300\n",
      " - 5s - loss: 0.0011 - val_loss: 0.0041\n",
      "Epoch 156/300\n",
      " - 5s - loss: 0.0012 - val_loss: 0.0049\n",
      "Epoch 157/300\n",
      " - 5s - loss: 0.0011 - val_loss: 0.0054\n",
      "Epoch 158/300\n",
      " - 5s - loss: 0.0012 - val_loss: 0.0064\n",
      "Epoch 159/300\n",
      " - 5s - loss: 0.0012 - val_loss: 0.0060\n",
      "Epoch 160/300\n",
      " - 5s - loss: 0.0011 - val_loss: 0.0031\n",
      "Epoch 161/300\n",
      " - 5s - loss: 0.0011 - val_loss: 0.0038\n",
      "Epoch 162/300\n",
      " - 5s - loss: 0.0012 - val_loss: 0.0032\n",
      "Epoch 163/300\n",
      " - 5s - loss: 0.0013 - val_loss: 0.0060\n",
      "Epoch 164/300\n",
      " - 5s - loss: 0.0011 - val_loss: 0.0055\n",
      "Epoch 165/300\n",
      " - 5s - loss: 0.0011 - val_loss: 0.0030\n",
      "Epoch 166/300\n",
      " - 5s - loss: 0.0012 - val_loss: 0.0029\n",
      "Epoch 167/300\n",
      " - 5s - loss: 0.0012 - val_loss: 0.0058\n",
      "Epoch 168/300\n",
      " - 5s - loss: 0.0012 - val_loss: 0.0026\n",
      "Epoch 169/300\n",
      " - 5s - loss: 0.0012 - val_loss: 0.0046\n",
      "Epoch 170/300\n",
      " - 5s - loss: 0.0012 - val_loss: 0.0046\n",
      "Epoch 171/300\n",
      " - 5s - loss: 0.0011 - val_loss: 0.0027\n",
      "Epoch 172/300\n",
      " - 5s - loss: 0.0012 - val_loss: 0.0034\n",
      "Epoch 173/300\n",
      " - 5s - loss: 0.0011 - val_loss: 0.0043\n",
      "Epoch 174/300\n",
      " - 5s - loss: 0.0011 - val_loss: 0.0077\n",
      "Epoch 00174: early stopping\n"
     ]
    }
   ],
   "source": [
    "model = create_model()\n",
    "\n",
    "#csv_logger = CSVLogger()\n",
    "\n",
    "history = model.fit(x_t, y_t, epochs=params['epochs'], verbose=2, batch_size=BATCH_SIZE,\n",
    "                   shuffle=False, validation_data=(trim_dataset(x_val, BATCH_SIZE), \n",
    "                                                   trim_dataset(y_val, BATCH_SIZE)),callbacks=[es])"
   ]
  },
  {
   "cell_type": "code",
   "execution_count": 23,
   "metadata": {},
   "outputs": [
    {
     "data": {
      "text/plain": [
       "(1340, 60, 5)"
      ]
     },
     "execution_count": 23,
     "metadata": {},
     "output_type": "execute_result"
    }
   ],
   "source": [
    "x_t.shape"
   ]
  },
  {
   "cell_type": "code",
   "execution_count": 24,
   "metadata": {},
   "outputs": [],
   "source": [
    "# save model\n",
    "import pickle\n",
    "\n",
    "filename = 'lstm_model.sav'\n",
    "pickle.dump(model, open(filename, 'wb'))"
   ]
  },
  {
   "cell_type": "code",
   "execution_count": 25,
   "metadata": {},
   "outputs": [],
   "source": [
    "# load the model\n",
    "loaded_model = pickle.load(open(filename, 'rb'))\n"
   ]
  },
  {
   "cell_type": "code",
   "execution_count": 26,
   "metadata": {
    "scrolled": true
   },
   "outputs": [
    {
     "name": "stdout",
     "output_type": "stream",
     "text": [
      "dict_keys(['val_loss', 'loss'])\n",
      "[0.006054274172389081, 0.005049986498696464, 0.010401403211290017, 0.005260756422233369, 0.00464085177684735, 0.004034878054101553, 0.007109419268090278, 0.004003740581018584, 0.005602758053490626, 0.003803864005021751, 0.004016687087382057, 0.0041015627211891115, 0.003955297945399902, 0.003614766223888312, 0.006713343434967101, 0.004475777137226292, 0.0037227093541462508, 0.0040997370961122215, 0.0056552834160226795, 0.003473109332844615, 0.004229641070456377, 0.0034170799356486115, 0.005123185575939715, 0.0037139313228960547, 0.005517838472899582, 0.0042194565342340085, 0.005541551517256137, 0.004057793786549675, 0.003520464458103691, 0.00393677143646138, 0.003419340305429484, 0.0041822473618334955, 0.004379705517619316, 0.006916209365174707, 0.006195234151424042, 0.004908272339629808, 0.003476652948717986, 0.0044288973856185165, 0.0036570168782158624, 0.006165497113085751, 0.004604840243700892, 0.0052396352236558285, 0.004010704088224364, 0.003224777091028435, 0.003105238396009164, 0.004524419973936996, 0.0031182600650936365, 0.005047756912452834, 0.005808390178052443, 0.003434664345279868, 0.0030930777679064442, 0.003563755291647145, 0.0031767338514328003, 0.0032624712746058193, 0.0055406701119084445, 0.0030024596822581123, 0.004622399366261172, 0.0043022040211196455, 0.0035274970162260744, 0.0031134855234995484, 0.0033101548407492892, 0.004748307043753032, 0.004218512464181653, 0.005314928138562079, 0.0042578025022521615, 0.005188922880084387, 0.004919713454520596, 0.005437885718752763, 0.004565701537233379, 0.003958766074252448, 0.00667675190405654, 0.005306975367212934, 0.0031068758024568005, 0.004734345769975334, 0.0034622959044229773, 0.0033254623745701145, 0.005997037548305733, 0.005740457389038056, 0.0028877564473077655, 0.005179489413941545, 0.003536800230254552, 0.003363827850470053, 0.003019957902974316, 0.002913075582390385, 0.003226114611607045, 0.004103171447890678, 0.0028891184234193395, 0.003212763013185135, 0.00515919950391565, 0.0035764383168758024, 0.0073660819491903696, 0.003968872013501823, 0.003811621040638004, 0.0027720105302120957, 0.004308049325897757, 0.0035178202503759947, 0.004502323065285704, 0.002834279655611941, 0.003098527044390461, 0.007125287399893361, 0.004998226832997586, 0.005864889893148627, 0.003825534476033811, 0.00380377854786015, 0.0030085448691222283, 0.004417396882282836, 0.0035802952729032506, 0.003226718640819724, 0.0034914883934626622, 0.002768010100615876, 0.0035314027003810872, 0.004343435334573899, 0.003004419542516449, 0.003813944407738745, 0.0027009797049686313, 0.007261647876085979, 0.005585665132717362, 0.004045931788693581, 0.002786753050583814, 0.004024370232530471, 0.0034998822125739287, 0.0028440518903412987, 0.007363490527495742, 0.0028015502695260303, 0.00710020966029593, 0.004791623297413545, 0.002826553869194218, 0.005477115337271243, 0.002865994631844972, 0.003985425149689296, 0.0047707754586424145, 0.004439091459581894, 0.004843741189688444, 0.002662215298706932, 0.00546895428228059, 0.003927159938029945, 0.003674557773462896, 0.006692193980727877, 0.004451738786883652, 0.0029079270316287875, 0.0033486798056401312, 0.004268789381187942, 0.006937932090035507, 0.003934501836608563, 0.003830448242037424, 0.0069392162508198196, 0.0026309535439525333, 0.00685785837205393, 0.004541332251392305, 0.004014705457458538, 0.0030323498233753654, 0.0046336534433066845, 0.0043320372018830055, 0.0026824424442436013, 0.004144237085711211, 0.004927671830435949, 0.0054030794417485595, 0.00639467711360859, 0.00600388235346015, 0.0030913629702159335, 0.00379746694982584, 0.003181771591438779, 0.005982999240846506, 0.005505023707103517, 0.003037046449857631, 0.002910313429310918, 0.005779272710372295, 0.0026029546778383, 0.0046446563376645955, 0.004630013818054327, 0.002699754708113947, 0.0034471070061304738, 0.004328539553430996, 0.007653393865829068]\n"
     ]
    }
   ],
   "source": [
    "print(history.history.keys())\n",
    "print(history.history['val_loss'])"
   ]
  },
  {
   "cell_type": "code",
   "execution_count": 27,
   "metadata": {},
   "outputs": [
    {
     "data": {
      "text/plain": [
       "Text(0, 0.5, 'Model loss')"
      ]
     },
     "execution_count": 27,
     "metadata": {},
     "output_type": "execute_result"
    },
    {
     "data": {
      "image/png": "[encoded data removed]",
      "text/plain": [
       "<Figure size 432x288 with 1 Axes>"
      ]
     },
     "metadata": {
      "needs_background": "light"
     },
     "output_type": "display_data"
    }
   ],
   "source": [
    "plt.figure()\n",
    "plt.plot(history.history['val_loss'])\n",
    "plt.plot(history.history['loss'])\n",
    "plt.legend(['Test', 'Train'])\n",
    "plt.xlabel('Epoch')\n",
    "plt.ylabel('Model loss')"
   ]
  },
  {
   "cell_type": "code",
   "execution_count": 28,
   "metadata": {},
   "outputs": [],
   "source": [
    "# plot the predicted vs real price"
   ]
  },
  {
   "cell_type": "markdown",
   "metadata": {},
   "source": [
    "LSTM"
   ]
  },
  {
   "cell_type": "code",
   "execution_count": 29,
   "metadata": {},
   "outputs": [
    {
     "name": "stdout",
     "output_type": "stream",
     "text": [
      "Error 0.004368355701955423 (140,) (140,)\n"
     ]
    }
   ],
   "source": [
    "y_pred = model.predict(trim_dataset(x_test_t, BATCH_SIZE), batch_size=BATCH_SIZE)\n",
    "y_pred = y_pred.flatten()\n",
    "y_test_t = trim_dataset(y_test_t, BATCH_SIZE)\n",
    "error = mean_squared_error(y_test_t, y_pred)\n",
    "print(\"Error\", error, y_pred.shape, y_test_t.shape)\n",
    "\n",
    "y_pred_orig = (y_pred * min_max_scaler.data_range_[3]) + min_max_scaler.data_min_[3] #min_max_scaler.inverse_transform(y_pred)\n",
    "y_test_t_orig = (y_test_t * min_max_scaler.data_range_[3]) + min_max_scaler.data_min_[3] #min_max_scaler.inverse_transform(y_test_t)"
   ]
  },
  {
   "cell_type": "code",
   "execution_count": 31,
   "metadata": {},
   "outputs": [
    {
     "data": {
      "image/png": "[encoded data removed]",
      "text/plain": [
       "<Figure size 432x288 with 1 Axes>"
      ]
     },
     "metadata": {
      "needs_background": "light"
     },
     "output_type": "display_data"
    }
   ],
   "source": [
    "plt.figure()\n",
    "plt.plot(y_pred_orig)\n",
    "plt.plot(y_test_t_orig)\n",
    "plt.title('Prediction vs Real Stock Price')\n",
    "plt.ylabel('Price')\n",
    "plt.xlabel('Days')\n",
    "plt.legend(['Prediction', 'Real'], loc='upper left')\n",
    "plt.show()"
   ]
  },
  {
   "cell_type": "code",
   "execution_count": 32,
   "metadata": {},
   "outputs": [],
   "source": [
    "# do gridsearch, put logging into\n",
    "# what overfit would mean here?\n",
    "# read lstm AK\n",
    "# how to appreciate how good is the prediction?\n",
    "\n",
    "# sentiment analysis for stock prediction ? X\n",
    "\n",
    "# ! when u use lstm, y is the close price of that they\n",
    "# on another model I think you kept the close price of that they"
   ]
  },
  {
   "cell_type": "code",
   "execution_count": 33,
   "metadata": {},
   "outputs": [
    {
     "name": "stdout",
     "output_type": "stream",
     "text": [
      "<class 'numpy.ndarray'>\n",
      "(140,)\n"
     ]
    }
   ],
   "source": [
    "print(type(y_test_t_orig))\n",
    "print(y_test_t_orig.shape)"
   ]
  },
  {
   "cell_type": "code",
   "execution_count": null,
   "metadata": {},
   "outputs": [],
   "source": []
  },
  {
   "cell_type": "markdown",
   "metadata": {},
   "source": [
    "# STRATEGY"
   ]
  },
  {
   "cell_type": "markdown",
   "metadata": {},
   "source": [
    "\n",
    "    http://cs229.stanford.edu/proj2017/final-reports/5241098.pdf"
   ]
  },
  {
   "cell_type": "markdown",
   "metadata": {},
   "source": [
    "We consider a simple algorithmic trading strategy based\n",
    "on the prediction by the model. At day t, an investor buys\n",
    "one share of INTC stock if the predicted price is higher\n",
    "than the current actual adjusted closing price. Otherwise,\n",
    "he or she sells one share of INTC stock. The strategy st\n",
    "can be described as:\n",
    "st =\n",
    "(\n",
    "+1 if yˆt+1 > yt\n",
    "−1 if yˆt+1 ≤ yt"
   ]
  },
  {
   "cell_type": "code",
   "execution_count": 34,
   "metadata": {},
   "outputs": [],
   "source": [
    "y_pred # prediction\n",
    "pass"
   ]
  },
  {
   "cell_type": "code",
   "execution_count": 35,
   "metadata": {},
   "outputs": [],
   "source": [
    "x_test_t # window\n",
    "pass"
   ]
  },
  {
   "cell_type": "code",
   "execution_count": 36,
   "metadata": {},
   "outputs": [],
   "source": [
    "# x_t : train data\n",
    "# x_val: validation data\n",
    "# x_test_t: test data"
   ]
  },
  {
   "cell_type": "markdown",
   "metadata": {},
   "source": [
    "TODO\n",
    "1. get data OK\n",
    "2. write trading algorithm (function of the prediction) OK\n",
    "3. compute returns\n",
    "\n",
    "4. compute sharpe ratio of the strategy"
   ]
  },
  {
   "cell_type": "code",
   "execution_count": 37,
   "metadata": {},
   "outputs": [],
   "source": [
    "y_pred_orig # predicted data\n",
    "pass"
   ]
  },
  {
   "cell_type": "code",
   "execution_count": 38,
   "metadata": {},
   "outputs": [],
   "source": [
    "y_test_t_orig # real data\n",
    "pass"
   ]
  },
  {
   "cell_type": "code",
   "execution_count": 39,
   "metadata": {},
   "outputs": [],
   "source": [
    "predicted_data = y_pred_orig\n",
    "real_data = y_test_t_orig"
   ]
  },
  {
   "cell_type": "code",
   "execution_count": 40,
   "metadata": {},
   "outputs": [
    {
     "data": {
      "text/plain": [
       "True"
      ]
     },
     "execution_count": 40,
     "metadata": {},
     "output_type": "execute_result"
    }
   ],
   "source": [
    "len(predicted_data) == len(real_data)"
   ]
  },
  {
   "cell_type": "code",
   "execution_count": 41,
   "metadata": {},
   "outputs": [
    {
     "data": {
      "text/plain": [
       "(numpy.ndarray, numpy.float32)"
      ]
     },
     "execution_count": 41,
     "metadata": {},
     "output_type": "execute_result"
    }
   ],
   "source": [
    "assert len(predicted_data) == len(real_data)\n",
    "type(predicted_data), type(predicted_data[0])"
   ]
  },
  {
   "cell_type": "code",
   "execution_count": 42,
   "metadata": {},
   "outputs": [],
   "source": [
    "class strategy():\n",
    "    def __init__(self):\n",
    "        self.stocks = 0\n",
    "    \n",
    "    def take_action(self, today_real_price, tomorrow_forcasted_price):\n",
    "        \"\"\"\n",
    "         At day t, an investor buys one share of INTC stock if the predicted price \n",
    "         is higher than the current actual adjusted closing price.\n",
    "         Otherwise, he or she sells one share of INTC stock\"\"\"\n",
    "        if tomorrow_forcasted_price > today_real_price:\n",
    "            self.stocks += 1\n",
    "        else:\n",
    "            self.stocks -= 1\n",
    "    \n",
    "    def compute_daily_return(self, today_real_price, tomorrow_real_price):\n",
    "        \"\"\"\n",
    "         Using the\n",
    "indicator variable st\n",
    ", we can calculate a daily return of\n",
    "the strategy at day t + 1:\n",
    "rt+1 = st × log \u0012\n",
    "yt+1\n",
    "yt\n",
    "\u0013\n",
    "−\n",
    "        \"\"\"\n",
    "        import math\n",
    "        daily_return = self.stocks * math.log(tomorrow_real_price, today_real_price)\n",
    "        return daily_return\n",
    "            "
   ]
  },
  {
   "cell_type": "code",
   "execution_count": 43,
   "metadata": {},
   "outputs": [],
   "source": [
    "def execute_strategy(strategy, predicted_data, verbose=True):\n",
    "    \"\"\"\n",
    "    args: strategy to execute\n",
    "    \"\"\"\n",
    "    cumulative_return = 0\n",
    "    for day, today_real_price in enumerate(real_data[:-1]):\n",
    "        # day by day and execute my strategy\n",
    "        today_predicted_price = predicted_data[day]\n",
    "        if verbose: print(day, today_real_price, today_predicted_price)\n",
    "        \n",
    "        strategy.take_action(today_real_price, predicted_data[day + 1])\n",
    "        today_return = strategy.compute_daily_return(today_real_price, real_data[day + 1])\n",
    "        # metric: cumulative return\n",
    "        # sum of all the returns\n",
    "        cumulative_return += today_return\n",
    "    return cumulative_return"
   ]
  },
  {
   "cell_type": "code",
   "execution_count": 44,
   "metadata": {},
   "outputs": [
    {
     "name": "stdout",
     "output_type": "stream",
     "text": [
      "-6373.165115511636\n"
     ]
    }
   ],
   "source": [
    "lstm_strategy = strategy() # you need initialize this every time\n",
    "lstm_predicted_data = y_pred_orig # find prediction data\n",
    "\n",
    "real_data = y_test_t_orig\n",
    "\n",
    "lstm_strategy_return = execute_strategy(lstm_strategy, lstm_predicted_data, verbose=False)\n",
    "lstm_strategy.stocks # how is my stock balance at the end of the execution:?\n",
    "print(lstm_strategy_return)"
   ]
  },
  {
   "cell_type": "code",
   "execution_count": 45,
   "metadata": {},
   "outputs": [
    {
     "name": "stdout",
     "output_type": "stream",
     "text": [
      "-6373.165115511636\n"
     ]
    }
   ],
   "source": [
    "regressor_strategy = strategy()\n",
    "regression_predicted_data = y_pred_orig # TODO: find this\n",
    "real_data = y_test_t_orig\n",
    "regression_strategy_return = execute_strategy(regressor_strategy, regression_predicted_data, verbose=False)\n",
    "regressor_strategy.stocks\n",
    "print(regression_strategy_return)"
   ]
  },
  {
   "cell_type": "markdown",
   "metadata": {},
   "source": [
    "##Directional Accuracy"
   ]
  },
  {
   "cell_type": "code",
   "execution_count": null,
   "metadata": {},
   "outputs": [],
   "source": [
    "def directional_accuracy(predicted_data, real_data):\n",
    "    \"\"\"return the nb of days that the model got the movement right / nb of days in total\n",
    "    args:\n",
    "        predicted_data:\n",
    "    \"\"\"\n",
    "    "
   ]
  }
 ],
 "metadata": {
  "kernelspec": {
   "display_name": "Python 3",
   "language": "python",
   "name": "python3"
  },
  "language_info": {
   "codemirror_mode": {
    "name": "ipython",
    "version": 3
   },
   "file_extension": ".py",
   "mimetype": "text/x-python",
   "name": "python",
   "nbconvert_exporter": "python",
   "pygments_lexer": "ipython3",
   "version": "3.7.3"
  }
 },
 "nbformat": 4,
 "nbformat_minor": 2
}
