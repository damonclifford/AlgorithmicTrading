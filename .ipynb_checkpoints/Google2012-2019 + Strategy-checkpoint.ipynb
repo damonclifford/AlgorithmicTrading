{
 "cells": [
  {
   "cell_type": "markdown",
   "metadata": {},
   "source": [
    "# FACEBOOK DATA FROM YAHOO FINANCE"
   ]
  },
  {
   "cell_type": "code",
   "execution_count": 1,
   "metadata": {},
   "outputs": [],
   "source": [
    "import pandas as pd\n",
    "import numpy as np\n",
    "from matplotlib import pyplot as plt\n",
    "%matplotlib inline"
   ]
  },
  {
   "cell_type": "code",
   "execution_count": 2,
   "metadata": {},
   "outputs": [],
   "source": [
    "df = pd.read_csv(\"C:/Users/ASUS/Desktop/FMI/Licenta OB/Overall Code/packtpub-src/csv/FB2012-2019.csv\")"
   ]
  },
  {
   "cell_type": "code",
   "execution_count": 3,
   "metadata": {},
   "outputs": [
    {
     "data": {
      "text/html": [
       "<div>\n",
       "<style scoped>\n",
       "    .dataframe tbody tr th:only-of-type {\n",
       "        vertical-align: middle;\n",
       "    }\n",
       "\n",
       "    .dataframe tbody tr th {\n",
       "        vertical-align: top;\n",
       "    }\n",
       "\n",
       "    .dataframe thead th {\n",
       "        text-align: right;\n",
       "    }\n",
       "</style>\n",
       "<table border=\"1\" class=\"dataframe\">\n",
       "  <thead>\n",
       "    <tr style=\"text-align: right;\">\n",
       "      <th></th>\n",
       "      <th>Date</th>\n",
       "      <th>Open</th>\n",
       "      <th>High</th>\n",
       "      <th>Low</th>\n",
       "      <th>Close</th>\n",
       "      <th>Adj Close</th>\n",
       "      <th>Volume</th>\n",
       "    </tr>\n",
       "  </thead>\n",
       "  <tbody>\n",
       "    <tr>\n",
       "      <th>0</th>\n",
       "      <td>2012-05-29</td>\n",
       "      <td>31.480000</td>\n",
       "      <td>31.690001</td>\n",
       "      <td>28.650000</td>\n",
       "      <td>28.840000</td>\n",
       "      <td>28.840000</td>\n",
       "      <td>78063400</td>\n",
       "    </tr>\n",
       "    <tr>\n",
       "      <th>1</th>\n",
       "      <td>2012-05-30</td>\n",
       "      <td>28.700001</td>\n",
       "      <td>29.549999</td>\n",
       "      <td>27.860001</td>\n",
       "      <td>28.190001</td>\n",
       "      <td>28.190001</td>\n",
       "      <td>57267900</td>\n",
       "    </tr>\n",
       "    <tr>\n",
       "      <th>2</th>\n",
       "      <td>2012-05-31</td>\n",
       "      <td>28.549999</td>\n",
       "      <td>29.670000</td>\n",
       "      <td>26.830000</td>\n",
       "      <td>29.600000</td>\n",
       "      <td>29.600000</td>\n",
       "      <td>111639200</td>\n",
       "    </tr>\n",
       "    <tr>\n",
       "      <th>3</th>\n",
       "      <td>2012-06-01</td>\n",
       "      <td>28.889999</td>\n",
       "      <td>29.150000</td>\n",
       "      <td>27.389999</td>\n",
       "      <td>27.719999</td>\n",
       "      <td>27.719999</td>\n",
       "      <td>41855500</td>\n",
       "    </tr>\n",
       "    <tr>\n",
       "      <th>4</th>\n",
       "      <td>2012-06-04</td>\n",
       "      <td>27.200001</td>\n",
       "      <td>27.650000</td>\n",
       "      <td>26.440001</td>\n",
       "      <td>26.900000</td>\n",
       "      <td>26.900000</td>\n",
       "      <td>35230300</td>\n",
       "    </tr>\n",
       "  </tbody>\n",
       "</table>\n",
       "</div>"
      ],
      "text/plain": [
       "         Date       Open       High        Low      Close  Adj Close  \\\n",
       "0  2012-05-29  31.480000  31.690001  28.650000  28.840000  28.840000   \n",
       "1  2012-05-30  28.700001  29.549999  27.860001  28.190001  28.190001   \n",
       "2  2012-05-31  28.549999  29.670000  26.830000  29.600000  29.600000   \n",
       "3  2012-06-01  28.889999  29.150000  27.389999  27.719999  27.719999   \n",
       "4  2012-06-04  27.200001  27.650000  26.440001  26.900000  26.900000   \n",
       "\n",
       "      Volume  \n",
       "0   78063400  \n",
       "1   57267900  \n",
       "2  111639200  \n",
       "3   41855500  \n",
       "4   35230300  "
      ]
     },
     "execution_count": 3,
     "metadata": {},
     "output_type": "execute_result"
    }
   ],
   "source": [
    "df.head()"
   ]
  },
  {
   "cell_type": "code",
   "execution_count": 4,
   "metadata": {},
   "outputs": [
    {
     "data": {
      "text/html": [
       "<div>\n",
       "<style scoped>\n",
       "    .dataframe tbody tr th:only-of-type {\n",
       "        vertical-align: middle;\n",
       "    }\n",
       "\n",
       "    .dataframe tbody tr th {\n",
       "        vertical-align: top;\n",
       "    }\n",
       "\n",
       "    .dataframe thead th {\n",
       "        text-align: right;\n",
       "    }\n",
       "</style>\n",
       "<table border=\"1\" class=\"dataframe\">\n",
       "  <thead>\n",
       "    <tr style=\"text-align: right;\">\n",
       "      <th></th>\n",
       "      <th>Date</th>\n",
       "      <th>Open</th>\n",
       "      <th>High</th>\n",
       "      <th>Low</th>\n",
       "      <th>Close</th>\n",
       "      <th>Adj Close</th>\n",
       "      <th>Volume</th>\n",
       "    </tr>\n",
       "  </thead>\n",
       "  <tbody>\n",
       "    <tr>\n",
       "      <th>1755</th>\n",
       "      <td>2019-05-21</td>\n",
       "      <td>184.570007</td>\n",
       "      <td>185.699997</td>\n",
       "      <td>183.889999</td>\n",
       "      <td>184.820007</td>\n",
       "      <td>184.820007</td>\n",
       "      <td>7502800</td>\n",
       "    </tr>\n",
       "    <tr>\n",
       "      <th>1756</th>\n",
       "      <td>2019-05-22</td>\n",
       "      <td>184.729996</td>\n",
       "      <td>186.740005</td>\n",
       "      <td>183.610001</td>\n",
       "      <td>185.320007</td>\n",
       "      <td>185.320007</td>\n",
       "      <td>9213800</td>\n",
       "    </tr>\n",
       "    <tr>\n",
       "      <th>1757</th>\n",
       "      <td>2019-05-23</td>\n",
       "      <td>182.419998</td>\n",
       "      <td>183.899994</td>\n",
       "      <td>179.669998</td>\n",
       "      <td>180.869995</td>\n",
       "      <td>180.869995</td>\n",
       "      <td>12768800</td>\n",
       "    </tr>\n",
       "    <tr>\n",
       "      <th>1758</th>\n",
       "      <td>2019-05-24</td>\n",
       "      <td>182.330002</td>\n",
       "      <td>183.630005</td>\n",
       "      <td>180.830002</td>\n",
       "      <td>181.059998</td>\n",
       "      <td>181.059998</td>\n",
       "      <td>8807700</td>\n",
       "    </tr>\n",
       "    <tr>\n",
       "      <th>1759</th>\n",
       "      <td>2019-05-28</td>\n",
       "      <td>181.539993</td>\n",
       "      <td>184.710007</td>\n",
       "      <td>181.449997</td>\n",
       "      <td>184.309998</td>\n",
       "      <td>184.309998</td>\n",
       "      <td>14843300</td>\n",
       "    </tr>\n",
       "  </tbody>\n",
       "</table>\n",
       "</div>"
      ],
      "text/plain": [
       "            Date        Open        High         Low       Close   Adj Close  \\\n",
       "1755  2019-05-21  184.570007  185.699997  183.889999  184.820007  184.820007   \n",
       "1756  2019-05-22  184.729996  186.740005  183.610001  185.320007  185.320007   \n",
       "1757  2019-05-23  182.419998  183.899994  179.669998  180.869995  180.869995   \n",
       "1758  2019-05-24  182.330002  183.630005  180.830002  181.059998  181.059998   \n",
       "1759  2019-05-28  181.539993  184.710007  181.449997  184.309998  184.309998   \n",
       "\n",
       "        Volume  \n",
       "1755   7502800  \n",
       "1756   9213800  \n",
       "1757  12768800  \n",
       "1758   8807700  \n",
       "1759  14843300  "
      ]
     },
     "execution_count": 4,
     "metadata": {},
     "output_type": "execute_result"
    }
   ],
   "source": [
    "df.tail()"
   ]
  },
  {
   "cell_type": "code",
   "execution_count": 5,
   "metadata": {},
   "outputs": [
    {
     "data": {
      "image/png": "[encoded data removed]",
      "text/plain": [
       "<Figure size 432x288 with 1 Axes>"
      ]
     },
     "metadata": {
      "needs_background": "light"
     },
     "output_type": "display_data"
    }
   ],
   "source": [
    "plt.figure()\n",
    "plt.title(\"FB stock price history\")\n",
    "plt.plot(df['Open'])\n",
    "#plt.plot(df[\"Close\"])\n",
    "#plt.plot(df[\"High\"])\n",
    "#plt.plot(df[\"Low\"])\n",
    "plt.ylabel('Price (USD)')\n",
    "plt.xlabel('Days')\n",
    "plt.legend(['Open', 'Close', 'High', 'Low'], loc='upper left')\n",
    "plt.show()"
   ]
  },
  {
   "cell_type": "code",
   "execution_count": 6,
   "metadata": {},
   "outputs": [
    {
     "data": {
      "image/png": "[encoded data removed]",
      "text/plain": [
       "<Figure size 432x288 with 1 Axes>"
      ]
     },
     "metadata": {
      "needs_background": "light"
     },
     "output_type": "display_data"
    }
   ],
   "source": [
    "plt.figure()\n",
    "plt.plot(df['Volume'])\n",
    "plt.title('FB stock volume history')\n",
    "plt.ylabel('Volume')\n",
    "plt.xlabel('Days')\n",
    "plt.show()"
   ]
  },
  {
   "cell_type": "code",
   "execution_count": 7,
   "metadata": {},
   "outputs": [
    {
     "name": "stdout",
     "output_type": "stream",
     "text": [
      "Checking if any null values are present\n",
      " Date         0\n",
      "Open         0\n",
      "High         0\n",
      "Low          0\n",
      "Close        0\n",
      "Adj Close    0\n",
      "Volume       0\n",
      "dtype: int64\n"
     ]
    }
   ],
   "source": [
    "print('Checking if any null values are present\\n', df.isna().sum())"
   ]
  },
  {
   "cell_type": "markdown",
   "metadata": {},
   "source": [
    "### Normalizing the data\n",
    "* Split the data into train, test\n",
    "* Normalize\n",
    "* Covert the DataFrame to ndarray"
   ]
  },
  {
   "cell_type": "code",
   "execution_count": 8,
   "metadata": {},
   "outputs": [],
   "source": [
    "#! pip install keras"
   ]
  },
  {
   "cell_type": "code",
   "execution_count": 9,
   "metadata": {},
   "outputs": [],
   "source": [
    "#! pip install np_utils"
   ]
  },
  {
   "cell_type": "code",
   "execution_count": 10,
   "metadata": {},
   "outputs": [],
   "source": [
    "#! pip install tensorflow"
   ]
  },
  {
   "cell_type": "code",
   "execution_count": 11,
   "metadata": {},
   "outputs": [],
   "source": [
    "#! pip install numpy --upgrade --user"
   ]
  },
  {
   "cell_type": "code",
   "execution_count": 12,
   "metadata": {},
   "outputs": [
    {
     "name": "stderr",
     "output_type": "stream",
     "text": [
      "Using TensorFlow backend.\n"
     ]
    },
    {
     "name": "stdout",
     "output_type": "stream",
     "text": [
      "Checking GPU available []\n"
     ]
    }
   ],
   "source": [
    "from tqdm._tqdm_notebook import tqdm_notebook\n",
    "from sklearn.preprocessing import MinMaxScaler\n",
    "from sklearn.model_selection import train_test_split\n",
    "from sklearn.metrics import mean_squared_error\n",
    "from keras.models import Sequential, load_model\n",
    "from keras.layers import Dense, Dropout\n",
    "from keras.layers import LSTM\n",
    "from keras import optimizers\n",
    "from keras import backend as K\n",
    "from keras.callbacks import EarlyStopping\n",
    "\n",
    "print('Checking GPU available', K.tensorflow_backend._get_available_gpus())\n"
   ]
  },
  {
   "cell_type": "code",
   "execution_count": 13,
   "metadata": {},
   "outputs": [],
   "source": [
    "from keras import losses"
   ]
  },
  {
   "cell_type": "code",
   "execution_count": 14,
   "metadata": {},
   "outputs": [],
   "source": [
    "TIME_STEPS = 60\n",
    "BATCH_SIZE = 20"
   ]
  },
  {
   "cell_type": "code",
   "execution_count": 31,
   "metadata": {},
   "outputs": [],
   "source": [
    "params = {\n",
    "    \"batch_size\": 20,  # 20<16<10, 25 was a bust\n",
    "    \"epochs\": 300,\n",
    "    \"lr\": 0.00010000,\n",
    "    \"time_steps\": 60\n",
    "}"
   ]
  },
  {
   "cell_type": "code",
   "execution_count": 32,
   "metadata": {},
   "outputs": [
    {
     "name": "stdout",
     "output_type": "stream",
     "text": [
      "Train and test set 1408 352\n"
     ]
    }
   ],
   "source": [
    "\n",
    "train_cols = ['Open', 'High', 'Low', 'Close', 'Volume']\n",
    "df_train, df_test = train_test_split(df, train_size=0.8, test_size=0.2, shuffle=False)\n",
    "print('Train and test set', len(df_train), len(df_test))\n",
    "\n",
    "#scale the feature MinMax, build array\n",
    "x = df_train.loc[:, train_cols].values\n",
    "min_max_scaler = MinMaxScaler()\n",
    "x_train = min_max_scaler.fit_transform(x)\n",
    "x_test = min_max_scaler.transform(df_test.loc[:, train_cols])"
   ]
  },
  {
   "cell_type": "code",
   "execution_count": 33,
   "metadata": {},
   "outputs": [],
   "source": [
    "def build_timeseries(mat, y_col_index):\n",
    "    # y_col_index is the index of column that would act as output column\n",
    "    # total nb of time-series samples would be len(mat) - TIME_STEPS\n",
    "    dim_0 = mat.shape[0] - TIME_STEPS\n",
    "    dim_1 = mat.shape[1]\n",
    "    x = np.zeros((dim_0, TIME_STEPS, dim_1))\n",
    "    y = np.zeros((dim_0,))\n",
    "    \n",
    "    for i in tqdm_notebook(range(dim_0)):\n",
    "        x[i] = mat[i:TIME_STEPS+i]\n",
    "        y[i] = mat[TIME_STEPS+i, y_col_index]\n",
    "    \n",
    "    print('length of time-series i/o', x.shape, y.shape)\n",
    "    return x, y"
   ]
  },
  {
   "cell_type": "code",
   "execution_count": 34,
   "metadata": {},
   "outputs": [],
   "source": [
    "def trim_dataset(mat, batch_size):\n",
    "    \"\"\"\n",
    "    trims dataset to a size that is divisible by BATCH_SIZE\n",
    "    \"\"\"\n",
    "    no_of_rows_drop = mat.shape[0] % batch_size\n",
    "    if no_of_rows_drop > 0:\n",
    "        return mat[:-no_of_rows_drop]\n",
    "    else:\n",
    "        return mat"
   ]
  },
  {
   "cell_type": "code",
   "execution_count": 35,
   "metadata": {},
   "outputs": [
    {
     "data": {
      "application/vnd.jupyter.widget-view+json": {
       "model_id": "f6019df2218649f6924d2e4785a48870",
       "version_major": 2,
       "version_minor": 0
      },
      "text/plain": [
       "HBox(children=(IntProgress(value=0, max=1348), HTML(value='')))"
      ]
     },
     "metadata": {},
     "output_type": "display_data"
    },
    {
     "name": "stdout",
     "output_type": "stream",
     "text": [
      "\n",
      "length of time-series i/o (1348, 60, 5) (1348,)\n"
     ]
    },
    {
     "data": {
      "application/vnd.jupyter.widget-view+json": {
       "model_id": "feb65f240ae74286be7655ef0a0ce56f",
       "version_major": 2,
       "version_minor": 0
      },
      "text/plain": [
       "HBox(children=(IntProgress(value=0, max=292), HTML(value='')))"
      ]
     },
     "metadata": {},
     "output_type": "display_data"
    },
    {
     "name": "stdout",
     "output_type": "stream",
     "text": [
      "\n",
      "length of time-series i/o (292, 60, 5) (292,)\n"
     ]
    }
   ],
   "source": [
    "x_t, y_t = build_timeseries(x_train, 3)\n",
    "x_t = trim_dataset(x_t, BATCH_SIZE)\n",
    "y_t = trim_dataset(y_t, BATCH_SIZE)\n",
    "\n",
    "x_temp, y_temp = build_timeseries(x_test, 3)\n",
    "x_val, x_test_t = np.split(trim_dataset(x_temp, BATCH_SIZE), 2)\n",
    "y_val, y_test_t = np.split(trim_dataset(y_temp, BATCH_SIZE), 2)"
   ]
  },
  {
   "cell_type": "code",
   "execution_count": 36,
   "metadata": {},
   "outputs": [],
   "source": [
    "def create_model():\n",
    "    lstm_model = Sequential()\n",
    "    # (batch_size, time_steps, data_dim)\n",
    "    lstm_model.add(LSTM(100, batch_input_shape=(BATCH_SIZE, TIME_STEPS, x_t.shape[2]),\n",
    "                       dropout=0.0, recurrent_dropout=0.0, stateful=True, return_sequences=True,\n",
    "                       kernel_initializer='random_uniform'))\n",
    "    lstm_model.add(Dropout(0.4))\n",
    "    lstm_model.add(LSTM(60, dropout=0.0))\n",
    "    lstm_model.add(Dropout(0.4))\n",
    "    lstm_model.add(Dense(20, activation='relu'))\n",
    "    lstm_model.add(Dense(1, activation='linear'))\n",
    "    optimizer = optimizers.RMSprop(lr=params['lr'])\n",
    "    lstm_model.compile(loss='mean_squared_error', optimizer=optimizer)\n",
    "    # lstm_model.compile(loss=losses.mean_squarred_error, optimizer=optimizer)\n",
    "    return lstm_model"
   ]
  },
  {
   "cell_type": "code",
   "execution_count": 37,
   "metadata": {},
   "outputs": [],
   "source": [
    "es = EarlyStopping(monitor='val_loss', mode='min', verbose=1,\n",
    "                   patience=40, min_delta=0.0001)"
   ]
  },
  {
   "cell_type": "code",
   "execution_count": 38,
   "metadata": {},
   "outputs": [
    {
     "name": "stdout",
     "output_type": "stream",
     "text": [
      "Train on 1340 samples, validate on 140 samples\n",
      "Epoch 1/100\n",
      " - 4s - loss: 0.0091 - val_loss: 0.0081\n",
      "Epoch 2/100\n",
      " - 3s - loss: 0.0101 - val_loss: 0.0067\n",
      "Epoch 3/100\n",
      " - 3s - loss: 0.0072 - val_loss: 0.0096\n",
      "Epoch 4/100\n",
      " - 3s - loss: 0.0051 - val_loss: 0.0039\n",
      "Epoch 5/100\n",
      " - 3s - loss: 0.0049 - val_loss: 0.0039\n",
      "Epoch 6/100\n",
      " - 3s - loss: 0.0050 - val_loss: 0.0039\n",
      "Epoch 7/100\n",
      " - 3s - loss: 0.0043 - val_loss: 0.0113\n",
      "Epoch 8/100\n",
      " - 3s - loss: 0.0039 - val_loss: 0.0037\n",
      "Epoch 9/100\n",
      " - 3s - loss: 0.0041 - val_loss: 0.0073\n",
      "Epoch 10/100\n",
      " - 3s - loss: 0.0036 - val_loss: 0.0036\n",
      "Epoch 11/100\n",
      " - 3s - loss: 0.0035 - val_loss: 0.0047\n",
      "Epoch 12/100\n",
      " - 3s - loss: 0.0035 - val_loss: 0.0034\n",
      "Epoch 13/100\n",
      " - 3s - loss: 0.0034 - val_loss: 0.0038\n",
      "Epoch 14/100\n",
      " - 3s - loss: 0.0034 - val_loss: 0.0036\n",
      "Epoch 15/100\n",
      " - 3s - loss: 0.0034 - val_loss: 0.0060\n",
      "Epoch 16/100\n",
      " - 3s - loss: 0.0031 - val_loss: 0.0034\n",
      "Epoch 17/100\n",
      " - 3s - loss: 0.0031 - val_loss: 0.0032\n",
      "Epoch 18/100\n",
      " - 3s - loss: 0.0030 - val_loss: 0.0052\n",
      "Epoch 19/100\n",
      " - 3s - loss: 0.0026 - val_loss: 0.0035\n",
      "Epoch 20/100\n",
      " - 3s - loss: 0.0027 - val_loss: 0.0047\n",
      "Epoch 21/100\n",
      " - 3s - loss: 0.0025 - val_loss: 0.0068\n",
      "Epoch 22/100\n",
      " - 3s - loss: 0.0029 - val_loss: 0.0093\n",
      "Epoch 23/100\n",
      " - 3s - loss: 0.0026 - val_loss: 0.0032\n",
      "Epoch 24/100\n",
      " - 3s - loss: 0.0026 - val_loss: 0.0035\n",
      "Epoch 25/100\n",
      " - 3s - loss: 0.0027 - val_loss: 0.0059\n",
      "Epoch 26/100\n",
      " - 3s - loss: 0.0025 - val_loss: 0.0031\n",
      "Epoch 27/100\n",
      " - 3s - loss: 0.0027 - val_loss: 0.0074\n",
      "Epoch 28/100\n",
      " - 3s - loss: 0.0023 - val_loss: 0.0031\n",
      "Epoch 29/100\n",
      " - 3s - loss: 0.0026 - val_loss: 0.0035\n",
      "Epoch 30/100\n",
      " - 3s - loss: 0.0024 - val_loss: 0.0097\n",
      "Epoch 31/100\n",
      " - 3s - loss: 0.0022 - val_loss: 0.0077\n",
      "Epoch 32/100\n",
      " - 3s - loss: 0.0023 - val_loss: 0.0041\n",
      "Epoch 33/100\n",
      " - 3s - loss: 0.0024 - val_loss: 0.0043\n",
      "Epoch 34/100\n",
      " - 3s - loss: 0.0024 - val_loss: 0.0045\n",
      "Epoch 35/100\n",
      " - 3s - loss: 0.0022 - val_loss: 0.0031\n",
      "Epoch 36/100\n",
      " - 3s - loss: 0.0022 - val_loss: 0.0056\n",
      "Epoch 37/100\n",
      " - 3s - loss: 0.0022 - val_loss: 0.0050\n",
      "Epoch 38/100\n",
      " - 3s - loss: 0.0020 - val_loss: 0.0069\n",
      "Epoch 39/100\n",
      " - 3s - loss: 0.0019 - val_loss: 0.0060\n",
      "Epoch 40/100\n",
      " - 3s - loss: 0.0021 - val_loss: 0.0067\n",
      "Epoch 41/100\n",
      " - 3s - loss: 0.0018 - val_loss: 0.0033\n",
      "Epoch 42/100\n",
      " - 3s - loss: 0.0021 - val_loss: 0.0063\n",
      "Epoch 43/100\n",
      " - 3s - loss: 0.0019 - val_loss: 0.0069\n",
      "Epoch 44/100\n",
      " - 3s - loss: 0.0020 - val_loss: 0.0035\n",
      "Epoch 45/100\n",
      " - 3s - loss: 0.0021 - val_loss: 0.0066\n",
      "Epoch 46/100\n",
      " - 3s - loss: 0.0020 - val_loss: 0.0034\n",
      "Epoch 47/100\n",
      " - 3s - loss: 0.0021 - val_loss: 0.0049\n",
      "Epoch 48/100\n",
      " - 3s - loss: 0.0019 - val_loss: 0.0061\n",
      "Epoch 49/100\n",
      " - 3s - loss: 0.0018 - val_loss: 0.0057\n",
      "Epoch 50/100\n",
      " - 3s - loss: 0.0019 - val_loss: 0.0082\n",
      "Epoch 51/100\n",
      " - 3s - loss: 0.0016 - val_loss: 0.0030\n",
      "Epoch 52/100\n",
      " - 3s - loss: 0.0019 - val_loss: 0.0043\n",
      "Epoch 53/100\n",
      " - 3s - loss: 0.0020 - val_loss: 0.0032\n",
      "Epoch 54/100\n",
      " - 3s - loss: 0.0018 - val_loss: 0.0047\n",
      "Epoch 55/100\n",
      " - 3s - loss: 0.0018 - val_loss: 0.0044\n",
      "Epoch 56/100\n",
      " - 3s - loss: 0.0018 - val_loss: 0.0055\n",
      "Epoch 57/100\n",
      " - 3s - loss: 0.0018 - val_loss: 0.0029\n",
      "Epoch 58/100\n",
      " - 3s - loss: 0.0018 - val_loss: 0.0055\n",
      "Epoch 59/100\n",
      " - 3s - loss: 0.0017 - val_loss: 0.0032\n",
      "Epoch 60/100\n",
      " - 3s - loss: 0.0017 - val_loss: 0.0031\n",
      "Epoch 61/100\n",
      " - 3s - loss: 0.0021 - val_loss: 0.0033\n",
      "Epoch 62/100\n",
      " - 4s - loss: 0.0016 - val_loss: 0.0059\n",
      "Epoch 63/100\n",
      " - 4s - loss: 0.0015 - val_loss: 0.0054\n",
      "Epoch 64/100\n",
      " - 4s - loss: 0.0017 - val_loss: 0.0035\n",
      "Epoch 65/100\n",
      " - 4s - loss: 0.0017 - val_loss: 0.0039\n",
      "Epoch 66/100\n",
      " - 4s - loss: 0.0018 - val_loss: 0.0046\n",
      "Epoch 67/100\n",
      " - 4s - loss: 0.0016 - val_loss: 0.0042\n",
      "Epoch 68/100\n",
      " - 3s - loss: 0.0016 - val_loss: 0.0030\n",
      "Epoch 69/100\n",
      " - 4s - loss: 0.0016 - val_loss: 0.0095\n",
      "Epoch 70/100\n",
      " - 4s - loss: 0.0014 - val_loss: 0.0042\n",
      "Epoch 71/100\n",
      " - 4s - loss: 0.0016 - val_loss: 0.0063\n",
      "Epoch 72/100\n",
      " - 4s - loss: 0.0018 - val_loss: 0.0050\n",
      "Epoch 73/100\n",
      " - 4s - loss: 0.0016 - val_loss: 0.0033\n",
      "Epoch 74/100\n",
      " - 4s - loss: 0.0016 - val_loss: 0.0057\n",
      "Epoch 75/100\n",
      " - 5s - loss: 0.0015 - val_loss: 0.0036\n",
      "Epoch 76/100\n",
      " - 4s - loss: 0.0015 - val_loss: 0.0052\n",
      "Epoch 77/100\n",
      " - 4s - loss: 0.0017 - val_loss: 0.0042\n",
      "Epoch 78/100\n",
      " - 5s - loss: 0.0014 - val_loss: 0.0039\n",
      "Epoch 79/100\n",
      " - 5s - loss: 0.0015 - val_loss: 0.0054\n",
      "Epoch 80/100\n",
      " - 5s - loss: 0.0015 - val_loss: 0.0056\n",
      "Epoch 81/100\n",
      " - 5s - loss: 0.0016 - val_loss: 0.0064\n",
      "Epoch 82/100\n",
      " - 4s - loss: 0.0014 - val_loss: 0.0059\n",
      "Epoch 83/100\n",
      " - 4s - loss: 0.0014 - val_loss: 0.0054\n",
      "Epoch 84/100\n",
      " - 4s - loss: 0.0015 - val_loss: 0.0054\n",
      "Epoch 85/100\n",
      " - 5s - loss: 0.0015 - val_loss: 0.0035\n",
      "Epoch 86/100\n",
      " - 5s - loss: 0.0016 - val_loss: 0.0032\n",
      "Epoch 87/100\n",
      " - 5s - loss: 0.0014 - val_loss: 0.0031\n",
      "Epoch 88/100\n",
      " - 5s - loss: 0.0016 - val_loss: 0.0042\n",
      "Epoch 89/100\n",
      " - 5s - loss: 0.0015 - val_loss: 0.0033\n",
      "Epoch 90/100\n",
      " - 5s - loss: 0.0015 - val_loss: 0.0042\n",
      "Epoch 91/100\n",
      " - 5s - loss: 0.0014 - val_loss: 0.0063\n",
      "Epoch 92/100\n",
      " - 5s - loss: 0.0013 - val_loss: 0.0029\n",
      "Epoch 93/100\n",
      " - 5s - loss: 0.0015 - val_loss: 0.0030\n",
      "Epoch 94/100\n",
      " - 5s - loss: 0.0014 - val_loss: 0.0077\n",
      "Epoch 95/100\n",
      " - 5s - loss: 0.0014 - val_loss: 0.0052\n",
      "Epoch 96/100\n",
      " - 5s - loss: 0.0013 - val_loss: 0.0064\n",
      "Epoch 97/100\n",
      " - 5s - loss: 0.0014 - val_loss: 0.0031\n",
      "Epoch 00097: early stopping\n"
     ]
    }
   ],
   "source": [
    "model = create_model()\n",
    "\n",
    "#csv_logger = CSVLogger()\n",
    "\n",
    "history = model.fit(x_t, y_t, epochs=params['epochs'], verbose=2, batch_size=BATCH_SIZE,\n",
    "                   shuffle=False, validation_data=(trim_dataset(x_val, BATCH_SIZE), \n",
    "                                                   trim_dataset(y_val, BATCH_SIZE)),callbacks=[es])"
   ]
  },
  {
   "cell_type": "code",
   "execution_count": 1,
   "metadata": {},
   "outputs": [
    {
     "ename": "NameError",
     "evalue": "name 'x_t' is not defined",
     "output_type": "error",
     "traceback": [
      "\u001b[1;31m---------------------------------------------------------------------------\u001b[0m",
      "\u001b[1;31mNameError\u001b[0m                                 Traceback (most recent call last)",
      "\u001b[1;32m<ipython-input-1-d8e9414ad8e0>\u001b[0m in \u001b[0;36m<module>\u001b[1;34m\u001b[0m\n\u001b[1;32m----> 1\u001b[1;33m \u001b[0mx_t\u001b[0m\u001b[1;33m.\u001b[0m\u001b[0mshape\u001b[0m\u001b[1;33m\u001b[0m\u001b[1;33m\u001b[0m\u001b[0m\n\u001b[0m",
      "\u001b[1;31mNameError\u001b[0m: name 'x_t' is not defined"
     ]
    }
   ],
   "source": [
    "x_t.shape"
   ]
  },
  {
   "cell_type": "code",
   "execution_count": 23,
   "metadata": {},
   "outputs": [],
   "source": [
    "# save model\n",
    "import pickle\n",
    "\n",
    "filename = 'lstm_model.sav'\n",
    "pickle.dump(model, open(filename, 'wb'))"
   ]
  },
  {
   "cell_type": "code",
   "execution_count": 24,
   "metadata": {},
   "outputs": [],
   "source": [
    "# load the model\n",
    "loaded_model = pickle.load(open(filename, 'rb'))\n"
   ]
  },
  {
   "cell_type": "code",
   "execution_count": 25,
   "metadata": {
    "scrolled": true
   },
   "outputs": [
    {
     "name": "stdout",
     "output_type": "stream",
     "text": [
      "dict_keys(['val_loss', 'loss'])\n",
      "[0.004519503746580865, 0.009523161188034075, 0.004025592069540705, 0.005621377278917602, 0.0039472895691038245, 0.007246261263000113, 0.00499721964089466, 0.0035370944367189494, 0.0034819261636584997, 0.0035101001017860006]\n"
     ]
    }
   ],
   "source": [
    "print(history.history.keys())\n",
    "print(history.history['val_loss'])"
   ]
  },
  {
   "cell_type": "code",
   "execution_count": 26,
   "metadata": {},
   "outputs": [
    {
     "data": {
      "text/plain": [
       "Text(0, 0.5, 'Model loss')"
      ]
     },
     "execution_count": 26,
     "metadata": {},
     "output_type": "execute_result"
    },
    {
     "data": {
      "image/png": "[encoded data removed]",
      "text/plain": [
       "<Figure size 432x288 with 1 Axes>"
      ]
     },
     "metadata": {
      "needs_background": "light"
     },
     "output_type": "display_data"
    }
   ],
   "source": [
    "plt.figure()\n",
    "plt.plot(history.history['val_loss'])\n",
    "plt.plot(history.history['loss'])\n",
    "plt.legend(['Test', 'Train'])\n",
    "plt.xlabel('Epoch')\n",
    "plt.ylabel('Model loss')"
   ]
  },
  {
   "cell_type": "code",
   "execution_count": 27,
   "metadata": {},
   "outputs": [],
   "source": [
    "# plot the predicted vs real price"
   ]
  },
  {
   "cell_type": "markdown",
   "metadata": {},
   "source": [
    "LSTM"
   ]
  },
  {
   "cell_type": "code",
   "execution_count": 28,
   "metadata": {},
   "outputs": [
    {
     "name": "stdout",
     "output_type": "stream",
     "text": [
      "Error 0.0023086705155440494 (140,) (140,)\n"
     ]
    }
   ],
   "source": [
    "y_pred = model.predict(trim_dataset(x_test_t, BATCH_SIZE), batch_size=BATCH_SIZE)\n",
    "y_pred = y_pred.flatten()\n",
    "y_test_t = trim_dataset(y_test_t, BATCH_SIZE)\n",
    "error = mean_squared_error(y_test_t, y_pred)\n",
    "print(\"Error\", error, y_pred.shape, y_test_t.shape)\n",
    "\n",
    "y_pred_orig = (y_pred * min_max_scaler.data_range_[3]) + min_max_scaler.data_min_[3] #min_max_scaler.inverse_transform(y_pred)\n",
    "y_test_t_orig = (y_test_t * min_max_scaler.data_range_[3]) + min_max_scaler.data_min_[3] #min_max_scaler.inverse_transform(y_test_t)"
   ]
  },
  {
   "cell_type": "code",
   "execution_count": null,
   "metadata": {},
   "outputs": [],
   "source": [
    "print(x_test_t.head)\n",
    "print(y_test)"
   ]
  },
  {
   "cell_type": "code",
   "execution_count": 29,
   "metadata": {},
   "outputs": [
    {
     "data": {
      "image/png": "[encoded data removed]",
      "text/plain": [
       "<Figure size 432x288 with 1 Axes>"
      ]
     },
     "metadata": {
      "needs_background": "light"
     },
     "output_type": "display_data"
    }
   ],
   "source": [
    "plt.figure()\n",
    "plt.plot(y_pred_orig)\n",
    "plt.plot(y_test_t_orig)\n",
    "plt.title('Prediction vs Real Stock Price')\n",
    "plt.ylabel('Price')\n",
    "plt.xlabel('Days')\n",
    "plt.legend(['Prediction', 'Real'], loc='upper left')\n",
    "plt.show()"
   ]
  },
  {
   "cell_type": "code",
   "execution_count": 30,
   "metadata": {},
   "outputs": [],
   "source": [
    "# do gridsearch, put logging into\n",
    "# what overfit would mean here?\n",
    "# read lstm AK\n",
    "# how to appreciate how good is the prediction?\n",
    "\n",
    "# sentiment analysis for stock prediction ? X\n",
    "\n",
    "# ! when u use lstm, y is the close price of that they\n",
    "# on another model I think you kept the close price of that they"
   ]
  },
  {
   "cell_type": "code",
   "execution_count": 41,
   "metadata": {},
   "outputs": [
    {
     "name": "stdout",
     "output_type": "stream",
     "text": [
      "<class 'numpy.ndarray'>\n",
      "(140,)\n"
     ]
    }
   ],
   "source": [
    "print(type(y_test_t_orig))\n",
    "print(y_test_t_orig.shape)"
   ]
  },
  {
   "cell_type": "code",
   "execution_count": null,
   "metadata": {},
   "outputs": [],
   "source": []
  },
  {
   "cell_type": "markdown",
   "metadata": {},
   "source": [
    "# STRATEGY"
   ]
  },
  {
   "cell_type": "markdown",
   "metadata": {},
   "source": [
    "\n",
    "    http://cs229.stanford.edu/proj2017/final-reports/5241098.pdf"
   ]
  },
  {
   "cell_type": "markdown",
   "metadata": {},
   "source": [
    "We consider a simple algorithmic trading strategy based\n",
    "on the prediction by the model. At day t, an investor buys\n",
    "one share of INTC stock if the predicted price is higher\n",
    "than the current actual adjusted closing price. Otherwise,\n",
    "he or she sells one share of INTC stock. The strategy st\n",
    "can be described as:\n",
    "st =\n",
    "(\n",
    "+1 if yˆt+1 > yt\n",
    "−1 if yˆt+1 ≤ yt"
   ]
  },
  {
   "cell_type": "code",
   "execution_count": 44,
   "metadata": {},
   "outputs": [],
   "source": [
    "y_pred # prediction\n",
    "pass"
   ]
  },
  {
   "cell_type": "code",
   "execution_count": null,
   "metadata": {},
   "outputs": [],
   "source": [
    "x_test_t # window\n",
    "pass"
   ]
  },
  {
   "cell_type": "code",
   "execution_count": 46,
   "metadata": {},
   "outputs": [],
   "source": [
    "# x_t : train data\n",
    "# x_val: validation data\n",
    "# x_test_t: test data"
   ]
  },
  {
   "cell_type": "markdown",
   "metadata": {},
   "source": [
    "TODO\n",
    "1. get data OK\n",
    "2. write trading algorithm (function of the prediction) OK\n",
    "3. compute returns\n",
    "\n",
    "4. compute sharpe ratio of the strategy"
   ]
  },
  {
   "cell_type": "code",
   "execution_count": 49,
   "metadata": {},
   "outputs": [],
   "source": [
    "y_pred_orig # predicted data\n",
    "pass"
   ]
  },
  {
   "cell_type": "code",
   "execution_count": 50,
   "metadata": {},
   "outputs": [],
   "source": [
    "y_test_t_orig # real data\n",
    "pass"
   ]
  },
  {
   "cell_type": "code",
   "execution_count": 53,
   "metadata": {},
   "outputs": [],
   "source": [
    "predicted_data = y_pred_orig\n",
    "real_data = y_test_t_orig"
   ]
  },
  {
   "cell_type": "code",
   "execution_count": 54,
   "metadata": {},
   "outputs": [
    {
     "data": {
      "text/plain": [
       "True"
      ]
     },
     "execution_count": 54,
     "metadata": {},
     "output_type": "execute_result"
    }
   ],
   "source": [
    "len(predicted_data) == len(real_data)"
   ]
  },
  {
   "cell_type": "code",
   "execution_count": 55,
   "metadata": {},
   "outputs": [
    {
     "data": {
      "text/plain": [
       "(numpy.ndarray, numpy.float32)"
      ]
     },
     "execution_count": 55,
     "metadata": {},
     "output_type": "execute_result"
    }
   ],
   "source": [
    "assert len(predicted_data) == len(real_data)\n",
    "type(predicted_data), type(predicted_data[0])"
   ]
  },
  {
   "cell_type": "code",
   "execution_count": 56,
   "metadata": {},
   "outputs": [],
   "source": [
    "class strategy():\n",
    "    def __init__(self):\n",
    "        self.stocks = 0\n",
    "    \n",
    "    def take_action(self, today_real_price, tomorrow_forcasted_price):\n",
    "        \"\"\"\n",
    "         At day t, an investor buys one share of INTC stock if the predicted price \n",
    "         is higher than the current actual adjusted closing price.\n",
    "         Otherwise, he or she sells one share of INTC stock\"\"\"\n",
    "        if tomorrow_forcasted_price > today_real_price:\n",
    "            self.stocks += 1\n",
    "        else:\n",
    "            self.stocks -= 1\n",
    "    \n",
    "    def compute_daily_return(self, today_real_price, tomorrow_real_price):\n",
    "        \"\"\"\n",
    "         Using the\n",
    "indicator variable st\n",
    ", we can calculate a daily return of\n",
    "the strategy at day t + 1:\n",
    "rt+1 = st × log \u0012\n",
    "yt+1\n",
    "yt\n",
    "\u0013\n",
    "−\n",
    "        \"\"\"\n",
    "        import math\n",
    "        daily_return = self.stocks * math.log(tomorrow_real_price, today_real_price)\n",
    "        return daily_return\n",
    "            "
   ]
  },
  {
   "cell_type": "code",
   "execution_count": 57,
   "metadata": {},
   "outputs": [],
   "source": [
    "def execute_strategy(strategy, predicted_data, verbose=True):\n",
    "    \"\"\"\n",
    "    args: strategy to execute\n",
    "    \"\"\"\n",
    "    cumulative_return = 0\n",
    "    for day, today_real_price in enumerate(real_data[:-1]):\n",
    "        # day by day and execute my strategy\n",
    "        today_predicted_price = predicted_data[day]\n",
    "        if verbose: print(day, today_real_price, today_predicted_price)\n",
    "        \n",
    "        strategy.take_action(today_real_price, predicted_data[day + 1])\n",
    "        today_return = strategy.compute_daily_return(today_real_price, real_data[day + 1])\n",
    "        # metric: cumulative return\n",
    "        # sum of all the returns\n",
    "        cumulative_return += today_return\n",
    "    return cumulative_return"
   ]
  },
  {
   "cell_type": "code",
   "execution_count": 58,
   "metadata": {},
   "outputs": [
    {
     "name": "stdout",
     "output_type": "stream",
     "text": [
      "3005.6188227088\n"
     ]
    }
   ],
   "source": [
    "lstm_strategy = strategy() # you need initialize this every time\n",
    "lstm_predicted_data = y_pred_orig # find prediction data\n",
    "\n",
    "real_data = y_test_t_orig\n",
    "\n",
    "lstm_strategy_return = execute_strategy(lstm_strategy, lstm_predicted_data, verbose=False)\n",
    "lstm_strategy.stocks # how is my stock balance at the end of the execution:?\n",
    "print(lstm_strategy_return)"
   ]
  },
  {
   "cell_type": "code",
   "execution_count": 59,
   "metadata": {},
   "outputs": [
    {
     "name": "stdout",
     "output_type": "stream",
     "text": [
      "3005.6188227088\n"
     ]
    }
   ],
   "source": [
    "regressor_strategy = strategy()\n",
    "regression_predicted_data = y_pred_orig # TODO: find this\n",
    "real_data = y_test_t_orig\n",
    "regression_strategy_return = execute_strategy(regressor_strategy, regression_predicted_data, verbose=False)\n",
    "regressor_strategy.stocks\n",
    "print(regression_strategy_return)"
   ]
  }
 ],
 "metadata": {
  "kernelspec": {
   "display_name": "Python 3",
   "language": "python",
   "name": "python3"
  },
  "language_info": {
   "codemirror_mode": {
    "name": "ipython",
    "version": 3
   },
   "file_extension": ".py",
   "mimetype": "text/x-python",
   "name": "python",
   "nbconvert_exporter": "python",
   "pygments_lexer": "ipython3",
   "version": "3.7.3"
  }
 },
 "nbformat": 4,
 "nbformat_minor": 2
}
