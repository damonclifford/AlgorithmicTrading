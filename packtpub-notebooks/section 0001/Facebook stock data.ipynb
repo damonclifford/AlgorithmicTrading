{
 "cells": [
  {
   "cell_type": "markdown",
   "metadata": {},
   "source": [
    "### FACEBOOK stock prices from quantopian quandl\n",
    "How to get the data?\n",
    "https://blog.quandl.com/getting-started-with-the-quandl-api"
   ]
  },
  {
   "cell_type": "code",
   "execution_count": 2,
   "metadata": {},
   "outputs": [],
   "source": [
    "import pandas as pd\n",
    "import numpy as np\n",
    "from matplotlib import pyplot as plt\n",
    "%matplotlib inline"
   ]
  },
  {
   "cell_type": "code",
   "execution_count": 3,
   "metadata": {},
   "outputs": [],
   "source": [
    "from zipline.data.data_portal import DataPortal\n",
    "from zipline.data import bundles\n",
    "from zipline.utils.calendars import get_calendar"
   ]
  },
  {
   "cell_type": "code",
   "execution_count": 4,
   "metadata": {},
   "outputs": [],
   "source": [
    "bundle_data = bundles.load(\"quantopian-quandl\")"
   ]
  },
  {
   "cell_type": "code",
   "execution_count": 5,
   "metadata": {},
   "outputs": [
    {
     "name": "stdout",
     "output_type": "stream",
     "text": [
      "<class 'zipline.data.bundles.core.BundleData'>\n"
     ]
    }
   ],
   "source": [
    "print(type(bundle_data))"
   ]
  },
  {
   "cell_type": "code",
   "execution_count": 6,
   "metadata": {},
   "outputs": [],
   "source": [
    "end_date = pd.Timestamp(\"2019-05-01\", tz=\"utc\")"
   ]
  },
  {
   "cell_type": "code",
   "execution_count": 8,
   "metadata": {},
   "outputs": [
    {
     "data": {
      "text/plain": [
       "Timestamp('1990-01-02 00:00:00+0000', tz='UTC')"
      ]
     },
     "execution_count": 8,
     "metadata": {},
     "output_type": "execute_result"
    }
   ],
   "source": [
    "bundle_data.equity_daily_bar_reader.first_trading_day"
   ]
  },
  {
   "cell_type": "code",
   "execution_count": 9,
   "metadata": {},
   "outputs": [],
   "source": [
    "data_por = DataPortal(\n",
    "        asset_finder=bundle_data.asset_finder,\n",
    "        trading_calendar=get_calendar(\"NYSE\"),\n",
    "        first_trading_day=bundle_data.equity_daily_bar_reader.first_trading_day,\n",
    "        equity_daily_reader=bundle_data.equity_daily_bar_reader\n",
    ")    "
   ]
  },
  {
   "cell_type": "code",
   "execution_count": 10,
   "metadata": {},
   "outputs": [],
   "source": [
    "FB = data_por.asset_finder.lookup_symbol(\n",
    "    \"FB\",\n",
    "    as_of_date=None)"
   ]
  },
  {
   "cell_type": "code",
   "execution_count": 11,
   "metadata": {
    "scrolled": true
   },
   "outputs": [
    {
     "name": "stderr",
     "output_type": "stream",
     "text": [
      "C:\\Users\\ASUS\\Anaconda3\\envs\\tradebot\\lib\\site-packages\\zipline\\data\\history_loader.py:275: RuntimeWarning: invalid value encountered in rint\n",
      "  self.current = next(window)\n"
     ]
    }
   ],
   "source": [
    "df = data_por.get_history_window(\n",
    "    assets=[FB],\n",
    "    end_dt=end_date,\n",
    "    bar_count=31 * 12,\n",
    "    frequency='1d',\n",
    "    data_frequency='daily',\n",
    "    field='open'\n",
    ")"
   ]
  },
  {
   "cell_type": "code",
   "execution_count": 12,
   "metadata": {},
   "outputs": [
    {
     "data": {
      "text/html": [
       "<div>\n",
       "<style scoped>\n",
       "    .dataframe tbody tr th:only-of-type {\n",
       "        vertical-align: middle;\n",
       "    }\n",
       "\n",
       "    .dataframe tbody tr th {\n",
       "        vertical-align: top;\n",
       "    }\n",
       "\n",
       "    .dataframe thead th {\n",
       "        text-align: right;\n",
       "    }\n",
       "</style>\n",
       "<table border=\"1\" class=\"dataframe\">\n",
       "  <thead>\n",
       "    <tr style=\"text-align: right;\">\n",
       "      <th></th>\n",
       "      <th>Equity(1037 [FB])</th>\n",
       "    </tr>\n",
       "  </thead>\n",
       "  <tbody>\n",
       "    <tr>\n",
       "      <th>2017-11-06 00:00:00+00:00</th>\n",
       "      <td>178.56</td>\n",
       "    </tr>\n",
       "    <tr>\n",
       "      <th>2017-11-07 00:00:00+00:00</th>\n",
       "      <td>180.50</td>\n",
       "    </tr>\n",
       "    <tr>\n",
       "      <th>2017-11-08 00:00:00+00:00</th>\n",
       "      <td>NaN</td>\n",
       "    </tr>\n",
       "    <tr>\n",
       "      <th>2017-11-09 00:00:00+00:00</th>\n",
       "      <td>178.31</td>\n",
       "    </tr>\n",
       "    <tr>\n",
       "      <th>2017-11-10 00:00:00+00:00</th>\n",
       "      <td>178.35</td>\n",
       "    </tr>\n",
       "  </tbody>\n",
       "</table>\n",
       "</div>"
      ],
      "text/plain": [
       "                           Equity(1037 [FB])\n",
       "2017-11-06 00:00:00+00:00             178.56\n",
       "2017-11-07 00:00:00+00:00             180.50\n",
       "2017-11-08 00:00:00+00:00                NaN\n",
       "2017-11-09 00:00:00+00:00             178.31\n",
       "2017-11-10 00:00:00+00:00             178.35"
      ]
     },
     "execution_count": 12,
     "metadata": {},
     "output_type": "execute_result"
    }
   ],
   "source": [
    "df.head()"
   ]
  },
  {
   "cell_type": "code",
   "execution_count": 13,
   "metadata": {},
   "outputs": [
    {
     "data": {
      "text/html": [
       "<div>\n",
       "<style scoped>\n",
       "    .dataframe tbody tr th:only-of-type {\n",
       "        vertical-align: middle;\n",
       "    }\n",
       "\n",
       "    .dataframe tbody tr th {\n",
       "        vertical-align: top;\n",
       "    }\n",
       "\n",
       "    .dataframe thead th {\n",
       "        text-align: right;\n",
       "    }\n",
       "</style>\n",
       "<table border=\"1\" class=\"dataframe\">\n",
       "  <thead>\n",
       "    <tr style=\"text-align: right;\">\n",
       "      <th></th>\n",
       "      <th>Equity(1037 [FB])</th>\n",
       "    </tr>\n",
       "  </thead>\n",
       "  <tbody>\n",
       "    <tr>\n",
       "      <th>count</th>\n",
       "      <td>96.000000</td>\n",
       "    </tr>\n",
       "    <tr>\n",
       "      <th>mean</th>\n",
       "      <td>179.601042</td>\n",
       "    </tr>\n",
       "    <tr>\n",
       "      <th>std</th>\n",
       "      <td>5.999242</td>\n",
       "    </tr>\n",
       "    <tr>\n",
       "      <th>min</th>\n",
       "      <td>156.310000</td>\n",
       "    </tr>\n",
       "    <tr>\n",
       "      <th>25%</th>\n",
       "      <td>177.120000</td>\n",
       "    </tr>\n",
       "    <tr>\n",
       "      <th>50%</th>\n",
       "      <td>179.205000</td>\n",
       "    </tr>\n",
       "    <tr>\n",
       "      <th>75%</th>\n",
       "      <td>183.307500</td>\n",
       "    </tr>\n",
       "    <tr>\n",
       "      <th>max</th>\n",
       "      <td>192.040000</td>\n",
       "    </tr>\n",
       "  </tbody>\n",
       "</table>\n",
       "</div>"
      ],
      "text/plain": [
       "       Equity(1037 [FB])\n",
       "count          96.000000\n",
       "mean          179.601042\n",
       "std             5.999242\n",
       "min           156.310000\n",
       "25%           177.120000\n",
       "50%           179.205000\n",
       "75%           183.307500\n",
       "max           192.040000"
      ]
     },
     "execution_count": 13,
     "metadata": {},
     "output_type": "execute_result"
    }
   ],
   "source": [
    "df.describe()"
   ]
  },
  {
   "cell_type": "code",
   "execution_count": 14,
   "metadata": {},
   "outputs": [],
   "source": [
    "df.index = pd.DatetimeIndex(df.index)"
   ]
  },
  {
   "cell_type": "code",
   "execution_count": 15,
   "metadata": {},
   "outputs": [
    {
     "data": {
      "text/plain": [
       "pandas.core.frame.DataFrame"
      ]
     },
     "execution_count": 15,
     "metadata": {},
     "output_type": "execute_result"
    }
   ],
   "source": [
    "type(df)"
   ]
  },
  {
   "cell_type": "code",
   "execution_count": 17,
   "metadata": {},
   "outputs": [
    {
     "data": {
      "text/plain": [
       "pandas.core.indexes.base.Index"
      ]
     },
     "execution_count": 17,
     "metadata": {},
     "output_type": "execute_result"
    }
   ],
   "source": [
    "type(df.columns)"
   ]
  },
  {
   "cell_type": "code",
   "execution_count": 18,
   "metadata": {},
   "outputs": [
    {
     "data": {
      "text/plain": [
       "Equity(1037 [FB])"
      ]
     },
     "execution_count": 18,
     "metadata": {},
     "output_type": "execute_result"
    }
   ],
   "source": [
    "list(df.columns)[0]"
   ]
  },
  {
   "cell_type": "code",
   "execution_count": 22,
   "metadata": {},
   "outputs": [
    {
     "data": {
      "text/plain": [
       "[Equity(1037 [FB]), 'open']"
      ]
     },
     "execution_count": 22,
     "metadata": {},
     "output_type": "execute_result"
    }
   ],
   "source": [
    "list(df.columns)"
   ]
  },
  {
   "cell_type": "code",
   "execution_count": 19,
   "metadata": {},
   "outputs": [],
   "source": [
    "df['open'] = df[list(df.columns)[0]]"
   ]
  },
  {
   "cell_type": "code",
   "execution_count": 20,
   "metadata": {},
   "outputs": [
    {
     "data": {
      "text/html": [
       "<div>\n",
       "<style scoped>\n",
       "    .dataframe tbody tr th:only-of-type {\n",
       "        vertical-align: middle;\n",
       "    }\n",
       "\n",
       "    .dataframe tbody tr th {\n",
       "        vertical-align: top;\n",
       "    }\n",
       "\n",
       "    .dataframe thead th {\n",
       "        text-align: right;\n",
       "    }\n",
       "</style>\n",
       "<table border=\"1\" class=\"dataframe\">\n",
       "  <thead>\n",
       "    <tr style=\"text-align: right;\">\n",
       "      <th></th>\n",
       "      <th>Equity(1037 [FB])</th>\n",
       "      <th>open</th>\n",
       "    </tr>\n",
       "  </thead>\n",
       "  <tbody>\n",
       "    <tr>\n",
       "      <th>2017-11-06 00:00:00+00:00</th>\n",
       "      <td>178.56</td>\n",
       "      <td>178.56</td>\n",
       "    </tr>\n",
       "    <tr>\n",
       "      <th>2017-11-07 00:00:00+00:00</th>\n",
       "      <td>180.50</td>\n",
       "      <td>180.50</td>\n",
       "    </tr>\n",
       "    <tr>\n",
       "      <th>2017-11-08 00:00:00+00:00</th>\n",
       "      <td>NaN</td>\n",
       "      <td>NaN</td>\n",
       "    </tr>\n",
       "    <tr>\n",
       "      <th>2017-11-09 00:00:00+00:00</th>\n",
       "      <td>178.31</td>\n",
       "      <td>178.31</td>\n",
       "    </tr>\n",
       "    <tr>\n",
       "      <th>2017-11-10 00:00:00+00:00</th>\n",
       "      <td>178.35</td>\n",
       "      <td>178.35</td>\n",
       "    </tr>\n",
       "  </tbody>\n",
       "</table>\n",
       "</div>"
      ],
      "text/plain": [
       "                           Equity(1037 [FB])    open\n",
       "2017-11-06 00:00:00+00:00             178.56  178.56\n",
       "2017-11-07 00:00:00+00:00             180.50  180.50\n",
       "2017-11-08 00:00:00+00:00                NaN     NaN\n",
       "2017-11-09 00:00:00+00:00             178.31  178.31\n",
       "2017-11-10 00:00:00+00:00             178.35  178.35"
      ]
     },
     "execution_count": 20,
     "metadata": {},
     "output_type": "execute_result"
    }
   ],
   "source": [
    "df.head()"
   ]
  },
  {
   "cell_type": "code",
   "execution_count": 23,
   "metadata": {},
   "outputs": [],
   "source": [
    "df = df.drop(columns=[list(df.columns)[0]])"
   ]
  },
  {
   "cell_type": "code",
   "execution_count": 24,
   "metadata": {},
   "outputs": [
    {
     "data": {
      "text/html": [
       "<div>\n",
       "<style scoped>\n",
       "    .dataframe tbody tr th:only-of-type {\n",
       "        vertical-align: middle;\n",
       "    }\n",
       "\n",
       "    .dataframe tbody tr th {\n",
       "        vertical-align: top;\n",
       "    }\n",
       "\n",
       "    .dataframe thead th {\n",
       "        text-align: right;\n",
       "    }\n",
       "</style>\n",
       "<table border=\"1\" class=\"dataframe\">\n",
       "  <thead>\n",
       "    <tr style=\"text-align: right;\">\n",
       "      <th></th>\n",
       "      <th>open</th>\n",
       "    </tr>\n",
       "  </thead>\n",
       "  <tbody>\n",
       "    <tr>\n",
       "      <th>2017-11-06 00:00:00+00:00</th>\n",
       "      <td>178.56</td>\n",
       "    </tr>\n",
       "    <tr>\n",
       "      <th>2017-11-07 00:00:00+00:00</th>\n",
       "      <td>180.50</td>\n",
       "    </tr>\n",
       "    <tr>\n",
       "      <th>2017-11-08 00:00:00+00:00</th>\n",
       "      <td>NaN</td>\n",
       "    </tr>\n",
       "    <tr>\n",
       "      <th>2017-11-09 00:00:00+00:00</th>\n",
       "      <td>178.31</td>\n",
       "    </tr>\n",
       "    <tr>\n",
       "      <th>2017-11-10 00:00:00+00:00</th>\n",
       "      <td>178.35</td>\n",
       "    </tr>\n",
       "  </tbody>\n",
       "</table>\n",
       "</div>"
      ],
      "text/plain": [
       "                             open\n",
       "2017-11-06 00:00:00+00:00  178.56\n",
       "2017-11-07 00:00:00+00:00  180.50\n",
       "2017-11-08 00:00:00+00:00     NaN\n",
       "2017-11-09 00:00:00+00:00  178.31\n",
       "2017-11-10 00:00:00+00:00  178.35"
      ]
     },
     "execution_count": 24,
     "metadata": {},
     "output_type": "execute_result"
    }
   ],
   "source": [
    "df.head()"
   ]
  },
  {
   "cell_type": "code",
   "execution_count": 25,
   "metadata": {},
   "outputs": [
    {
     "data": {
      "text/html": [
       "<div>\n",
       "<style scoped>\n",
       "    .dataframe tbody tr th:only-of-type {\n",
       "        vertical-align: middle;\n",
       "    }\n",
       "\n",
       "    .dataframe tbody tr th {\n",
       "        vertical-align: top;\n",
       "    }\n",
       "\n",
       "    .dataframe thead th {\n",
       "        text-align: right;\n",
       "    }\n",
       "</style>\n",
       "<table border=\"1\" class=\"dataframe\">\n",
       "  <thead>\n",
       "    <tr style=\"text-align: right;\">\n",
       "      <th></th>\n",
       "      <th>open</th>\n",
       "    </tr>\n",
       "  </thead>\n",
       "  <tbody>\n",
       "    <tr>\n",
       "      <th>2017-11-06 00:00:00+00:00</th>\n",
       "      <td>178.56</td>\n",
       "    </tr>\n",
       "    <tr>\n",
       "      <th>2017-11-07 00:00:00+00:00</th>\n",
       "      <td>180.50</td>\n",
       "    </tr>\n",
       "    <tr>\n",
       "      <th>2017-11-08 00:00:00+00:00</th>\n",
       "      <td>NaN</td>\n",
       "    </tr>\n",
       "    <tr>\n",
       "      <th>2017-11-09 00:00:00+00:00</th>\n",
       "      <td>178.31</td>\n",
       "    </tr>\n",
       "    <tr>\n",
       "      <th>2017-11-10 00:00:00+00:00</th>\n",
       "      <td>178.35</td>\n",
       "    </tr>\n",
       "    <tr>\n",
       "      <th>2017-11-13 00:00:00+00:00</th>\n",
       "      <td>177.50</td>\n",
       "    </tr>\n",
       "    <tr>\n",
       "      <th>2017-11-14 00:00:00+00:00</th>\n",
       "      <td>178.13</td>\n",
       "    </tr>\n",
       "    <tr>\n",
       "      <th>2017-11-15 00:00:00+00:00</th>\n",
       "      <td>176.66</td>\n",
       "    </tr>\n",
       "    <tr>\n",
       "      <th>2017-11-16 00:00:00+00:00</th>\n",
       "      <td>178.76</td>\n",
       "    </tr>\n",
       "    <tr>\n",
       "      <th>2017-11-17 00:00:00+00:00</th>\n",
       "      <td>179.30</td>\n",
       "    </tr>\n",
       "    <tr>\n",
       "      <th>2017-11-20 00:00:00+00:00</th>\n",
       "      <td>178.87</td>\n",
       "    </tr>\n",
       "    <tr>\n",
       "      <th>2017-11-21 00:00:00+00:00</th>\n",
       "      <td>179.15</td>\n",
       "    </tr>\n",
       "    <tr>\n",
       "      <th>2017-11-22 00:00:00+00:00</th>\n",
       "      <td>181.30</td>\n",
       "    </tr>\n",
       "    <tr>\n",
       "      <th>2017-11-24 00:00:00+00:00</th>\n",
       "      <td>180.40</td>\n",
       "    </tr>\n",
       "    <tr>\n",
       "      <th>2017-11-27 00:00:00+00:00</th>\n",
       "      <td>182.56</td>\n",
       "    </tr>\n",
       "    <tr>\n",
       "      <th>2017-11-28 00:00:00+00:00</th>\n",
       "      <td>183.51</td>\n",
       "    </tr>\n",
       "    <tr>\n",
       "      <th>2017-11-29 00:00:00+00:00</th>\n",
       "      <td>181.89</td>\n",
       "    </tr>\n",
       "    <tr>\n",
       "      <th>2017-11-30 00:00:00+00:00</th>\n",
       "      <td>176.85</td>\n",
       "    </tr>\n",
       "    <tr>\n",
       "      <th>2017-12-01 00:00:00+00:00</th>\n",
       "      <td>176.03</td>\n",
       "    </tr>\n",
       "    <tr>\n",
       "      <th>2017-12-04 00:00:00+00:00</th>\n",
       "      <td>176.29</td>\n",
       "    </tr>\n",
       "    <tr>\n",
       "      <th>2017-12-05 00:00:00+00:00</th>\n",
       "      <td>170.45</td>\n",
       "    </tr>\n",
       "    <tr>\n",
       "      <th>2017-12-06 00:00:00+00:00</th>\n",
       "      <td>172.50</td>\n",
       "    </tr>\n",
       "    <tr>\n",
       "      <th>2017-12-07 00:00:00+00:00</th>\n",
       "      <td>175.80</td>\n",
       "    </tr>\n",
       "    <tr>\n",
       "      <th>2017-12-08 00:00:00+00:00</th>\n",
       "      <td>181.53</td>\n",
       "    </tr>\n",
       "    <tr>\n",
       "      <th>2017-12-11 00:00:00+00:00</th>\n",
       "      <td>179.30</td>\n",
       "    </tr>\n",
       "    <tr>\n",
       "      <th>2017-12-12 00:00:00+00:00</th>\n",
       "      <td>178.60</td>\n",
       "    </tr>\n",
       "    <tr>\n",
       "      <th>2017-12-13 00:00:00+00:00</th>\n",
       "      <td>177.30</td>\n",
       "    </tr>\n",
       "    <tr>\n",
       "      <th>2017-12-14 00:00:00+00:00</th>\n",
       "      <td>178.29</td>\n",
       "    </tr>\n",
       "    <tr>\n",
       "      <th>2017-12-15 00:00:00+00:00</th>\n",
       "      <td>179.02</td>\n",
       "    </tr>\n",
       "    <tr>\n",
       "      <th>2017-12-18 00:00:00+00:00</th>\n",
       "      <td>181.01</td>\n",
       "    </tr>\n",
       "    <tr>\n",
       "      <th>...</th>\n",
       "      <td>...</td>\n",
       "    </tr>\n",
       "    <tr>\n",
       "      <th>2019-03-20 00:00:00+00:00</th>\n",
       "      <td>NaN</td>\n",
       "    </tr>\n",
       "    <tr>\n",
       "      <th>2019-03-21 00:00:00+00:00</th>\n",
       "      <td>NaN</td>\n",
       "    </tr>\n",
       "    <tr>\n",
       "      <th>2019-03-22 00:00:00+00:00</th>\n",
       "      <td>NaN</td>\n",
       "    </tr>\n",
       "    <tr>\n",
       "      <th>2019-03-25 00:00:00+00:00</th>\n",
       "      <td>NaN</td>\n",
       "    </tr>\n",
       "    <tr>\n",
       "      <th>2019-03-26 00:00:00+00:00</th>\n",
       "      <td>NaN</td>\n",
       "    </tr>\n",
       "    <tr>\n",
       "      <th>2019-03-27 00:00:00+00:00</th>\n",
       "      <td>NaN</td>\n",
       "    </tr>\n",
       "    <tr>\n",
       "      <th>2019-03-28 00:00:00+00:00</th>\n",
       "      <td>NaN</td>\n",
       "    </tr>\n",
       "    <tr>\n",
       "      <th>2019-03-29 00:00:00+00:00</th>\n",
       "      <td>NaN</td>\n",
       "    </tr>\n",
       "    <tr>\n",
       "      <th>2019-04-01 00:00:00+00:00</th>\n",
       "      <td>NaN</td>\n",
       "    </tr>\n",
       "    <tr>\n",
       "      <th>2019-04-02 00:00:00+00:00</th>\n",
       "      <td>NaN</td>\n",
       "    </tr>\n",
       "    <tr>\n",
       "      <th>2019-04-03 00:00:00+00:00</th>\n",
       "      <td>NaN</td>\n",
       "    </tr>\n",
       "    <tr>\n",
       "      <th>2019-04-04 00:00:00+00:00</th>\n",
       "      <td>NaN</td>\n",
       "    </tr>\n",
       "    <tr>\n",
       "      <th>2019-04-05 00:00:00+00:00</th>\n",
       "      <td>NaN</td>\n",
       "    </tr>\n",
       "    <tr>\n",
       "      <th>2019-04-08 00:00:00+00:00</th>\n",
       "      <td>NaN</td>\n",
       "    </tr>\n",
       "    <tr>\n",
       "      <th>2019-04-09 00:00:00+00:00</th>\n",
       "      <td>NaN</td>\n",
       "    </tr>\n",
       "    <tr>\n",
       "      <th>2019-04-10 00:00:00+00:00</th>\n",
       "      <td>NaN</td>\n",
       "    </tr>\n",
       "    <tr>\n",
       "      <th>2019-04-11 00:00:00+00:00</th>\n",
       "      <td>NaN</td>\n",
       "    </tr>\n",
       "    <tr>\n",
       "      <th>2019-04-12 00:00:00+00:00</th>\n",
       "      <td>NaN</td>\n",
       "    </tr>\n",
       "    <tr>\n",
       "      <th>2019-04-15 00:00:00+00:00</th>\n",
       "      <td>NaN</td>\n",
       "    </tr>\n",
       "    <tr>\n",
       "      <th>2019-04-16 00:00:00+00:00</th>\n",
       "      <td>NaN</td>\n",
       "    </tr>\n",
       "    <tr>\n",
       "      <th>2019-04-17 00:00:00+00:00</th>\n",
       "      <td>NaN</td>\n",
       "    </tr>\n",
       "    <tr>\n",
       "      <th>2019-04-18 00:00:00+00:00</th>\n",
       "      <td>NaN</td>\n",
       "    </tr>\n",
       "    <tr>\n",
       "      <th>2019-04-22 00:00:00+00:00</th>\n",
       "      <td>NaN</td>\n",
       "    </tr>\n",
       "    <tr>\n",
       "      <th>2019-04-23 00:00:00+00:00</th>\n",
       "      <td>NaN</td>\n",
       "    </tr>\n",
       "    <tr>\n",
       "      <th>2019-04-24 00:00:00+00:00</th>\n",
       "      <td>NaN</td>\n",
       "    </tr>\n",
       "    <tr>\n",
       "      <th>2019-04-25 00:00:00+00:00</th>\n",
       "      <td>NaN</td>\n",
       "    </tr>\n",
       "    <tr>\n",
       "      <th>2019-04-26 00:00:00+00:00</th>\n",
       "      <td>NaN</td>\n",
       "    </tr>\n",
       "    <tr>\n",
       "      <th>2019-04-29 00:00:00+00:00</th>\n",
       "      <td>NaN</td>\n",
       "    </tr>\n",
       "    <tr>\n",
       "      <th>2019-04-30 00:00:00+00:00</th>\n",
       "      <td>NaN</td>\n",
       "    </tr>\n",
       "    <tr>\n",
       "      <th>2019-05-01 00:00:00+00:00</th>\n",
       "      <td>NaN</td>\n",
       "    </tr>\n",
       "  </tbody>\n",
       "</table>\n",
       "<p>372 rows × 1 columns</p>\n",
       "</div>"
      ],
      "text/plain": [
       "                             open\n",
       "2017-11-06 00:00:00+00:00  178.56\n",
       "2017-11-07 00:00:00+00:00  180.50\n",
       "2017-11-08 00:00:00+00:00     NaN\n",
       "2017-11-09 00:00:00+00:00  178.31\n",
       "2017-11-10 00:00:00+00:00  178.35\n",
       "2017-11-13 00:00:00+00:00  177.50\n",
       "2017-11-14 00:00:00+00:00  178.13\n",
       "2017-11-15 00:00:00+00:00  176.66\n",
       "2017-11-16 00:00:00+00:00  178.76\n",
       "2017-11-17 00:00:00+00:00  179.30\n",
       "2017-11-20 00:00:00+00:00  178.87\n",
       "2017-11-21 00:00:00+00:00  179.15\n",
       "2017-11-22 00:00:00+00:00  181.30\n",
       "2017-11-24 00:00:00+00:00  180.40\n",
       "2017-11-27 00:00:00+00:00  182.56\n",
       "2017-11-28 00:00:00+00:00  183.51\n",
       "2017-11-29 00:00:00+00:00  181.89\n",
       "2017-11-30 00:00:00+00:00  176.85\n",
       "2017-12-01 00:00:00+00:00  176.03\n",
       "2017-12-04 00:00:00+00:00  176.29\n",
       "2017-12-05 00:00:00+00:00  170.45\n",
       "2017-12-06 00:00:00+00:00  172.50\n",
       "2017-12-07 00:00:00+00:00  175.80\n",
       "2017-12-08 00:00:00+00:00  181.53\n",
       "2017-12-11 00:00:00+00:00  179.30\n",
       "2017-12-12 00:00:00+00:00  178.60\n",
       "2017-12-13 00:00:00+00:00  177.30\n",
       "2017-12-14 00:00:00+00:00  178.29\n",
       "2017-12-15 00:00:00+00:00  179.02\n",
       "2017-12-18 00:00:00+00:00  181.01\n",
       "...                           ...\n",
       "2019-03-20 00:00:00+00:00     NaN\n",
       "2019-03-21 00:00:00+00:00     NaN\n",
       "2019-03-22 00:00:00+00:00     NaN\n",
       "2019-03-25 00:00:00+00:00     NaN\n",
       "2019-03-26 00:00:00+00:00     NaN\n",
       "2019-03-27 00:00:00+00:00     NaN\n",
       "2019-03-28 00:00:00+00:00     NaN\n",
       "2019-03-29 00:00:00+00:00     NaN\n",
       "2019-04-01 00:00:00+00:00     NaN\n",
       "2019-04-02 00:00:00+00:00     NaN\n",
       "2019-04-03 00:00:00+00:00     NaN\n",
       "2019-04-04 00:00:00+00:00     NaN\n",
       "2019-04-05 00:00:00+00:00     NaN\n",
       "2019-04-08 00:00:00+00:00     NaN\n",
       "2019-04-09 00:00:00+00:00     NaN\n",
       "2019-04-10 00:00:00+00:00     NaN\n",
       "2019-04-11 00:00:00+00:00     NaN\n",
       "2019-04-12 00:00:00+00:00     NaN\n",
       "2019-04-15 00:00:00+00:00     NaN\n",
       "2019-04-16 00:00:00+00:00     NaN\n",
       "2019-04-17 00:00:00+00:00     NaN\n",
       "2019-04-18 00:00:00+00:00     NaN\n",
       "2019-04-22 00:00:00+00:00     NaN\n",
       "2019-04-23 00:00:00+00:00     NaN\n",
       "2019-04-24 00:00:00+00:00     NaN\n",
       "2019-04-25 00:00:00+00:00     NaN\n",
       "2019-04-26 00:00:00+00:00     NaN\n",
       "2019-04-29 00:00:00+00:00     NaN\n",
       "2019-04-30 00:00:00+00:00     NaN\n",
       "2019-05-01 00:00:00+00:00     NaN\n",
       "\n",
       "[372 rows x 1 columns]"
      ]
     },
     "execution_count": 25,
     "metadata": {},
     "output_type": "execute_result"
    }
   ],
   "source": [
    "df"
   ]
  },
  {
   "cell_type": "code",
   "execution_count": 26,
   "metadata": {},
   "outputs": [
    {
     "data": {
      "text/plain": [
       "[<matplotlib.lines.Line2D at 0x11b7dc18>]"
      ]
     },
     "execution_count": 26,
     "metadata": {},
     "output_type": "execute_result"
    },
    {
     "data": {
      "image/png": "[encoded data removed]",
      "text/plain": [
       "<Figure size 432x288 with 1 Axes>"
      ]
     },
     "metadata": {
      "needs_background": "light"
     },
     "output_type": "display_data"
    }
   ],
   "source": [
    "fig, ax = plt.subplots()\n",
    "\n",
    "ax.plot(df.index, df.open)"
   ]
  },
  {
   "cell_type": "markdown",
   "metadata": {},
   "source": [
    "# FACEBOOK DATA FROM YAHOO FINANCE"
   ]
  },
  {
   "cell_type": "code",
   "execution_count": 1,
   "metadata": {},
   "outputs": [],
   "source": [
    "import pandas as pd\n",
    "import numpy as np\n",
    "from matplotlib import pyplot as plt\n",
    "%matplotlib inline"
   ]
  },
  {
   "cell_type": "code",
   "execution_count": 2,
   "metadata": {},
   "outputs": [],
   "source": [
    "df = pd.read_csv(\"C:/Users/ASUS/Desktop/FMI/Licenta OB/Overall Code/packtpub-src/csv/FB.csv\")"
   ]
  },
  {
   "cell_type": "code",
   "execution_count": 3,
   "metadata": {},
   "outputs": [
    {
     "data": {
      "text/html": [
       "<div>\n",
       "<style scoped>\n",
       "    .dataframe tbody tr th:only-of-type {\n",
       "        vertical-align: middle;\n",
       "    }\n",
       "\n",
       "    .dataframe tbody tr th {\n",
       "        vertical-align: top;\n",
       "    }\n",
       "\n",
       "    .dataframe thead th {\n",
       "        text-align: right;\n",
       "    }\n",
       "</style>\n",
       "<table border=\"1\" class=\"dataframe\">\n",
       "  <thead>\n",
       "    <tr style=\"text-align: right;\">\n",
       "      <th></th>\n",
       "      <th>Date</th>\n",
       "      <th>Open</th>\n",
       "      <th>High</th>\n",
       "      <th>Low</th>\n",
       "      <th>Close</th>\n",
       "      <th>Adj Close</th>\n",
       "      <th>Volume</th>\n",
       "    </tr>\n",
       "  </thead>\n",
       "  <tbody>\n",
       "    <tr>\n",
       "      <th>0</th>\n",
       "      <td>2017-05-30</td>\n",
       "      <td>151.970001</td>\n",
       "      <td>152.899994</td>\n",
       "      <td>151.639999</td>\n",
       "      <td>152.380005</td>\n",
       "      <td>152.380005</td>\n",
       "      <td>13226000</td>\n",
       "    </tr>\n",
       "    <tr>\n",
       "      <th>1</th>\n",
       "      <td>2017-05-31</td>\n",
       "      <td>152.699997</td>\n",
       "      <td>153.350006</td>\n",
       "      <td>151.089996</td>\n",
       "      <td>151.460007</td>\n",
       "      <td>151.460007</td>\n",
       "      <td>18023900</td>\n",
       "    </tr>\n",
       "    <tr>\n",
       "      <th>2</th>\n",
       "      <td>2017-06-01</td>\n",
       "      <td>151.750000</td>\n",
       "      <td>152.289993</td>\n",
       "      <td>150.300003</td>\n",
       "      <td>151.529999</td>\n",
       "      <td>151.529999</td>\n",
       "      <td>14530600</td>\n",
       "    </tr>\n",
       "    <tr>\n",
       "      <th>3</th>\n",
       "      <td>2017-06-02</td>\n",
       "      <td>151.850006</td>\n",
       "      <td>153.630005</td>\n",
       "      <td>151.300003</td>\n",
       "      <td>153.610001</td>\n",
       "      <td>153.610001</td>\n",
       "      <td>16854400</td>\n",
       "    </tr>\n",
       "    <tr>\n",
       "      <th>4</th>\n",
       "      <td>2017-06-05</td>\n",
       "      <td>153.639999</td>\n",
       "      <td>154.710007</td>\n",
       "      <td>153.410004</td>\n",
       "      <td>153.630005</td>\n",
       "      <td>153.630005</td>\n",
       "      <td>12520400</td>\n",
       "    </tr>\n",
       "  </tbody>\n",
       "</table>\n",
       "</div>"
      ],
      "text/plain": [
       "         Date        Open        High         Low       Close   Adj Close  \\\n",
       "0  2017-05-30  151.970001  152.899994  151.639999  152.380005  152.380005   \n",
       "1  2017-05-31  152.699997  153.350006  151.089996  151.460007  151.460007   \n",
       "2  2017-06-01  151.750000  152.289993  150.300003  151.529999  151.529999   \n",
       "3  2017-06-02  151.850006  153.630005  151.300003  153.610001  153.610001   \n",
       "4  2017-06-05  153.639999  154.710007  153.410004  153.630005  153.630005   \n",
       "\n",
       "     Volume  \n",
       "0  13226000  \n",
       "1  18023900  \n",
       "2  14530600  \n",
       "3  16854400  \n",
       "4  12520400  "
      ]
     },
     "execution_count": 3,
     "metadata": {},
     "output_type": "execute_result"
    }
   ],
   "source": [
    "df.head()"
   ]
  },
  {
   "cell_type": "code",
   "execution_count": 4,
   "metadata": {
    "scrolled": true
   },
   "outputs": [
    {
     "data": {
      "text/html": [
       "<div>\n",
       "<style scoped>\n",
       "    .dataframe tbody tr th:only-of-type {\n",
       "        vertical-align: middle;\n",
       "    }\n",
       "\n",
       "    .dataframe tbody tr th {\n",
       "        vertical-align: top;\n",
       "    }\n",
       "\n",
       "    .dataframe thead th {\n",
       "        text-align: right;\n",
       "    }\n",
       "</style>\n",
       "<table border=\"1\" class=\"dataframe\">\n",
       "  <thead>\n",
       "    <tr style=\"text-align: right;\">\n",
       "      <th></th>\n",
       "      <th>Date</th>\n",
       "      <th>Open</th>\n",
       "      <th>High</th>\n",
       "      <th>Low</th>\n",
       "      <th>Close</th>\n",
       "      <th>Adj Close</th>\n",
       "      <th>Volume</th>\n",
       "    </tr>\n",
       "  </thead>\n",
       "  <tbody>\n",
       "    <tr>\n",
       "      <th>497</th>\n",
       "      <td>2019-05-21</td>\n",
       "      <td>184.570007</td>\n",
       "      <td>185.699997</td>\n",
       "      <td>183.889999</td>\n",
       "      <td>184.820007</td>\n",
       "      <td>184.820007</td>\n",
       "      <td>7502800</td>\n",
       "    </tr>\n",
       "    <tr>\n",
       "      <th>498</th>\n",
       "      <td>2019-05-22</td>\n",
       "      <td>184.729996</td>\n",
       "      <td>186.740005</td>\n",
       "      <td>183.610001</td>\n",
       "      <td>185.320007</td>\n",
       "      <td>185.320007</td>\n",
       "      <td>9213800</td>\n",
       "    </tr>\n",
       "    <tr>\n",
       "      <th>499</th>\n",
       "      <td>2019-05-23</td>\n",
       "      <td>182.419998</td>\n",
       "      <td>183.899994</td>\n",
       "      <td>179.669998</td>\n",
       "      <td>180.869995</td>\n",
       "      <td>180.869995</td>\n",
       "      <td>12768800</td>\n",
       "    </tr>\n",
       "    <tr>\n",
       "      <th>500</th>\n",
       "      <td>2019-05-24</td>\n",
       "      <td>182.330002</td>\n",
       "      <td>183.630005</td>\n",
       "      <td>180.830002</td>\n",
       "      <td>181.059998</td>\n",
       "      <td>181.059998</td>\n",
       "      <td>8807700</td>\n",
       "    </tr>\n",
       "    <tr>\n",
       "      <th>501</th>\n",
       "      <td>2019-05-28</td>\n",
       "      <td>181.539993</td>\n",
       "      <td>184.710007</td>\n",
       "      <td>181.449997</td>\n",
       "      <td>184.309998</td>\n",
       "      <td>184.309998</td>\n",
       "      <td>14832200</td>\n",
       "    </tr>\n",
       "  </tbody>\n",
       "</table>\n",
       "</div>"
      ],
      "text/plain": [
       "           Date        Open        High         Low       Close   Adj Close  \\\n",
       "497  2019-05-21  184.570007  185.699997  183.889999  184.820007  184.820007   \n",
       "498  2019-05-22  184.729996  186.740005  183.610001  185.320007  185.320007   \n",
       "499  2019-05-23  182.419998  183.899994  179.669998  180.869995  180.869995   \n",
       "500  2019-05-24  182.330002  183.630005  180.830002  181.059998  181.059998   \n",
       "501  2019-05-28  181.539993  184.710007  181.449997  184.309998  184.309998   \n",
       "\n",
       "       Volume  \n",
       "497   7502800  \n",
       "498   9213800  \n",
       "499  12768800  \n",
       "500   8807700  \n",
       "501  14832200  "
      ]
     },
     "execution_count": 4,
     "metadata": {},
     "output_type": "execute_result"
    }
   ],
   "source": [
    "df.tail()"
   ]
  },
  {
   "cell_type": "code",
   "execution_count": 5,
   "metadata": {},
   "outputs": [
    {
     "data": {
      "image/png": "[encoded data removed]",
      "text/plain": [
       "<Figure size 432x288 with 1 Axes>"
      ]
     },
     "metadata": {
      "needs_background": "light"
     },
     "output_type": "display_data"
    }
   ],
   "source": [
    "plt.figure()\n",
    "plt.title(\"FB stock price history\")\n",
    "plt.plot(df['Open'])\n",
    "#plt.plot(df[\"Close\"])\n",
    "#plt.plot(df[\"High\"])\n",
    "#plt.plot(df[\"Low\"])\n",
    "plt.ylabel('Price (USD)')\n",
    "plt.xlabel('Days')\n",
    "plt.legend(['Open', 'Close', 'High', 'Low'], loc='upper left')\n",
    "plt.show()"
   ]
  },
  {
   "cell_type": "code",
   "execution_count": 6,
   "metadata": {},
   "outputs": [
    {
     "data": {
      "image/png": "[encoded data removed]",
      "text/plain": [
       "<Figure size 432x288 with 1 Axes>"
      ]
     },
     "metadata": {
      "needs_background": "light"
     },
     "output_type": "display_data"
    }
   ],
   "source": [
    "plt.figure()\n",
    "plt.plot(df['Volume'])\n",
    "plt.title('FB stock volume history')\n",
    "plt.ylabel('Volume')\n",
    "plt.xlabel('Days')\n",
    "plt.show()"
   ]
  },
  {
   "cell_type": "code",
   "execution_count": 7,
   "metadata": {},
   "outputs": [
    {
     "name": "stdout",
     "output_type": "stream",
     "text": [
      "('Checking if any null values are present\\n', Date         0\n",
      "Open         0\n",
      "High         0\n",
      "Low          0\n",
      "Close        0\n",
      "Adj Close    0\n",
      "Volume       0\n",
      "dtype: int64)\n"
     ]
    }
   ],
   "source": [
    "print('Checking if any null values are present\\n', df.isna().sum())"
   ]
  },
  {
   "cell_type": "markdown",
   "metadata": {},
   "source": [
    "### Normalizing the data\n",
    "* Split the data into train, test\n",
    "* Normalize\n",
    "* Covert the DataFrame to ndarray\n"
   ]
  },
  {
   "cell_type": "code",
   "execution_count": 8,
   "metadata": {},
   "outputs": [
    {
     "name": "stdout",
     "output_type": "stream",
     "text": [
      "Requirement already satisfied: keras in c:\\users\\asus\\anaconda3\\envs\\tradebot\\lib\\site-packages (2.2.4)\n",
      "Requirement already satisfied: pyyaml in c:\\users\\asus\\anaconda3\\envs\\tradebot\\lib\\site-packages (from keras) (5.1)\n",
      "Requirement already satisfied: keras-preprocessing>=1.0.5 in c:\\users\\asus\\anaconda3\\envs\\tradebot\\lib\\site-packages (from keras) (1.0.9)\n",
      "Requirement already satisfied: scipy>=0.14 in c:\\users\\asus\\anaconda3\\envs\\tradebot\\lib\\site-packages (from keras) (1.1.0)\n",
      "Requirement already satisfied: six>=1.9.0 in c:\\users\\asus\\anaconda3\\envs\\tradebot\\lib\\site-packages (from keras) (1.12.0)\n",
      "Requirement already satisfied: keras-applications>=1.0.6 in c:\\users\\asus\\anaconda3\\envs\\tradebot\\lib\\site-packages (from keras) (1.0.7)\n",
      "Requirement already satisfied: numpy>=1.9.1 in c:\\users\\asus\\anaconda3\\envs\\tradebot\\lib\\site-packages (from keras) (1.14.5)\n",
      "Requirement already satisfied: h5py in c:\\users\\asus\\anaconda3\\envs\\tradebot\\lib\\site-packages (from keras) (2.9.0)\n"
     ]
    },
    {
     "name": "stderr",
     "output_type": "stream",
     "text": [
      "DEPRECATION: Python 2.7 will reach the end of its life on January 1st, 2020. Please upgrade your Python as Python 2.7 won't be maintained after that date. A future version of pip will drop support for Python 2.7.\n"
     ]
    },
    {
     "name": "stdout",
     "output_type": "stream",
     "text": [
      "Requirement already satisfied: np_utils in c:\\users\\asus\\anaconda3\\envs\\tradebot\\lib\\site-packages (0.5.10.0)\n",
      "Requirement already satisfied: numpy>=1.0 in c:\\users\\asus\\anaconda3\\envs\\tradebot\\lib\\site-packages (from np_utils) (1.14.5)\n",
      "Requirement already satisfied: future>=0.16 in c:\\users\\asus\\anaconda3\\envs\\tradebot\\lib\\site-packages (from np_utils) (0.17.1)\n"
     ]
    },
    {
     "name": "stderr",
     "output_type": "stream",
     "text": [
      "DEPRECATION: Python 2.7 will reach the end of its life on January 1st, 2020. Please upgrade your Python as Python 2.7 won't be maintained after that date. A future version of pip will drop support for Python 2.7.\n"
     ]
    }
   ],
   "source": [
    "! pip install keras\n",
    "! pip install np_utils"
   ]
  },
  {
   "cell_type": "code",
   "execution_count": null,
   "metadata": {},
   "outputs": [],
   "source": []
  },
  {
   "cell_type": "code",
   "execution_count": 1,
   "metadata": {},
   "outputs": [
    {
     "name": "stdout",
     "output_type": "stream",
     "text": [
      "Collecting tensorflow\n"
     ]
    },
    {
     "name": "stderr",
     "output_type": "stream",
     "text": [
      "DEPRECATION: Python 2.7 will reach the end of its life on January 1st, 2020. Please upgrade your Python as Python 2.7 won't be maintained after that date. A future version of pip will drop support for Python 2.7.\n",
      "  Could not find a version that satisfies the requirement tensorflow (from versions: )\n",
      "No matching distribution found for tensorflow\n"
     ]
    }
   ],
   "source": [
    "! pip install tensorflow"
   ]
  },
  {
   "cell_type": "code",
   "execution_count": 9,
   "metadata": {},
   "outputs": [
    {
     "name": "stderr",
     "output_type": "stream",
     "text": [
      "Using TensorFlow backend.\n"
     ]
    },
    {
     "ename": "ImportError",
     "evalue": "No module named tensorflow",
     "output_type": "error",
     "traceback": [
      "\u001b[1;31m---------------------------------------------------------------------------\u001b[0m",
      "\u001b[1;31mImportError\u001b[0m                               Traceback (most recent call last)",
      "\u001b[1;32m<ipython-input-9-836dd2092476>\u001b[0m in \u001b[0;36m<module>\u001b[1;34m()\u001b[0m\n\u001b[0;32m      2\u001b[0m \u001b[1;32mfrom\u001b[0m \u001b[0msklearn\u001b[0m\u001b[1;33m.\u001b[0m\u001b[0mpreprocessing\u001b[0m \u001b[1;32mimport\u001b[0m \u001b[0mMinMaxScaler\u001b[0m\u001b[1;33m\u001b[0m\u001b[0m\n\u001b[0;32m      3\u001b[0m \u001b[1;32mfrom\u001b[0m \u001b[0msklearn\u001b[0m\u001b[1;33m.\u001b[0m\u001b[0mmodel_selection\u001b[0m \u001b[1;32mimport\u001b[0m \u001b[0mtrain_test_split\u001b[0m\u001b[1;33m\u001b[0m\u001b[0m\n\u001b[1;32m----> 4\u001b[1;33m \u001b[1;32mfrom\u001b[0m \u001b[0mkeras\u001b[0m\u001b[1;33m.\u001b[0m\u001b[0mmodels\u001b[0m \u001b[1;32mimport\u001b[0m \u001b[0mSequential\u001b[0m\u001b[1;33m,\u001b[0m \u001b[0mload_model\u001b[0m\u001b[1;33m\u001b[0m\u001b[0m\n\u001b[0m\u001b[0;32m      5\u001b[0m \u001b[1;32mfrom\u001b[0m \u001b[0mkeras\u001b[0m\u001b[1;33m.\u001b[0m\u001b[0mlayers\u001b[0m \u001b[1;32mimport\u001b[0m \u001b[0mDense\u001b[0m\u001b[1;33m,\u001b[0m \u001b[0mDropout\u001b[0m\u001b[1;33m\u001b[0m\u001b[0m\n\u001b[0;32m      6\u001b[0m \u001b[1;32mfrom\u001b[0m \u001b[0mkeras\u001b[0m\u001b[1;33m.\u001b[0m\u001b[0mlayers\u001b[0m \u001b[1;32mimport\u001b[0m \u001b[0mLSTM\u001b[0m\u001b[1;33m\u001b[0m\u001b[0m\n",
      "\u001b[1;32mC:\\Users\\ASUS\\Anaconda3\\envs\\tradebot\\lib\\site-packages\\keras\\__init__.py\u001b[0m in \u001b[0;36m<module>\u001b[1;34m()\u001b[0m\n\u001b[0;32m      1\u001b[0m \u001b[1;32mfrom\u001b[0m \u001b[0m__future__\u001b[0m \u001b[1;32mimport\u001b[0m \u001b[0mabsolute_import\u001b[0m\u001b[1;33m\u001b[0m\u001b[0m\n\u001b[0;32m      2\u001b[0m \u001b[1;33m\u001b[0m\u001b[0m\n\u001b[1;32m----> 3\u001b[1;33m \u001b[1;32mfrom\u001b[0m \u001b[1;33m.\u001b[0m \u001b[1;32mimport\u001b[0m \u001b[0mutils\u001b[0m\u001b[1;33m\u001b[0m\u001b[0m\n\u001b[0m\u001b[0;32m      4\u001b[0m \u001b[1;32mfrom\u001b[0m \u001b[1;33m.\u001b[0m \u001b[1;32mimport\u001b[0m \u001b[0mactivations\u001b[0m\u001b[1;33m\u001b[0m\u001b[0m\n\u001b[0;32m      5\u001b[0m \u001b[1;32mfrom\u001b[0m \u001b[1;33m.\u001b[0m \u001b[1;32mimport\u001b[0m \u001b[0mapplications\u001b[0m\u001b[1;33m\u001b[0m\u001b[0m\n",
      "\u001b[1;32mC:\\Users\\ASUS\\Anaconda3\\envs\\tradebot\\lib\\site-packages\\keras\\utils\\__init__.py\u001b[0m in \u001b[0;36m<module>\u001b[1;34m()\u001b[0m\n\u001b[0;32m      4\u001b[0m \u001b[1;32mfrom\u001b[0m \u001b[1;33m.\u001b[0m \u001b[1;32mimport\u001b[0m \u001b[0mdata_utils\u001b[0m\u001b[1;33m\u001b[0m\u001b[0m\n\u001b[0;32m      5\u001b[0m \u001b[1;32mfrom\u001b[0m \u001b[1;33m.\u001b[0m \u001b[1;32mimport\u001b[0m \u001b[0mio_utils\u001b[0m\u001b[1;33m\u001b[0m\u001b[0m\n\u001b[1;32m----> 6\u001b[1;33m \u001b[1;32mfrom\u001b[0m \u001b[1;33m.\u001b[0m \u001b[1;32mimport\u001b[0m \u001b[0mconv_utils\u001b[0m\u001b[1;33m\u001b[0m\u001b[0m\n\u001b[0m\u001b[0;32m      7\u001b[0m \u001b[1;33m\u001b[0m\u001b[0m\n\u001b[0;32m      8\u001b[0m \u001b[1;31m# Globally-importable utils.\u001b[0m\u001b[1;33m\u001b[0m\u001b[1;33m\u001b[0m\u001b[0m\n",
      "\u001b[1;32mC:\\Users\\ASUS\\Anaconda3\\envs\\tradebot\\lib\\site-packages\\keras\\utils\\conv_utils.py\u001b[0m in \u001b[0;36m<module>\u001b[1;34m()\u001b[0m\n\u001b[0;32m      7\u001b[0m \u001b[1;32mfrom\u001b[0m \u001b[0msix\u001b[0m\u001b[1;33m.\u001b[0m\u001b[0mmoves\u001b[0m \u001b[1;32mimport\u001b[0m \u001b[0mrange\u001b[0m\u001b[1;33m\u001b[0m\u001b[0m\n\u001b[0;32m      8\u001b[0m \u001b[1;32mimport\u001b[0m \u001b[0mnumpy\u001b[0m \u001b[1;32mas\u001b[0m \u001b[0mnp\u001b[0m\u001b[1;33m\u001b[0m\u001b[0m\n\u001b[1;32m----> 9\u001b[1;33m \u001b[1;32mfrom\u001b[0m \u001b[1;33m.\u001b[0m\u001b[1;33m.\u001b[0m \u001b[1;32mimport\u001b[0m \u001b[0mbackend\u001b[0m \u001b[1;32mas\u001b[0m \u001b[0mK\u001b[0m\u001b[1;33m\u001b[0m\u001b[0m\n\u001b[0m\u001b[0;32m     10\u001b[0m \u001b[1;33m\u001b[0m\u001b[0m\n\u001b[0;32m     11\u001b[0m \u001b[1;33m\u001b[0m\u001b[0m\n",
      "\u001b[1;32mC:\\Users\\ASUS\\Anaconda3\\envs\\tradebot\\lib\\site-packages\\keras\\backend\\__init__.py\u001b[0m in \u001b[0;36m<module>\u001b[1;34m()\u001b[0m\n\u001b[0;32m     87\u001b[0m \u001b[1;32melif\u001b[0m \u001b[0m_BACKEND\u001b[0m \u001b[1;33m==\u001b[0m \u001b[1;34m'tensorflow'\u001b[0m\u001b[1;33m:\u001b[0m\u001b[1;33m\u001b[0m\u001b[0m\n\u001b[0;32m     88\u001b[0m     \u001b[0msys\u001b[0m\u001b[1;33m.\u001b[0m\u001b[0mstderr\u001b[0m\u001b[1;33m.\u001b[0m\u001b[0mwrite\u001b[0m\u001b[1;33m(\u001b[0m\u001b[1;34m'Using TensorFlow backend.\\n'\u001b[0m\u001b[1;33m)\u001b[0m\u001b[1;33m\u001b[0m\u001b[0m\n\u001b[1;32m---> 89\u001b[1;33m     \u001b[1;32mfrom\u001b[0m \u001b[1;33m.\u001b[0m\u001b[0mtensorflow_backend\u001b[0m \u001b[1;32mimport\u001b[0m \u001b[1;33m*\u001b[0m\u001b[1;33m\u001b[0m\u001b[0m\n\u001b[0m\u001b[0;32m     90\u001b[0m \u001b[1;32melse\u001b[0m\u001b[1;33m:\u001b[0m\u001b[1;33m\u001b[0m\u001b[0m\n\u001b[0;32m     91\u001b[0m     \u001b[1;31m# Try and load external backend.\u001b[0m\u001b[1;33m\u001b[0m\u001b[1;33m\u001b[0m\u001b[0m\n",
      "\u001b[1;32mC:\\Users\\ASUS\\Anaconda3\\envs\\tradebot\\lib\\site-packages\\keras\\backend\\tensorflow_backend.py\u001b[0m in \u001b[0;36m<module>\u001b[1;34m()\u001b[0m\n\u001b[0;32m      3\u001b[0m \u001b[1;32mfrom\u001b[0m \u001b[0m__future__\u001b[0m \u001b[1;32mimport\u001b[0m \u001b[0mprint_function\u001b[0m\u001b[1;33m\u001b[0m\u001b[0m\n\u001b[0;32m      4\u001b[0m \u001b[1;33m\u001b[0m\u001b[0m\n\u001b[1;32m----> 5\u001b[1;33m \u001b[1;32mimport\u001b[0m \u001b[0mtensorflow\u001b[0m \u001b[1;32mas\u001b[0m \u001b[0mtf\u001b[0m\u001b[1;33m\u001b[0m\u001b[0m\n\u001b[0m\u001b[0;32m      6\u001b[0m \u001b[1;32mfrom\u001b[0m \u001b[0mtensorflow\u001b[0m\u001b[1;33m.\u001b[0m\u001b[0mpython\u001b[0m\u001b[1;33m.\u001b[0m\u001b[0mframework\u001b[0m \u001b[1;32mimport\u001b[0m \u001b[0mops\u001b[0m \u001b[1;32mas\u001b[0m \u001b[0mtf_ops\u001b[0m\u001b[1;33m\u001b[0m\u001b[0m\n\u001b[0;32m      7\u001b[0m \u001b[1;32mfrom\u001b[0m \u001b[0mtensorflow\u001b[0m\u001b[1;33m.\u001b[0m\u001b[0mpython\u001b[0m\u001b[1;33m.\u001b[0m\u001b[0mtraining\u001b[0m \u001b[1;32mimport\u001b[0m \u001b[0mmoving_averages\u001b[0m\u001b[1;33m\u001b[0m\u001b[0m\n",
      "\u001b[1;31mImportError\u001b[0m: No module named tensorflow"
     ]
    }
   ],
   "source": [
    "from tqdm._tqdm_notebook import tqdm_notebook\n",
    "from sklearn.preprocessing import MinMaxScaler\n",
    "from sklearn.model_selection import train_test_split\n",
    "from keras.models import Sequential, load_model\n",
    "from keras.layers import Dense, Dropout\n",
    "from keras.layers import LSTM\n",
    "from keras import optimizers\n",
    "from keras import backend as K\n",
    "print('Checking GPU available', K.tensorflow_backend._get_available_gpus())\n"
   ]
  },
  {
   "cell_type": "code",
   "execution_count": 28,
   "metadata": {},
   "outputs": [],
   "source": [
    "TIME_STEPS = 60\n",
    "BATCH_SIZE = 20"
   ]
  },
  {
   "cell_type": "code",
   "execution_count": 30,
   "metadata": {},
   "outputs": [
    {
     "name": "stdout",
     "output_type": "stream",
     "text": [
      "('Train and test set', 401, 101)\n"
     ]
    }
   ],
   "source": [
    "\n",
    "\n",
    "train_cols = ['Open', 'High', 'Low', 'Close', 'Volume']\n",
    "df_train, df_test = train_test_split(df, train_size=0.8, test_size=0.2, shuffle=False)\n",
    "print('Train and test set', len(df_train), len(df_test))\n",
    "\n",
    "#scale the feature MinMax, build array\n",
    "x = df_train.loc[:, train_cols].values\n",
    "min_max_scaler = MinMaxScaler()\n",
    "x_train = min_max_scaler.fit_transform(x)\n",
    "x_test = min_max_scaler.transform(df_test.loc[:, train_cols])"
   ]
  },
  {
   "cell_type": "code",
   "execution_count": 34,
   "metadata": {},
   "outputs": [],
   "source": [
    "def build_timeseries(mat, y_col_index):\n",
    "    # y_col_index is the index of column that would act as output column\n",
    "    # total nb of time-series samples would be len(mat) - TIME_STEPS\n",
    "    dim_0 = mat.shape[0] - TIME_STEPS\n",
    "    dim_1 = mat.shape[1]\n",
    "    x = np.zeros((dim_0, TIME_STEPS, dim_1))\n",
    "    y = np.zeros((dim_0,))\n",
    "    \n",
    "    for i in tqdm_notebook(range(dim_0)):\n",
    "        x[i] = mat[i:TIME_STEPS+i]\n",
    "        y[i] = mat[TIME_STEPS+i, y_col_index]\n",
    "    \n",
    "    print('length of time-series i/o', x.shape, y.shape)\n",
    "    return x, y"
   ]
  },
  {
   "cell_type": "code",
   "execution_count": 35,
   "metadata": {},
   "outputs": [],
   "source": [
    "def trim_dataset(mat, batch_size):\n",
    "    \"\"\"\n",
    "    trims dataset to a size that is divisible by BATCH_SIZE\n",
    "    \"\"\"\n",
    "    no_of_rows_drop = mat.shape[0] % batch_size\n",
    "    if no_of_rows_drop > 0:\n",
    "        return mat[:-no_of_rows_drop]\n",
    "    else:\n",
    "        return mat"
   ]
  },
  {
   "cell_type": "code",
   "execution_count": 36,
   "metadata": {},
   "outputs": [
    {
     "data": {
      "application/vnd.jupyter.widget-view+json": {
       "model_id": "eccf57a3c7774e978dccbcb1b6574f11",
       "version_major": 2,
       "version_minor": 0
      },
      "text/plain": [
       "HBox(children=(IntProgress(value=0, max=341), HTML(value=u'')))"
      ]
     },
     "metadata": {},
     "output_type": "display_data"
    },
    {
     "name": "stdout",
     "output_type": "stream",
     "text": [
      "\n",
      "('length of time-series i/o', (341L, 60L, 5L), (341L,))\n"
     ]
    },
    {
     "data": {
      "application/vnd.jupyter.widget-view+json": {
       "model_id": "e5502853ecaf46aa94eae14bdc16380f",
       "version_major": 2,
       "version_minor": 0
      },
      "text/plain": [
       "HBox(children=(IntProgress(value=0, max=41), HTML(value=u'')))"
      ]
     },
     "metadata": {},
     "output_type": "display_data"
    },
    {
     "name": "stdout",
     "output_type": "stream",
     "text": [
      "\n",
      "('length of time-series i/o', (41L, 60L, 5L), (41L,))\n"
     ]
    }
   ],
   "source": [
    "x_t, y_t = build_timeseries(x_train, 3)\n",
    "x_t = trim_dataset(x_t, BATCH_SIZE)\n",
    "y_t = trim_dataset(y_t, BATCH_SIZE)\n",
    "\n",
    "x_temp, y_temp = build_timeseries(x_test, 3)\n",
    "x_val, x_test_t = np.split(trim_dataset(x_temp, BATCH_SIZE), 2)\n",
    "y_val, y_test_t = np.split(trim_dataset(y_temp, BATCH_SIZE), 2)"
   ]
  },
  {
   "cell_type": "code",
   "execution_count": 37,
   "metadata": {},
   "outputs": [],
   "source": [
    "def create_model():\n",
    "    lstm_model = Sequential()\n",
    "    # (batch_size, time_steps, data_dim)\n",
    "    lstm_model.add(LSTM(100, batch_input_shape=(BATCH_SIZE, TIME_STEPS, x_t.shape[2]),\n",
    "                       dropout=0.0, recurrent_dropout=0.0, stateful=True, return_sequences=True,\n",
    "                       kernel_initializer='random_uniform'))\n",
    "    lstm_model.add(Dropout(0.4))\n",
    "    lstm_model.add(LSTM(60, dropout=0.0))\n",
    "    lstm_model.add(Dropout(0.4))\n",
    "    lstm_model.add(Dense(20, activation='relu'))\n",
    "    lstm_model.add(Dense(1, activation='linear'))\n",
    "    optimizer = optimizer.RMSprop(lr=params['lr'])\n",
    "    lstm_model.compile(loss='mean_squarred_error', optimizer=optimizer)\n",
    "    return lstm_model"
   ]
  },
  {
   "cell_type": "code",
   "execution_count": 39,
   "metadata": {},
   "outputs": [
    {
     "ename": "NameError",
     "evalue": "global name 'Sequential' is not defined",
     "output_type": "error",
     "traceback": [
      "\u001b[1;31m---------------------------------------------------------------------------\u001b[0m",
      "\u001b[1;31mNameError\u001b[0m                                 Traceback (most recent call last)",
      "\u001b[1;32m<ipython-input-39-22fddc7d6e1a>\u001b[0m in \u001b[0;36m<module>\u001b[1;34m()\u001b[0m\n\u001b[1;32m----> 1\u001b[1;33m \u001b[0mmodel\u001b[0m \u001b[1;33m=\u001b[0m \u001b[0mcreate_model\u001b[0m\u001b[1;33m(\u001b[0m\u001b[1;33m)\u001b[0m\u001b[1;33m\u001b[0m\u001b[0m\n\u001b[0m\u001b[0;32m      2\u001b[0m \u001b[1;33m\u001b[0m\u001b[0m\n\u001b[0;32m      3\u001b[0m \u001b[1;31m#csv_logger = CSVLogger()\u001b[0m\u001b[1;33m\u001b[0m\u001b[1;33m\u001b[0m\u001b[0m\n\u001b[0;32m      4\u001b[0m \u001b[1;33m\u001b[0m\u001b[0m\n\u001b[0;32m      5\u001b[0m history = model.fit(x_t, y_t, epochs=params['epochs'], verbose=2, batch_size=BATCH_SIZE,\n",
      "\u001b[1;32m<ipython-input-37-3d6b3d4ad79e>\u001b[0m in \u001b[0;36mcreate_model\u001b[1;34m()\u001b[0m\n\u001b[0;32m      1\u001b[0m \u001b[1;32mdef\u001b[0m \u001b[0mcreate_model\u001b[0m\u001b[1;33m(\u001b[0m\u001b[1;33m)\u001b[0m\u001b[1;33m:\u001b[0m\u001b[1;33m\u001b[0m\u001b[0m\n\u001b[1;32m----> 2\u001b[1;33m     \u001b[0mlstm_model\u001b[0m \u001b[1;33m=\u001b[0m \u001b[0mSequential\u001b[0m\u001b[1;33m(\u001b[0m\u001b[1;33m)\u001b[0m\u001b[1;33m\u001b[0m\u001b[0m\n\u001b[0m\u001b[0;32m      3\u001b[0m     \u001b[1;31m# (batch_size, time_steps, data_dim)\u001b[0m\u001b[1;33m\u001b[0m\u001b[1;33m\u001b[0m\u001b[0m\n\u001b[0;32m      4\u001b[0m     lstm_model.add(LSTM(100, batch_input_shape=(BATCH_SIZE, TIME_STEPS, x_t.shape[2]),\n\u001b[0;32m      5\u001b[0m                        \u001b[0mdropout\u001b[0m\u001b[1;33m=\u001b[0m\u001b[1;36m0.0\u001b[0m\u001b[1;33m,\u001b[0m \u001b[0mrecurrent_dropout\u001b[0m\u001b[1;33m=\u001b[0m\u001b[1;36m0.0\u001b[0m\u001b[1;33m,\u001b[0m \u001b[0mstateful\u001b[0m\u001b[1;33m=\u001b[0m\u001b[0mTrue\u001b[0m\u001b[1;33m,\u001b[0m \u001b[0mreturn_sequences\u001b[0m\u001b[1;33m=\u001b[0m\u001b[0mTrue\u001b[0m\u001b[1;33m,\u001b[0m\u001b[1;33m\u001b[0m\u001b[0m\n",
      "\u001b[1;31mNameError\u001b[0m: global name 'Sequential' is not defined"
     ]
    }
   ],
   "source": [
    "model = create_model()\n",
    "\n",
    "#csv_logger = CSVLogger()\n",
    "\n",
    "history = model.fit(x_t, y_t, epochs=params['epochs'], verbose=2, batch_size=BATCH_SIZE,\n",
    "                   shuffle=False, validation_data=(trim_dataset(x_val, BATCH_SIZE), \n",
    "                                                   trim_dataset(y_val, BATCH_SIZE))) #,callbacks=[es, mcp, csv_logger]"
   ]
  },
  {
   "cell_type": "code",
   "execution_count": null,
   "metadata": {},
   "outputs": [],
   "source": []
  },
  {
   "cell_type": "code",
   "execution_count": null,
   "metadata": {},
   "outputs": [],
   "source": []
  }
 ],
 "metadata": {
  "kernelspec": {
   "display_name": "Python 2",
   "language": "python",
   "name": "python2"
  },
  "language_info": {
   "codemirror_mode": {
    "name": "ipython",
    "version": 2
   },
   "file_extension": ".py",
   "mimetype": "text/x-python",
   "name": "python",
   "nbconvert_exporter": "python",
   "pygments_lexer": "ipython2",
   "version": "2.7.16"
  }
 },
 "nbformat": 4,
 "nbformat_minor": 2
}
