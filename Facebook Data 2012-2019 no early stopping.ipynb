{
 "cells": [
  {
   "cell_type": "markdown",
   "metadata": {},
   "source": [
    "# FACEBOOK DATA FROM YAHOO FINANCE"
   ]
  },
  {
   "cell_type": "code",
   "execution_count": 1,
   "metadata": {},
   "outputs": [],
   "source": [
    "import pandas as pd\n",
    "import numpy as np\n",
    "from matplotlib import pyplot as plt\n",
    "%matplotlib inline"
   ]
  },
  {
   "cell_type": "code",
   "execution_count": 2,
   "metadata": {},
   "outputs": [],
   "source": [
    "df = pd.read_csv(\"C:/Users/ASUS/Desktop/FMI/Licenta OB/Overall Code/packtpub-notebooks/packtpub-src/csv/FB2012-2019.csv\")"
   ]
  },
  {
   "cell_type": "code",
   "execution_count": 3,
   "metadata": {},
   "outputs": [
    {
     "data": {
      "text/html": [
       "<div>\n",
       "<style scoped>\n",
       "    .dataframe tbody tr th:only-of-type {\n",
       "        vertical-align: middle;\n",
       "    }\n",
       "\n",
       "    .dataframe tbody tr th {\n",
       "        vertical-align: top;\n",
       "    }\n",
       "\n",
       "    .dataframe thead th {\n",
       "        text-align: right;\n",
       "    }\n",
       "</style>\n",
       "<table border=\"1\" class=\"dataframe\">\n",
       "  <thead>\n",
       "    <tr style=\"text-align: right;\">\n",
       "      <th></th>\n",
       "      <th>Date</th>\n",
       "      <th>Open</th>\n",
       "      <th>High</th>\n",
       "      <th>Low</th>\n",
       "      <th>Close</th>\n",
       "      <th>Adj Close</th>\n",
       "      <th>Volume</th>\n",
       "    </tr>\n",
       "  </thead>\n",
       "  <tbody>\n",
       "    <tr>\n",
       "      <th>0</th>\n",
       "      <td>2012-05-29</td>\n",
       "      <td>31.480000</td>\n",
       "      <td>31.690001</td>\n",
       "      <td>28.650000</td>\n",
       "      <td>28.840000</td>\n",
       "      <td>28.840000</td>\n",
       "      <td>78063400</td>\n",
       "    </tr>\n",
       "    <tr>\n",
       "      <th>1</th>\n",
       "      <td>2012-05-30</td>\n",
       "      <td>28.700001</td>\n",
       "      <td>29.549999</td>\n",
       "      <td>27.860001</td>\n",
       "      <td>28.190001</td>\n",
       "      <td>28.190001</td>\n",
       "      <td>57267900</td>\n",
       "    </tr>\n",
       "    <tr>\n",
       "      <th>2</th>\n",
       "      <td>2012-05-31</td>\n",
       "      <td>28.549999</td>\n",
       "      <td>29.670000</td>\n",
       "      <td>26.830000</td>\n",
       "      <td>29.600000</td>\n",
       "      <td>29.600000</td>\n",
       "      <td>111639200</td>\n",
       "    </tr>\n",
       "    <tr>\n",
       "      <th>3</th>\n",
       "      <td>2012-06-01</td>\n",
       "      <td>28.889999</td>\n",
       "      <td>29.150000</td>\n",
       "      <td>27.389999</td>\n",
       "      <td>27.719999</td>\n",
       "      <td>27.719999</td>\n",
       "      <td>41855500</td>\n",
       "    </tr>\n",
       "    <tr>\n",
       "      <th>4</th>\n",
       "      <td>2012-06-04</td>\n",
       "      <td>27.200001</td>\n",
       "      <td>27.650000</td>\n",
       "      <td>26.440001</td>\n",
       "      <td>26.900000</td>\n",
       "      <td>26.900000</td>\n",
       "      <td>35230300</td>\n",
       "    </tr>\n",
       "  </tbody>\n",
       "</table>\n",
       "</div>"
      ],
      "text/plain": [
       "         Date       Open       High        Low      Close  Adj Close  \\\n",
       "0  2012-05-29  31.480000  31.690001  28.650000  28.840000  28.840000   \n",
       "1  2012-05-30  28.700001  29.549999  27.860001  28.190001  28.190001   \n",
       "2  2012-05-31  28.549999  29.670000  26.830000  29.600000  29.600000   \n",
       "3  2012-06-01  28.889999  29.150000  27.389999  27.719999  27.719999   \n",
       "4  2012-06-04  27.200001  27.650000  26.440001  26.900000  26.900000   \n",
       "\n",
       "      Volume  \n",
       "0   78063400  \n",
       "1   57267900  \n",
       "2  111639200  \n",
       "3   41855500  \n",
       "4   35230300  "
      ]
     },
     "execution_count": 3,
     "metadata": {},
     "output_type": "execute_result"
    }
   ],
   "source": [
    "df.head()"
   ]
  },
  {
   "cell_type": "code",
   "execution_count": 4,
   "metadata": {},
   "outputs": [
    {
     "data": {
      "text/html": [
       "<div>\n",
       "<style scoped>\n",
       "    .dataframe tbody tr th:only-of-type {\n",
       "        vertical-align: middle;\n",
       "    }\n",
       "\n",
       "    .dataframe tbody tr th {\n",
       "        vertical-align: top;\n",
       "    }\n",
       "\n",
       "    .dataframe thead th {\n",
       "        text-align: right;\n",
       "    }\n",
       "</style>\n",
       "<table border=\"1\" class=\"dataframe\">\n",
       "  <thead>\n",
       "    <tr style=\"text-align: right;\">\n",
       "      <th></th>\n",
       "      <th>Date</th>\n",
       "      <th>Open</th>\n",
       "      <th>High</th>\n",
       "      <th>Low</th>\n",
       "      <th>Close</th>\n",
       "      <th>Adj Close</th>\n",
       "      <th>Volume</th>\n",
       "    </tr>\n",
       "  </thead>\n",
       "  <tbody>\n",
       "    <tr>\n",
       "      <th>1755</th>\n",
       "      <td>2019-05-21</td>\n",
       "      <td>184.570007</td>\n",
       "      <td>185.699997</td>\n",
       "      <td>183.889999</td>\n",
       "      <td>184.820007</td>\n",
       "      <td>184.820007</td>\n",
       "      <td>7502800</td>\n",
       "    </tr>\n",
       "    <tr>\n",
       "      <th>1756</th>\n",
       "      <td>2019-05-22</td>\n",
       "      <td>184.729996</td>\n",
       "      <td>186.740005</td>\n",
       "      <td>183.610001</td>\n",
       "      <td>185.320007</td>\n",
       "      <td>185.320007</td>\n",
       "      <td>9213800</td>\n",
       "    </tr>\n",
       "    <tr>\n",
       "      <th>1757</th>\n",
       "      <td>2019-05-23</td>\n",
       "      <td>182.419998</td>\n",
       "      <td>183.899994</td>\n",
       "      <td>179.669998</td>\n",
       "      <td>180.869995</td>\n",
       "      <td>180.869995</td>\n",
       "      <td>12768800</td>\n",
       "    </tr>\n",
       "    <tr>\n",
       "      <th>1758</th>\n",
       "      <td>2019-05-24</td>\n",
       "      <td>182.330002</td>\n",
       "      <td>183.630005</td>\n",
       "      <td>180.830002</td>\n",
       "      <td>181.059998</td>\n",
       "      <td>181.059998</td>\n",
       "      <td>8807700</td>\n",
       "    </tr>\n",
       "    <tr>\n",
       "      <th>1759</th>\n",
       "      <td>2019-05-28</td>\n",
       "      <td>181.539993</td>\n",
       "      <td>184.710007</td>\n",
       "      <td>181.449997</td>\n",
       "      <td>184.309998</td>\n",
       "      <td>184.309998</td>\n",
       "      <td>14843300</td>\n",
       "    </tr>\n",
       "  </tbody>\n",
       "</table>\n",
       "</div>"
      ],
      "text/plain": [
       "            Date        Open        High         Low       Close   Adj Close  \\\n",
       "1755  2019-05-21  184.570007  185.699997  183.889999  184.820007  184.820007   \n",
       "1756  2019-05-22  184.729996  186.740005  183.610001  185.320007  185.320007   \n",
       "1757  2019-05-23  182.419998  183.899994  179.669998  180.869995  180.869995   \n",
       "1758  2019-05-24  182.330002  183.630005  180.830002  181.059998  181.059998   \n",
       "1759  2019-05-28  181.539993  184.710007  181.449997  184.309998  184.309998   \n",
       "\n",
       "        Volume  \n",
       "1755   7502800  \n",
       "1756   9213800  \n",
       "1757  12768800  \n",
       "1758   8807700  \n",
       "1759  14843300  "
      ]
     },
     "execution_count": 4,
     "metadata": {},
     "output_type": "execute_result"
    }
   ],
   "source": [
    "df.tail()"
   ]
  },
  {
   "cell_type": "code",
   "execution_count": 5,
   "metadata": {},
   "outputs": [
    {
     "data": {
      "image/png": "[encoded data removed]",
      "text/plain": [
       "<Figure size 432x288 with 1 Axes>"
      ]
     },
     "metadata": {
      "needs_background": "light"
     },
     "output_type": "display_data"
    }
   ],
   "source": [
    "plt.figure()\n",
    "plt.title(\"FB stock price history\")\n",
    "plt.plot(df['Open'])\n",
    "#plt.plot(df[\"Close\"])\n",
    "#plt.plot(df[\"High\"])\n",
    "#plt.plot(df[\"Low\"])\n",
    "plt.ylabel('Price (USD)')\n",
    "plt.xlabel('Days')\n",
    "plt.legend(['Open', 'Close', 'High', 'Low'], loc='upper left')\n",
    "plt.show()"
   ]
  },
  {
   "cell_type": "markdown",
   "metadata": {},
   "source": [
    "# Computing moving average, last 140 days"
   ]
  },
  {
   "cell_type": "code",
   "execution_count": 65,
   "metadata": {},
   "outputs": [
    {
     "data": {
      "text/plain": [
       "[<matplotlib.lines.Line2D at 0x20b0c0354e0>]"
      ]
     },
     "execution_count": 65,
     "metadata": {},
     "output_type": "execute_result"
    },
    {
     "data": {
      "image/png": "[encoded data removed]",
      "text/plain": [
       "<Figure size 432x288 with 1 Axes>"
      ]
     },
     "metadata": {
      "needs_background": "light"
     },
     "output_type": "display_data"
    }
   ],
   "source": [
    "real_price_last200 = df['Close'][-200:]\n",
    "plt.plot(real_price_last200[-200:])"
   ]
  },
  {
   "cell_type": "code",
   "execution_count": 53,
   "metadata": {},
   "outputs": [],
   "source": [
    "def computes_moving_average(input_vector, window_length):\n",
    "    start = 0\n",
    "    moving_average = []\n",
    "    for i in range(len(input_vector)-window_length + 1):\n",
    "        current_window = input_vector[i:i+window_length-1]\n",
    "        average = sum(current_window)/window_length\n",
    "        moving_average.append(average)\n",
    "    return moving_average"
   ]
  },
  {
   "cell_type": "code",
   "execution_count": 54,
   "metadata": {},
   "outputs": [],
   "source": [
    "moving_average = computes_moving_average(real_price_last200, 60)"
   ]
  },
  {
   "cell_type": "code",
   "execution_count": 55,
   "metadata": {},
   "outputs": [
    {
     "data": {
      "text/plain": [
       "[<matplotlib.lines.Line2D at 0x20b0ac97d30>]"
      ]
     },
     "execution_count": 55,
     "metadata": {},
     "output_type": "execute_result"
    },
    {
     "data": {
      "image/png": "[encoded data removed]",
      "text/plain": [
       "<Figure size 432x288 with 1 Axes>"
      ]
     },
     "metadata": {
      "needs_background": "light"
     },
     "output_type": "display_data"
    }
   ],
   "source": [
    "plt.plot(moving_average)"
   ]
  },
  {
   "cell_type": "markdown",
   "metadata": {},
   "source": [
    "# _________________________________"
   ]
  },
  {
   "cell_type": "code",
   "execution_count": 30,
   "metadata": {},
   "outputs": [
    {
     "data": {
      "image/png": "[encoded data removed]",
      "text/plain": [
       "<Figure size 432x288 with 1 Axes>"
      ]
     },
     "metadata": {
      "needs_background": "light"
     },
     "output_type": "display_data"
    }
   ],
   "source": [
    "plt.figure()\n",
    "plt.plot(df['Volume'])\n",
    "plt.title('FB stock volume history')\n",
    "plt.ylabel('Volume')\n",
    "plt.xlabel('Days')\n",
    "plt.show()"
   ]
  },
  {
   "cell_type": "code",
   "execution_count": 31,
   "metadata": {},
   "outputs": [
    {
     "name": "stdout",
     "output_type": "stream",
     "text": [
      "Checking if any null values are present\n",
      " Date         0\n",
      "Open         0\n",
      "High         0\n",
      "Low          0\n",
      "Close        0\n",
      "Adj Close    0\n",
      "Volume       0\n",
      "dtype: int64\n"
     ]
    }
   ],
   "source": [
    "print('Checking if any null values are present\\n', df.isna().sum())"
   ]
  },
  {
   "cell_type": "markdown",
   "metadata": {},
   "source": [
    "### Normalizing the data\n",
    "* Split the data into train, test\n",
    "* Normalize\n",
    "* Covert the DataFrame to ndarray"
   ]
  },
  {
   "cell_type": "code",
   "execution_count": 32,
   "metadata": {},
   "outputs": [],
   "source": [
    "#! pip install keras"
   ]
  },
  {
   "cell_type": "code",
   "execution_count": 33,
   "metadata": {},
   "outputs": [],
   "source": [
    "#! pip install np_utils"
   ]
  },
  {
   "cell_type": "code",
   "execution_count": 34,
   "metadata": {},
   "outputs": [],
   "source": [
    "#! pip install tensorflow"
   ]
  },
  {
   "cell_type": "code",
   "execution_count": 35,
   "metadata": {},
   "outputs": [],
   "source": [
    "#! pip install numpy --upgrade --user"
   ]
  },
  {
   "cell_type": "code",
   "execution_count": 36,
   "metadata": {},
   "outputs": [
    {
     "name": "stdout",
     "output_type": "stream",
     "text": [
      "Checking GPU available []\n"
     ]
    }
   ],
   "source": [
    "from tqdm._tqdm_notebook import tqdm_notebook\n",
    "from sklearn.preprocessing import MinMaxScaler\n",
    "from sklearn.model_selection import train_test_split\n",
    "from sklearn.metrics import mean_squared_error\n",
    "from keras.models import Sequential, load_model\n",
    "from keras.layers import Dense, Dropout\n",
    "from keras.layers import LSTM\n",
    "from keras import optimizers\n",
    "from keras import backend as K\n",
    "from keras.callbacks import EarlyStopping\n",
    "\n",
    "print('Checking GPU available', K.tensorflow_backend._get_available_gpus())\n"
   ]
  },
  {
   "cell_type": "code",
   "execution_count": 37,
   "metadata": {},
   "outputs": [],
   "source": [
    "from keras import losses"
   ]
  },
  {
   "cell_type": "code",
   "execution_count": 38,
   "metadata": {},
   "outputs": [],
   "source": [
    "TIME_STEPS = 60\n",
    "BATCH_SIZE = 20"
   ]
  },
  {
   "cell_type": "code",
   "execution_count": 39,
   "metadata": {},
   "outputs": [],
   "source": [
    "params = {\n",
    "    \"batch_size\": 20,  # 20<16<10, 25 was a bust\n",
    "    \"epochs\": 300,\n",
    "    \"lr\": 0.00010000,\n",
    "    \"time_steps\": 60\n",
    "}"
   ]
  },
  {
   "cell_type": "code",
   "execution_count": 40,
   "metadata": {},
   "outputs": [
    {
     "name": "stdout",
     "output_type": "stream",
     "text": [
      "Train and test set 1408 352\n"
     ]
    }
   ],
   "source": [
    "\n",
    "train_cols = ['Open', 'High', 'Low', 'Close', 'Volume']\n",
    "df_train, df_test = train_test_split(df, train_size=0.8, test_size=0.2, shuffle=False)\n",
    "print('Train and test set', len(df_train), len(df_test))\n",
    "\n",
    "#scale the feature MinMax, build array\n",
    "x = df_train.loc[:, train_cols].values\n",
    "min_max_scaler = MinMaxScaler()\n",
    "x_train = min_max_scaler.fit_transform(x)\n",
    "x_test = min_max_scaler.transform(df_test.loc[:, train_cols])"
   ]
  },
  {
   "cell_type": "code",
   "execution_count": 41,
   "metadata": {},
   "outputs": [],
   "source": [
    "def build_timeseries(mat, y_col_index):\n",
    "    # y_col_index is the index of column that would act as output column\n",
    "    # total nb of time-series samples would be len(mat) - TIME_STEPS\n",
    "    dim_0 = mat.shape[0] - TIME_STEPS\n",
    "    dim_1 = mat.shape[1]\n",
    "    x = np.zeros((dim_0, TIME_STEPS, dim_1))\n",
    "    y = np.zeros((dim_0,))\n",
    "    \n",
    "    for i in tqdm_notebook(range(dim_0)):\n",
    "        x[i] = mat[i:TIME_STEPS+i]\n",
    "        y[i] = mat[TIME_STEPS+i, y_col_index]\n",
    "    \n",
    "    print('length of time-series i/o', x.shape, y.shape)\n",
    "    return x, y"
   ]
  },
  {
   "cell_type": "code",
   "execution_count": 42,
   "metadata": {},
   "outputs": [],
   "source": [
    "def trim_dataset(mat, batch_size):\n",
    "    \"\"\"\n",
    "    trims dataset to a size that is divisible by BATCH_SIZE\n",
    "    \"\"\"\n",
    "    no_of_rows_drop = mat.shape[0] % batch_size\n",
    "    if no_of_rows_drop > 0:\n",
    "        return mat[:-no_of_rows_drop]\n",
    "    else:\n",
    "        return mat"
   ]
  },
  {
   "cell_type": "code",
   "execution_count": 47,
   "metadata": {},
   "outputs": [
    {
     "data": {
      "application/vnd.jupyter.widget-view+json": {
       "model_id": "3d398339b35b4d3ba0e0e2d625c8dae5",
       "version_major": 2,
       "version_minor": 0
      },
      "text/plain": [
       "HBox(children=(IntProgress(value=0, max=1348), HTML(value='')))"
      ]
     },
     "metadata": {},
     "output_type": "display_data"
    },
    {
     "name": "stdout",
     "output_type": "stream",
     "text": [
      "\n",
      "length of time-series i/o (1348, 60, 5) (1348,)\n"
     ]
    },
    {
     "data": {
      "application/vnd.jupyter.widget-view+json": {
       "model_id": "ed143ff3650b410ca41b1ea6e4fddf83",
       "version_major": 2,
       "version_minor": 0
      },
      "text/plain": [
       "HBox(children=(IntProgress(value=0, max=292), HTML(value='')))"
      ]
     },
     "metadata": {},
     "output_type": "display_data"
    },
    {
     "name": "stdout",
     "output_type": "stream",
     "text": [
      "\n",
      "length of time-series i/o (292, 60, 5) (292,)\n"
     ]
    }
   ],
   "source": [
    "x_t, y_t = build_timeseries(x_train, 3)\n",
    "x_t = trim_dataset(x_t, BATCH_SIZE)\n",
    "y_t = trim_dataset(y_t, BATCH_SIZE)\n",
    "\n",
    "x_temp, y_temp = build_timeseries(x_test, 3)\n",
    "x_val, x_test_t = np.split(trim_dataset(x_temp, BATCH_SIZE), 2)\n",
    "y_val, y_test_t = np.split(trim_dataset(y_temp, BATCH_SIZE), 2)"
   ]
  },
  {
   "cell_type": "code",
   "execution_count": 20,
   "metadata": {},
   "outputs": [],
   "source": [
    "def create_model():\n",
    "    lstm_model = Sequential()\n",
    "    # (batch_size, time_steps, data_dim)\n",
    "    lstm_model.add(LSTM(100, batch_input_shape=(BATCH_SIZE, TIME_STEPS, x_t.shape[2]),\n",
    "                       dropout=0.0, recurrent_dropout=0.0, stateful=True, return_sequences=True,\n",
    "                       kernel_initializer='random_uniform'))\n",
    "    lstm_model.add(Dropout(0.4))\n",
    "    lstm_model.add(LSTM(60, dropout=0.0))\n",
    "    lstm_model.add(Dropout(0.4))\n",
    "    lstm_model.add(Dense(20, activation='relu'))\n",
    "    lstm_model.add(Dense(1, activation='linear'))\n",
    "    optimizer = optimizers.RMSprop(lr=params['lr'])\n",
    "    lstm_model.compile(loss='mean_squared_error', optimizer=optimizer)\n",
    "    # lstm_model.compile(loss=losses.mean_squarred_error, optimizer=optimizer)\n",
    "    return lstm_model"
   ]
  },
  {
   "cell_type": "code",
   "execution_count": 21,
   "metadata": {},
   "outputs": [],
   "source": [
    "\"\"\"\n",
    "es = EarlyStopping(monitor='val_loss', mode='min', verbose=1,\n",
    "                   patience=40, min_delta=0.0001)\n",
    "\"\"\""
   ]
  },
  {
   "cell_type": "code",
   "execution_count": 22,
   "metadata": {},
   "outputs": [
    {
     "name": "stdout",
     "output_type": "stream",
     "text": [
      "WARNING:tensorflow:From C:\\Users\\ASUS\\Anaconda3\\envs\\tradebot\\lib\\site-packages\\tensorflow\\python\\framework\\op_def_library.py:263: colocate_with (from tensorflow.python.framework.ops) is deprecated and will be removed in a future version.\n",
      "Instructions for updating:\n",
      "Colocations handled automatically by placer.\n",
      "WARNING:tensorflow:From C:\\Users\\ASUS\\Anaconda3\\envs\\tradebot\\lib\\site-packages\\keras\\backend\\tensorflow_backend.py:3445: calling dropout (from tensorflow.python.ops.nn_ops) with keep_prob is deprecated and will be removed in a future version.\n",
      "Instructions for updating:\n",
      "Please use `rate` instead of `keep_prob`. Rate should be set to `rate = 1 - keep_prob`.\n",
      "WARNING:tensorflow:From C:\\Users\\ASUS\\Anaconda3\\envs\\tradebot\\lib\\site-packages\\tensorflow\\python\\ops\\math_ops.py:3066: to_int32 (from tensorflow.python.ops.math_ops) is deprecated and will be removed in a future version.\n",
      "Instructions for updating:\n",
      "Use tf.cast instead.\n",
      "Train on 1340 samples, validate on 140 samples\n",
      "Epoch 1/300\n",
      " - 9s - loss: 0.0098 - val_loss: 0.0080\n",
      "Epoch 2/300\n",
      " - 6s - loss: 0.0078 - val_loss: 0.0131\n",
      "Epoch 3/300\n",
      " - 5s - loss: 0.0067 - val_loss: 0.0063\n",
      "Epoch 4/300\n",
      " - 6s - loss: 0.0056 - val_loss: 0.0103\n",
      "Epoch 5/300\n",
      " - 6s - loss: 0.0051 - val_loss: 0.0067\n",
      "Epoch 6/300\n",
      " - 6s - loss: 0.0041 - val_loss: 0.0039\n",
      "Epoch 7/300\n",
      " - 6s - loss: 0.0044 - val_loss: 0.0069\n",
      "Epoch 8/300\n",
      " - 6s - loss: 0.0041 - val_loss: 0.0084\n",
      "Epoch 9/300\n",
      " - 6s - loss: 0.0042 - val_loss: 0.0037\n",
      "Epoch 10/300\n",
      " - 6s - loss: 0.0040 - val_loss: 0.0037\n",
      "Epoch 11/300\n",
      " - 6s - loss: 0.0038 - val_loss: 0.0068\n",
      "Epoch 12/300\n",
      " - 6s - loss: 0.0038 - val_loss: 0.0064\n",
      "Epoch 13/300\n",
      " - 5s - loss: 0.0037 - val_loss: 0.0087\n",
      "Epoch 14/300\n",
      " - 5s - loss: 0.0034 - val_loss: 0.0090\n",
      "Epoch 15/300\n",
      " - 5s - loss: 0.0034 - val_loss: 0.0083\n",
      "Epoch 16/300\n",
      " - 5s - loss: 0.0034 - val_loss: 0.0121\n",
      "Epoch 17/300\n",
      " - 5s - loss: 0.0033 - val_loss: 0.0072\n",
      "Epoch 18/300\n",
      " - 5s - loss: 0.0029 - val_loss: 0.0129\n",
      "Epoch 19/300\n",
      " - 5s - loss: 0.0031 - val_loss: 0.0064\n",
      "Epoch 20/300\n",
      " - 5s - loss: 0.0033 - val_loss: 0.0074\n",
      "Epoch 21/300\n",
      " - 5s - loss: 0.0028 - val_loss: 0.0075\n",
      "Epoch 22/300\n",
      " - 5s - loss: 0.0030 - val_loss: 0.0034\n",
      "Epoch 23/300\n",
      " - 5s - loss: 0.0029 - val_loss: 0.0099\n",
      "Epoch 24/300\n",
      " - 5s - loss: 0.0029 - val_loss: 0.0209\n",
      "Epoch 25/300\n",
      " - 5s - loss: 0.0027 - val_loss: 0.0080\n",
      "Epoch 26/300\n",
      " - 5s - loss: 0.0028 - val_loss: 0.0060\n",
      "Epoch 27/300\n",
      " - 5s - loss: 0.0028 - val_loss: 0.0116\n",
      "Epoch 28/300\n",
      " - 5s - loss: 0.0028 - val_loss: 0.0070\n",
      "Epoch 29/300\n",
      " - 5s - loss: 0.0029 - val_loss: 0.0093\n",
      "Epoch 30/300\n",
      " - 5s - loss: 0.0027 - val_loss: 0.0035\n",
      "Epoch 31/300\n",
      " - 5s - loss: 0.0025 - val_loss: 0.0071\n",
      "Epoch 32/300\n",
      " - 5s - loss: 0.0025 - val_loss: 0.0119\n",
      "Epoch 33/300\n",
      " - 5s - loss: 0.0026 - val_loss: 0.0097\n",
      "Epoch 34/300\n",
      " - 5s - loss: 0.0023 - val_loss: 0.0125\n",
      "Epoch 35/300\n",
      " - 5s - loss: 0.0025 - val_loss: 0.0060\n",
      "Epoch 36/300\n",
      " - 5s - loss: 0.0024 - val_loss: 0.0086\n",
      "Epoch 37/300\n",
      " - 5s - loss: 0.0026 - val_loss: 0.0126\n",
      "Epoch 38/300\n",
      " - 5s - loss: 0.0024 - val_loss: 0.0091\n",
      "Epoch 39/300\n",
      " - 5s - loss: 0.0020 - val_loss: 0.0069\n",
      "Epoch 40/300\n",
      " - 5s - loss: 0.0024 - val_loss: 0.0064\n",
      "Epoch 41/300\n",
      " - 5s - loss: 0.0021 - val_loss: 0.0049\n",
      "Epoch 42/300\n",
      " - 5s - loss: 0.0021 - val_loss: 0.0035\n",
      "Epoch 43/300\n",
      " - 5s - loss: 0.0020 - val_loss: 0.0051\n",
      "Epoch 44/300\n",
      " - 5s - loss: 0.0022 - val_loss: 0.0075\n",
      "Epoch 45/300\n",
      " - 5s - loss: 0.0022 - val_loss: 0.0061\n",
      "Epoch 46/300\n",
      " - 5s - loss: 0.0021 - val_loss: 0.0055\n",
      "Epoch 47/300\n",
      " - 5s - loss: 0.0020 - val_loss: 0.0106\n",
      "Epoch 48/300\n",
      " - 5s - loss: 0.0021 - val_loss: 0.0118\n",
      "Epoch 49/300\n",
      " - 5s - loss: 0.0020 - val_loss: 0.0047\n",
      "Epoch 50/300\n",
      " - 5s - loss: 0.0021 - val_loss: 0.0058\n",
      "Epoch 51/300\n",
      " - 5s - loss: 0.0020 - val_loss: 0.0055\n",
      "Epoch 52/300\n",
      " - 5s - loss: 0.0019 - val_loss: 0.0100\n",
      "Epoch 53/300\n",
      " - 5s - loss: 0.0021 - val_loss: 0.0039\n",
      "Epoch 54/300\n",
      " - 5s - loss: 0.0022 - val_loss: 0.0120\n",
      "Epoch 55/300\n",
      " - 5s - loss: 0.0019 - val_loss: 0.0075\n",
      "Epoch 56/300\n",
      " - 5s - loss: 0.0019 - val_loss: 0.0062\n",
      "Epoch 57/300\n",
      " - 5s - loss: 0.0019 - val_loss: 0.0126\n",
      "Epoch 58/300\n",
      " - 5s - loss: 0.0019 - val_loss: 0.0068\n",
      "Epoch 59/300\n",
      " - 5s - loss: 0.0021 - val_loss: 0.0075\n",
      "Epoch 60/300\n",
      " - 5s - loss: 0.0017 - val_loss: 0.0120\n",
      "Epoch 61/300\n",
      " - 5s - loss: 0.0018 - val_loss: 0.0077\n",
      "Epoch 62/300\n",
      " - 5s - loss: 0.0020 - val_loss: 0.0064\n",
      "Epoch 63/300\n",
      " - 5s - loss: 0.0018 - val_loss: 0.0085\n",
      "Epoch 64/300\n",
      " - 5s - loss: 0.0017 - val_loss: 0.0038\n",
      "Epoch 65/300\n",
      " - 5s - loss: 0.0016 - val_loss: 0.0069\n",
      "Epoch 66/300\n",
      " - 5s - loss: 0.0019 - val_loss: 0.0058\n",
      "Epoch 67/300\n",
      " - 5s - loss: 0.0018 - val_loss: 0.0068\n",
      "Epoch 68/300\n",
      " - 5s - loss: 0.0019 - val_loss: 0.0052\n",
      "Epoch 69/300\n",
      " - 5s - loss: 0.0018 - val_loss: 0.0072\n",
      "Epoch 70/300\n",
      " - 5s - loss: 0.0016 - val_loss: 0.0118\n",
      "Epoch 71/300\n",
      " - 5s - loss: 0.0017 - val_loss: 0.0061\n",
      "Epoch 72/300\n",
      " - 5s - loss: 0.0017 - val_loss: 0.0075\n",
      "Epoch 73/300\n",
      " - 5s - loss: 0.0015 - val_loss: 0.0054\n",
      "Epoch 74/300\n",
      " - 5s - loss: 0.0016 - val_loss: 0.0064\n",
      "Epoch 75/300\n",
      " - 5s - loss: 0.0016 - val_loss: 0.0093\n",
      "Epoch 76/300\n",
      " - 5s - loss: 0.0015 - val_loss: 0.0081\n",
      "Epoch 77/300\n",
      " - 5s - loss: 0.0016 - val_loss: 0.0076\n",
      "Epoch 78/300\n",
      " - 5s - loss: 0.0017 - val_loss: 0.0077\n",
      "Epoch 79/300\n",
      " - 5s - loss: 0.0016 - val_loss: 0.0090\n",
      "Epoch 80/300\n",
      " - 5s - loss: 0.0016 - val_loss: 0.0048\n",
      "Epoch 81/300\n",
      " - 5s - loss: 0.0017 - val_loss: 0.0047\n",
      "Epoch 82/300\n",
      " - 5s - loss: 0.0017 - val_loss: 0.0037\n",
      "Epoch 83/300\n",
      " - 5s - loss: 0.0014 - val_loss: 0.0042\n",
      "Epoch 84/300\n",
      " - 5s - loss: 0.0016 - val_loss: 0.0087\n",
      "Epoch 85/300\n",
      " - 5s - loss: 0.0015 - val_loss: 0.0102\n",
      "Epoch 86/300\n",
      " - 5s - loss: 0.0016 - val_loss: 0.0069\n",
      "Epoch 87/300\n",
      " - 5s - loss: 0.0016 - val_loss: 0.0113\n",
      "Epoch 88/300\n",
      " - 5s - loss: 0.0015 - val_loss: 0.0071\n",
      "Epoch 89/300\n",
      " - 5s - loss: 0.0016 - val_loss: 0.0054\n",
      "Epoch 90/300\n",
      " - 5s - loss: 0.0015 - val_loss: 0.0031\n",
      "Epoch 91/300\n",
      " - 5s - loss: 0.0016 - val_loss: 0.0103\n",
      "Epoch 92/300\n",
      " - 5s - loss: 0.0015 - val_loss: 0.0063\n",
      "Epoch 93/300\n",
      " - 5s - loss: 0.0016 - val_loss: 0.0037\n",
      "Epoch 94/300\n",
      " - 5s - loss: 0.0014 - val_loss: 0.0087\n",
      "Epoch 95/300\n",
      " - 5s - loss: 0.0015 - val_loss: 0.0104\n",
      "Epoch 96/300\n",
      " - 5s - loss: 0.0013 - val_loss: 0.0045\n",
      "Epoch 97/300\n",
      " - 5s - loss: 0.0015 - val_loss: 0.0046\n",
      "Epoch 98/300\n",
      " - 5s - loss: 0.0015 - val_loss: 0.0064\n",
      "Epoch 99/300\n",
      " - 5s - loss: 0.0013 - val_loss: 0.0043\n",
      "Epoch 100/300\n",
      " - 5s - loss: 0.0015 - val_loss: 0.0078\n",
      "Epoch 101/300\n",
      " - 5s - loss: 0.0015 - val_loss: 0.0106\n",
      "Epoch 102/300\n",
      " - 5s - loss: 0.0014 - val_loss: 0.0041\n",
      "Epoch 103/300\n",
      " - 5s - loss: 0.0015 - val_loss: 0.0055\n",
      "Epoch 104/300\n",
      " - 5s - loss: 0.0014 - val_loss: 0.0040\n",
      "Epoch 105/300\n",
      " - 5s - loss: 0.0015 - val_loss: 0.0114\n",
      "Epoch 106/300\n",
      " - 5s - loss: 0.0013 - val_loss: 0.0062\n",
      "Epoch 107/300\n",
      " - 5s - loss: 0.0015 - val_loss: 0.0099\n",
      "Epoch 108/300\n",
      " - 5s - loss: 0.0014 - val_loss: 0.0040\n",
      "Epoch 109/300\n",
      " - 5s - loss: 0.0014 - val_loss: 0.0082\n",
      "Epoch 110/300\n",
      " - 5s - loss: 0.0015 - val_loss: 0.0047\n",
      "Epoch 111/300\n",
      " - 5s - loss: 0.0015 - val_loss: 0.0073\n",
      "Epoch 112/300\n",
      " - 5s - loss: 0.0015 - val_loss: 0.0056\n",
      "Epoch 113/300\n",
      " - 5s - loss: 0.0015 - val_loss: 0.0049\n",
      "Epoch 114/300\n",
      " - 5s - loss: 0.0014 - val_loss: 0.0074\n",
      "Epoch 115/300\n",
      " - 5s - loss: 0.0014 - val_loss: 0.0029\n",
      "Epoch 116/300\n",
      " - 5s - loss: 0.0012 - val_loss: 0.0053\n",
      "Epoch 117/300\n",
      " - 5s - loss: 0.0012 - val_loss: 0.0037\n",
      "Epoch 118/300\n",
      " - 5s - loss: 0.0014 - val_loss: 0.0044\n",
      "Epoch 119/300\n",
      " - 5s - loss: 0.0014 - val_loss: 0.0087\n",
      "Epoch 120/300\n",
      " - 5s - loss: 0.0012 - val_loss: 0.0064\n",
      "Epoch 121/300\n",
      " - 5s - loss: 0.0013 - val_loss: 0.0072\n",
      "Epoch 122/300\n",
      " - 5s - loss: 0.0014 - val_loss: 0.0074\n",
      "Epoch 123/300\n",
      " - 5s - loss: 0.0014 - val_loss: 0.0047\n",
      "Epoch 124/300\n",
      " - 5s - loss: 0.0013 - val_loss: 0.0030\n",
      "Epoch 125/300\n",
      " - 5s - loss: 0.0013 - val_loss: 0.0064\n",
      "Epoch 126/300\n",
      " - 5s - loss: 0.0012 - val_loss: 0.0039\n",
      "Epoch 127/300\n",
      " - 5s - loss: 0.0013 - val_loss: 0.0065\n",
      "Epoch 128/300\n",
      " - 5s - loss: 0.0012 - val_loss: 0.0065\n",
      "Epoch 129/300\n",
      " - 5s - loss: 0.0012 - val_loss: 0.0047\n",
      "Epoch 130/300\n",
      " - 5s - loss: 0.0014 - val_loss: 0.0069\n",
      "Epoch 131/300\n",
      " - 5s - loss: 0.0013 - val_loss: 0.0041\n",
      "Epoch 132/300\n",
      " - 5s - loss: 0.0013 - val_loss: 0.0063\n",
      "Epoch 133/300\n",
      " - 5s - loss: 0.0011 - val_loss: 0.0028\n",
      "Epoch 134/300\n",
      " - 5s - loss: 0.0012 - val_loss: 0.0054\n",
      "Epoch 135/300\n",
      " - 5s - loss: 0.0012 - val_loss: 0.0065\n",
      "Epoch 136/300\n",
      " - 5s - loss: 0.0013 - val_loss: 0.0078\n"
     ]
    },
    {
     "name": "stdout",
     "output_type": "stream",
     "text": [
      "Epoch 137/300\n",
      " - 5s - loss: 0.0013 - val_loss: 0.0025\n",
      "Epoch 138/300\n",
      " - 5s - loss: 0.0014 - val_loss: 0.0040\n",
      "Epoch 139/300\n",
      " - 5s - loss: 0.0013 - val_loss: 0.0060\n",
      "Epoch 140/300\n",
      " - 5s - loss: 0.0013 - val_loss: 0.0032\n",
      "Epoch 141/300\n",
      " - 5s - loss: 0.0012 - val_loss: 0.0041\n",
      "Epoch 142/300\n",
      " - 5s - loss: 0.0013 - val_loss: 0.0048\n",
      "Epoch 143/300\n",
      " - 5s - loss: 0.0012 - val_loss: 0.0060\n",
      "Epoch 144/300\n",
      " - 5s - loss: 0.0013 - val_loss: 0.0025\n",
      "Epoch 145/300\n",
      " - 5s - loss: 0.0013 - val_loss: 0.0051\n",
      "Epoch 146/300\n",
      " - 5s - loss: 0.0012 - val_loss: 0.0038\n",
      "Epoch 147/300\n",
      " - 5s - loss: 0.0012 - val_loss: 0.0043\n",
      "Epoch 148/300\n",
      " - 5s - loss: 0.0012 - val_loss: 0.0042\n",
      "Epoch 149/300\n",
      " - 5s - loss: 0.0011 - val_loss: 0.0042\n",
      "Epoch 150/300\n",
      " - 5s - loss: 0.0012 - val_loss: 0.0032\n",
      "Epoch 151/300\n",
      " - 5s - loss: 0.0013 - val_loss: 0.0058\n",
      "Epoch 152/300\n",
      " - 5s - loss: 0.0012 - val_loss: 0.0048\n",
      "Epoch 153/300\n",
      " - 5s - loss: 0.0012 - val_loss: 0.0073\n",
      "Epoch 154/300\n",
      " - 5s - loss: 0.0012 - val_loss: 0.0050\n",
      "Epoch 155/300\n",
      " - 5s - loss: 0.0011 - val_loss: 0.0040\n",
      "Epoch 156/300\n",
      " - 5s - loss: 0.0012 - val_loss: 0.0032\n",
      "Epoch 157/300\n",
      " - 5s - loss: 0.0011 - val_loss: 0.0053\n",
      "Epoch 158/300\n",
      " - 5s - loss: 0.0011 - val_loss: 0.0042\n",
      "Epoch 159/300\n",
      " - 5s - loss: 0.0012 - val_loss: 0.0024\n",
      "Epoch 160/300\n",
      " - 5s - loss: 0.0013 - val_loss: 0.0047\n",
      "Epoch 161/300\n",
      " - 5s - loss: 0.0010 - val_loss: 0.0042\n",
      "Epoch 162/300\n",
      " - 5s - loss: 0.0012 - val_loss: 0.0038\n",
      "Epoch 163/300\n",
      " - 5s - loss: 0.0012 - val_loss: 0.0041\n",
      "Epoch 164/300\n",
      " - 5s - loss: 0.0011 - val_loss: 0.0045\n",
      "Epoch 165/300\n",
      " - 5s - loss: 0.0012 - val_loss: 0.0045\n",
      "Epoch 166/300\n",
      " - 5s - loss: 0.0012 - val_loss: 0.0043\n",
      "Epoch 167/300\n",
      " - 5s - loss: 0.0012 - val_loss: 0.0045\n",
      "Epoch 168/300\n",
      " - 5s - loss: 0.0011 - val_loss: 0.0033\n",
      "Epoch 169/300\n",
      " - 5s - loss: 0.0012 - val_loss: 0.0040\n",
      "Epoch 170/300\n",
      " - 5s - loss: 0.0012 - val_loss: 0.0045\n",
      "Epoch 171/300\n",
      " - 5s - loss: 0.0011 - val_loss: 0.0060\n",
      "Epoch 172/300\n",
      " - 5s - loss: 0.0012 - val_loss: 0.0034\n",
      "Epoch 173/300\n",
      " - 5s - loss: 0.0012 - val_loss: 0.0048\n",
      "Epoch 174/300\n",
      " - 5s - loss: 0.0012 - val_loss: 0.0061\n",
      "Epoch 175/300\n",
      " - 5s - loss: 0.0011 - val_loss: 0.0050\n",
      "Epoch 176/300\n",
      " - 5s - loss: 0.0011 - val_loss: 0.0069\n",
      "Epoch 177/300\n",
      " - 5s - loss: 0.0011 - val_loss: 0.0038\n",
      "Epoch 178/300\n",
      " - 5s - loss: 0.0012 - val_loss: 0.0049\n",
      "Epoch 179/300\n",
      " - 5s - loss: 0.0010 - val_loss: 0.0033\n",
      "Epoch 180/300\n",
      " - 5s - loss: 0.0011 - val_loss: 0.0037\n",
      "Epoch 181/300\n",
      " - 5s - loss: 0.0012 - val_loss: 0.0059\n",
      "Epoch 182/300\n",
      " - 5s - loss: 9.8190e-04 - val_loss: 0.0038\n",
      "Epoch 183/300\n",
      " - 5s - loss: 0.0011 - val_loss: 0.0035\n",
      "Epoch 184/300\n",
      " - 5s - loss: 0.0011 - val_loss: 0.0034\n",
      "Epoch 185/300\n",
      " - 5s - loss: 0.0012 - val_loss: 0.0054\n",
      "Epoch 186/300\n",
      " - 5s - loss: 0.0011 - val_loss: 0.0024\n",
      "Epoch 187/300\n",
      " - 5s - loss: 9.6016e-04 - val_loss: 0.0039\n",
      "Epoch 188/300\n",
      " - 5s - loss: 0.0011 - val_loss: 0.0046\n",
      "Epoch 189/300\n",
      " - 5s - loss: 0.0012 - val_loss: 0.0032\n",
      "Epoch 190/300\n",
      " - 5s - loss: 0.0011 - val_loss: 0.0039\n",
      "Epoch 191/300\n",
      " - 5s - loss: 0.0011 - val_loss: 0.0044\n",
      "Epoch 192/300\n",
      " - 5s - loss: 0.0012 - val_loss: 0.0029\n",
      "Epoch 193/300\n",
      " - 5s - loss: 0.0010 - val_loss: 0.0051\n",
      "Epoch 194/300\n",
      " - 5s - loss: 0.0010 - val_loss: 0.0067\n",
      "Epoch 195/300\n",
      " - 5s - loss: 0.0012 - val_loss: 0.0069\n",
      "Epoch 196/300\n",
      " - 5s - loss: 0.0011 - val_loss: 0.0064\n",
      "Epoch 197/300\n",
      " - 5s - loss: 0.0011 - val_loss: 0.0042\n",
      "Epoch 198/300\n",
      " - 5s - loss: 0.0011 - val_loss: 0.0042\n",
      "Epoch 199/300\n",
      " - 5s - loss: 0.0011 - val_loss: 0.0061\n",
      "Epoch 200/300\n",
      " - 5s - loss: 0.0010 - val_loss: 0.0029\n",
      "Epoch 201/300\n",
      " - 5s - loss: 0.0011 - val_loss: 0.0055\n",
      "Epoch 202/300\n",
      " - 5s - loss: 9.7114e-04 - val_loss: 0.0047\n",
      "Epoch 203/300\n",
      " - 5s - loss: 9.6639e-04 - val_loss: 0.0050\n",
      "Epoch 204/300\n",
      " - 5s - loss: 0.0011 - val_loss: 0.0054\n",
      "Epoch 205/300\n",
      " - 5s - loss: 0.0011 - val_loss: 0.0037\n",
      "Epoch 206/300\n",
      " - 5s - loss: 0.0010 - val_loss: 0.0056\n",
      "Epoch 207/300\n",
      " - 5s - loss: 0.0011 - val_loss: 0.0040\n",
      "Epoch 208/300\n",
      " - 5s - loss: 0.0011 - val_loss: 0.0028\n",
      "Epoch 209/300\n",
      " - 5s - loss: 0.0011 - val_loss: 0.0032\n",
      "Epoch 210/300\n",
      " - 5s - loss: 0.0010 - val_loss: 0.0035\n",
      "Epoch 211/300\n",
      " - 5s - loss: 0.0011 - val_loss: 0.0025\n",
      "Epoch 212/300\n",
      " - 5s - loss: 0.0011 - val_loss: 0.0050\n",
      "Epoch 213/300\n",
      " - 5s - loss: 9.6187e-04 - val_loss: 0.0054\n",
      "Epoch 214/300\n",
      " - 5s - loss: 0.0010 - val_loss: 0.0038\n",
      "Epoch 215/300\n",
      " - 5s - loss: 0.0011 - val_loss: 0.0047\n",
      "Epoch 216/300\n",
      " - 5s - loss: 0.0011 - val_loss: 0.0060\n",
      "Epoch 217/300\n",
      " - 5s - loss: 0.0010 - val_loss: 0.0042\n",
      "Epoch 218/300\n",
      " - 5s - loss: 0.0010 - val_loss: 0.0042\n",
      "Epoch 219/300\n",
      " - 5s - loss: 0.0010 - val_loss: 0.0045\n",
      "Epoch 220/300\n",
      " - 5s - loss: 0.0010 - val_loss: 0.0045\n",
      "Epoch 221/300\n",
      " - 5s - loss: 9.7967e-04 - val_loss: 0.0057\n",
      "Epoch 222/300\n",
      " - 5s - loss: 9.8301e-04 - val_loss: 0.0037\n",
      "Epoch 223/300\n",
      " - 5s - loss: 9.1771e-04 - val_loss: 0.0062\n",
      "Epoch 224/300\n",
      " - 5s - loss: 9.4708e-04 - val_loss: 0.0049\n",
      "Epoch 225/300\n",
      " - 5s - loss: 0.0011 - val_loss: 0.0033\n",
      "Epoch 226/300\n",
      " - 5s - loss: 0.0011 - val_loss: 0.0058\n",
      "Epoch 227/300\n",
      " - 5s - loss: 9.9587e-04 - val_loss: 0.0033\n",
      "Epoch 228/300\n",
      " - 6s - loss: 9.7576e-04 - val_loss: 0.0048\n",
      "Epoch 229/300\n",
      " - 6s - loss: 0.0010 - val_loss: 0.0029\n",
      "Epoch 230/300\n",
      " - 6s - loss: 0.0010 - val_loss: 0.0038\n",
      "Epoch 231/300\n",
      " - 6s - loss: 9.8922e-04 - val_loss: 0.0030\n",
      "Epoch 232/300\n",
      " - 7s - loss: 9.9282e-04 - val_loss: 0.0057\n",
      "Epoch 233/300\n",
      " - 7s - loss: 9.1206e-04 - val_loss: 0.0030\n",
      "Epoch 234/300\n",
      " - 6s - loss: 9.7955e-04 - val_loss: 0.0035\n",
      "Epoch 235/300\n",
      " - 6s - loss: 9.9035e-04 - val_loss: 0.0025\n",
      "Epoch 236/300\n",
      " - 6s - loss: 0.0010 - val_loss: 0.0040\n",
      "Epoch 237/300\n",
      " - 6s - loss: 0.0011 - val_loss: 0.0045\n",
      "Epoch 238/300\n",
      " - 6s - loss: 9.8911e-04 - val_loss: 0.0041\n",
      "Epoch 239/300\n",
      " - 6s - loss: 9.7732e-04 - val_loss: 0.0034\n",
      "Epoch 240/300\n",
      " - 6s - loss: 9.1486e-04 - val_loss: 0.0023\n",
      "Epoch 241/300\n",
      " - 6s - loss: 9.2941e-04 - val_loss: 0.0025\n",
      "Epoch 242/300\n",
      " - 6s - loss: 9.4916e-04 - val_loss: 0.0046\n",
      "Epoch 243/300\n",
      " - 6s - loss: 9.8265e-04 - val_loss: 0.0027\n",
      "Epoch 244/300\n",
      " - 7s - loss: 0.0011 - val_loss: 0.0035\n",
      "Epoch 245/300\n",
      " - 7s - loss: 9.3160e-04 - val_loss: 0.0028\n",
      "Epoch 246/300\n",
      " - 6s - loss: 0.0011 - val_loss: 0.0027\n",
      "Epoch 247/300\n",
      " - 6s - loss: 9.7511e-04 - val_loss: 0.0036\n",
      "Epoch 248/300\n",
      " - 6s - loss: 0.0010 - val_loss: 0.0025\n",
      "Epoch 249/300\n",
      " - 6s - loss: 0.0011 - val_loss: 0.0022\n",
      "Epoch 250/300\n",
      " - 6s - loss: 0.0010 - val_loss: 0.0044\n",
      "Epoch 251/300\n",
      " - 5s - loss: 9.1221e-04 - val_loss: 0.0034\n",
      "Epoch 252/300\n",
      " - 5s - loss: 9.8770e-04 - val_loss: 0.0060\n",
      "Epoch 253/300\n",
      " - 5s - loss: 9.4214e-04 - val_loss: 0.0054\n",
      "Epoch 254/300\n",
      " - 5s - loss: 0.0011 - val_loss: 0.0031\n",
      "Epoch 255/300\n",
      " - 5s - loss: 9.5087e-04 - val_loss: 0.0030\n",
      "Epoch 256/300\n",
      " - 5s - loss: 9.0431e-04 - val_loss: 0.0065\n",
      "Epoch 257/300\n",
      " - 5s - loss: 8.5294e-04 - val_loss: 0.0026\n",
      "Epoch 258/300\n",
      " - 5s - loss: 9.4151e-04 - val_loss: 0.0021\n",
      "Epoch 259/300\n",
      " - 5s - loss: 9.0911e-04 - val_loss: 0.0038\n",
      "Epoch 260/300\n",
      " - 5s - loss: 0.0010 - val_loss: 0.0024\n",
      "Epoch 261/300\n",
      " - 5s - loss: 9.8280e-04 - val_loss: 0.0041\n",
      "Epoch 262/300\n",
      " - 5s - loss: 9.9794e-04 - val_loss: 0.0033\n",
      "Epoch 263/300\n",
      " - 5s - loss: 8.4070e-04 - val_loss: 0.0046\n",
      "Epoch 264/300\n",
      " - 5s - loss: 9.7006e-04 - val_loss: 0.0035\n",
      "Epoch 265/300\n",
      " - 5s - loss: 9.4179e-04 - val_loss: 0.0022\n",
      "Epoch 266/300\n",
      " - 5s - loss: 9.5411e-04 - val_loss: 0.0021\n",
      "Epoch 267/300\n",
      " - 5s - loss: 9.0759e-04 - val_loss: 0.0061\n",
      "Epoch 268/300\n",
      " - 5s - loss: 8.7685e-04 - val_loss: 0.0024\n",
      "Epoch 269/300\n",
      " - 5s - loss: 9.3673e-04 - val_loss: 0.0022\n",
      "Epoch 270/300\n",
      " - 5s - loss: 8.5888e-04 - val_loss: 0.0059\n",
      "Epoch 271/300\n",
      " - 5s - loss: 0.0010 - val_loss: 0.0025\n",
      "Epoch 272/300\n",
      " - 5s - loss: 9.4686e-04 - val_loss: 0.0040\n",
      "Epoch 273/300\n",
      " - 5s - loss: 9.4739e-04 - val_loss: 0.0048\n",
      "Epoch 274/300\n",
      " - 5s - loss: 9.2824e-04 - val_loss: 0.0025\n",
      "Epoch 275/300\n",
      " - 5s - loss: 9.9142e-04 - val_loss: 0.0029\n",
      "Epoch 276/300\n",
      " - 5s - loss: 9.1668e-04 - val_loss: 0.0029\n",
      "Epoch 277/300\n",
      " - 5s - loss: 9.1800e-04 - val_loss: 0.0043\n",
      "Epoch 278/300\n",
      " - 5s - loss: 9.3106e-04 - val_loss: 0.0051\n",
      "Epoch 279/300\n",
      " - 5s - loss: 9.3561e-04 - val_loss: 0.0027\n",
      "Epoch 280/300\n",
      " - 5s - loss: 9.3102e-04 - val_loss: 0.0036\n",
      "Epoch 281/300\n",
      " - 5s - loss: 9.5311e-04 - val_loss: 0.0037\n",
      "Epoch 282/300\n",
      " - 5s - loss: 9.7856e-04 - val_loss: 0.0038\n",
      "Epoch 283/300\n",
      " - 5s - loss: 8.8028e-04 - val_loss: 0.0023\n",
      "Epoch 284/300\n",
      " - 5s - loss: 8.8544e-04 - val_loss: 0.0025\n"
     ]
    },
    {
     "name": "stdout",
     "output_type": "stream",
     "text": [
      "Epoch 285/300\n",
      " - 5s - loss: 8.4997e-04 - val_loss: 0.0021\n",
      "Epoch 286/300\n",
      " - 5s - loss: 9.4071e-04 - val_loss: 0.0053\n",
      "Epoch 287/300\n",
      " - 5s - loss: 9.8036e-04 - val_loss: 0.0035\n",
      "Epoch 288/300\n",
      " - 5s - loss: 9.5272e-04 - val_loss: 0.0022\n",
      "Epoch 289/300\n",
      " - 5s - loss: 9.4515e-04 - val_loss: 0.0029\n",
      "Epoch 290/300\n",
      " - 5s - loss: 9.0881e-04 - val_loss: 0.0026\n",
      "Epoch 291/300\n",
      " - 5s - loss: 8.7857e-04 - val_loss: 0.0026\n",
      "Epoch 292/300\n",
      " - 5s - loss: 9.9003e-04 - val_loss: 0.0022\n",
      "Epoch 293/300\n",
      " - 5s - loss: 9.1522e-04 - val_loss: 0.0061\n",
      "Epoch 294/300\n",
      " - 5s - loss: 9.0597e-04 - val_loss: 0.0032\n",
      "Epoch 295/300\n",
      " - 5s - loss: 9.3274e-04 - val_loss: 0.0021\n",
      "Epoch 296/300\n",
      " - 5s - loss: 9.5214e-04 - val_loss: 0.0037\n",
      "Epoch 297/300\n",
      " - 5s - loss: 8.8673e-04 - val_loss: 0.0041\n",
      "Epoch 298/300\n",
      " - 5s - loss: 9.4184e-04 - val_loss: 0.0032\n",
      "Epoch 299/300\n",
      " - 5s - loss: 9.0845e-04 - val_loss: 0.0048\n",
      "Epoch 300/300\n",
      " - 5s - loss: 8.5980e-04 - val_loss: 0.0021\n"
     ]
    }
   ],
   "source": [
    "\"\"\"\n",
    "model = create_model()\n",
    "\n",
    "#csv_logger = CSVLogger()\n",
    "\n",
    "history = model.fit(x_t, y_t, epochs=params['epochs'], verbose=2, batch_size=BATCH_SIZE,\n",
    "                   shuffle=False, validation_data=(trim_dataset(x_val, BATCH_SIZE), \n",
    "                                                   trim_dataset(y_val, BATCH_SIZE)))\n",
    "\"\"\""
   ]
  },
  {
   "cell_type": "code",
   "execution_count": 23,
   "metadata": {},
   "outputs": [
    {
     "data": {
      "text/plain": [
       "(1340, 60, 5)"
      ]
     },
     "execution_count": 23,
     "metadata": {},
     "output_type": "execute_result"
    }
   ],
   "source": [
    "x_t.shape"
   ]
  },
  {
   "cell_type": "code",
   "execution_count": 24,
   "metadata": {},
   "outputs": [],
   "source": [
    "# save model\n",
    "import pickle\n",
    "\n",
    "#filename = 'lstm_model_300.sav'\n",
    "#pickle.dump(model, open(filename, 'wb'))"
   ]
  },
  {
   "cell_type": "code",
   "execution_count": 48,
   "metadata": {},
   "outputs": [],
   "source": [
    "# load the model\n",
    "import pickle\n",
    "filename = 'lstm_model_300.sav'\n",
    "loaded_model = pickle.load(open(filename, 'rb'))\n",
    "model = loaded_model\n"
   ]
  },
  {
   "cell_type": "code",
   "execution_count": 45,
   "metadata": {
    "scrolled": true
   },
   "outputs": [
    {
     "ename": "NameError",
     "evalue": "name 'history' is not defined",
     "output_type": "error",
     "traceback": [
      "\u001b[1;31m---------------------------------------------------------------------------\u001b[0m",
      "\u001b[1;31mNameError\u001b[0m                                 Traceback (most recent call last)",
      "\u001b[1;32m<ipython-input-45-48baa4942051>\u001b[0m in \u001b[0;36m<module>\u001b[1;34m\u001b[0m\n\u001b[1;32m----> 1\u001b[1;33m \u001b[0mprint\u001b[0m\u001b[1;33m(\u001b[0m\u001b[0mhistory\u001b[0m\u001b[1;33m.\u001b[0m\u001b[0mhistory\u001b[0m\u001b[1;33m.\u001b[0m\u001b[0mkeys\u001b[0m\u001b[1;33m(\u001b[0m\u001b[1;33m)\u001b[0m\u001b[1;33m)\u001b[0m\u001b[1;33m\u001b[0m\u001b[1;33m\u001b[0m\u001b[0m\n\u001b[0m\u001b[0;32m      2\u001b[0m \u001b[0mprint\u001b[0m\u001b[1;33m(\u001b[0m\u001b[0mhistory\u001b[0m\u001b[1;33m.\u001b[0m\u001b[0mhistory\u001b[0m\u001b[1;33m[\u001b[0m\u001b[1;34m'val_loss'\u001b[0m\u001b[1;33m]\u001b[0m\u001b[1;33m)\u001b[0m\u001b[1;33m\u001b[0m\u001b[1;33m\u001b[0m\u001b[0m\n",
      "\u001b[1;31mNameError\u001b[0m: name 'history' is not defined"
     ]
    }
   ],
   "source": [
    "print(history.history.keys())\n",
    "print(history.history['val_loss'])"
   ]
  },
  {
   "cell_type": "code",
   "execution_count": null,
   "metadata": {},
   "outputs": [],
   "source": [
    "plt.figure()\n",
    "plt.plot(history.history['val_loss'])\n",
    "plt.plot(history.history['loss'])\n",
    "plt.legend(['Test', 'Train'])\n",
    "plt.xlabel('Epoch')\n",
    "plt.ylabel('Model loss')"
   ]
  },
  {
   "cell_type": "code",
   "execution_count": 46,
   "metadata": {},
   "outputs": [],
   "source": [
    "# plot the predicted vs real price"
   ]
  },
  {
   "cell_type": "markdown",
   "metadata": {},
   "source": [
    "LSTM"
   ]
  },
  {
   "cell_type": "code",
   "execution_count": 49,
   "metadata": {},
   "outputs": [
    {
     "name": "stdout",
     "output_type": "stream",
     "text": [
      "Error 0.002056557195722951 (140,) (140,)\n"
     ]
    }
   ],
   "source": [
    "y_pred = model.predict(trim_dataset(x_test_t, BATCH_SIZE), batch_size=BATCH_SIZE)\n",
    "y_pred = y_pred.flatten()\n",
    "y_test_t = trim_dataset(y_test_t, BATCH_SIZE)\n",
    "error = mean_squared_error(y_test_t, y_pred)\n",
    "print(\"Error\", error, y_pred.shape, y_test_t.shape)\n",
    "\n",
    "y_pred_orig = (y_pred * min_max_scaler.data_range_[3]) + min_max_scaler.data_min_[3] #min_max_scaler.inverse_transform(y_pred)\n",
    "y_test_t_orig = (y_test_t * min_max_scaler.data_range_[3]) + min_max_scaler.data_min_[3] #min_max_scaler.inverse_transform(y_test_t)"
   ]
  },
  {
   "cell_type": "code",
   "execution_count": 50,
   "metadata": {},
   "outputs": [
    {
     "data": {
      "image/png": "[encoded data removed]",
      "text/plain": [
       "<Figure size 432x288 with 1 Axes>"
      ]
     },
     "metadata": {
      "needs_background": "light"
     },
     "output_type": "display_data"
    }
   ],
   "source": [
    "plt.figure()\n",
    "plt.plot(y_pred_orig)\n",
    "plt.plot(y_test_t_orig)\n",
    "plt.title('Prediction vs Real Stock Price LSTM')\n",
    "plt.ylabel('Price')\n",
    "plt.xlabel('Days')\n",
    "plt.legend(['Prediction', 'Real'], loc='upper left')\n",
    "plt.show()"
   ]
  },
  {
   "cell_type": "markdown",
   "metadata": {},
   "source": [
    "plotting moving average"
   ]
  },
  {
   "cell_type": "code",
   "execution_count": 56,
   "metadata": {},
   "outputs": [
    {
     "data": {
      "image/png": "[encoded data removed]",
      "text/plain": [
       "<Figure size 432x288 with 1 Axes>"
      ]
     },
     "metadata": {
      "needs_background": "light"
     },
     "output_type": "display_data"
    }
   ],
   "source": [
    "plt.figure()\n",
    "plt.plot(y_pred_orig)\n",
    "plt.plot(moving_average)\n",
    "plt.plot(y_test_t_orig)\n",
    "plt.title('Prediction, Moving Average and Real Stock Price LSTM')\n",
    "plt.ylabel('Price')\n",
    "plt.xlabel('Days')\n",
    "plt.legend(['Prediction', 'Moving_average', 'Real'], loc='upper left')\n",
    "plt.show()"
   ]
  },
  {
   "cell_type": "markdown",
   "metadata": {},
   "source": [
    "# Exponentially weighted moving average"
   ]
  },
  {
   "cell_type": "code",
   "execution_count": 66,
   "metadata": {},
   "outputs": [
    {
     "data": {
      "text/plain": [
       "pandas.core.series.Series"
      ]
     },
     "execution_count": 66,
     "metadata": {},
     "output_type": "execute_result"
    }
   ],
   "source": [
    "type(real_price_last200)"
   ]
  },
  {
   "cell_type": "code",
   "execution_count": 79,
   "metadata": {},
   "outputs": [],
   "source": [
    "#taking -200, -60 days\n",
    "some_weird_days = real_price_last200[60:]"
   ]
  },
  {
   "cell_type": "code",
   "execution_count": 80,
   "metadata": {},
   "outputs": [],
   "source": [
    "ewma = some_weird_days.ewm(span=60).mean()"
   ]
  },
  {
   "cell_type": "code",
   "execution_count": 81,
   "metadata": {},
   "outputs": [
    {
     "data": {
      "text/plain": [
       "[<matplotlib.lines.Line2D at 0x20b0c2b3198>]"
      ]
     },
     "execution_count": 81,
     "metadata": {},
     "output_type": "execute_result"
    },
    {
     "data": {
      "image/png": "[encoded data removed]",
      "text/plain": [
       "<Figure size 432x288 with 1 Axes>"
      ]
     },
     "metadata": {
      "needs_background": "light"
     },
     "output_type": "display_data"
    }
   ],
   "source": [
    "plt.plot(ewma)"
   ]
  },
  {
   "cell_type": "code",
   "execution_count": 82,
   "metadata": {},
   "outputs": [
    {
     "data": {
      "text/plain": [
       "(140,)"
      ]
     },
     "execution_count": 82,
     "metadata": {},
     "output_type": "execute_result"
    }
   ],
   "source": [
    "ewma.shape"
   ]
  },
  {
   "cell_type": "code",
   "execution_count": 83,
   "metadata": {},
   "outputs": [
    {
     "data": {
      "text/plain": [
       "(140,)"
      ]
     },
     "execution_count": 83,
     "metadata": {},
     "output_type": "execute_result"
    }
   ],
   "source": [
    "y_pred_orig.shape"
   ]
  },
  {
   "cell_type": "code",
   "execution_count": 85,
   "metadata": {},
   "outputs": [
    {
     "name": "stdout",
     "output_type": "stream",
     "text": [
      "1620    150.350006\n",
      "1621    149.501083\n",
      "1622    149.652293\n",
      "1623    150.145447\n",
      "1624    149.659520\n",
      "1625    148.809572\n",
      "1626    147.665953\n",
      "1627    146.894786\n",
      "1628    146.556448\n",
      "1629    146.243437\n",
      "1630    145.526418\n",
      "1631    144.136559\n",
      "1632    143.045169\n",
      "1633    142.322053\n",
      "1634    141.439504\n",
      "1635    141.038217\n",
      "1636    140.580596\n",
      "1637    140.302980\n",
      "1638    140.189571\n",
      "1639    140.217899\n",
      "1640    140.274694\n",
      "1641    140.126779\n",
      "1642    140.096362\n",
      "1643    139.937021\n",
      "1644    140.047946\n",
      "1645    140.162879\n",
      "1646    140.402490\n",
      "1647    140.651448\n",
      "1648    140.831790\n",
      "1649    140.798504\n",
      "           ...    \n",
      "1730    165.590674\n",
      "1731    166.036724\n",
      "1732    166.464425\n",
      "1733    166.860683\n",
      "1734    167.349261\n",
      "1735    167.899485\n",
      "1736    168.390754\n",
      "1737    169.222415\n",
      "1738    169.966587\n",
      "1739    170.795314\n",
      "1740    171.549813\n",
      "1741    172.266354\n",
      "1742    172.941928\n",
      "1743    173.692581\n",
      "1744    174.364883\n",
      "1745    174.877655\n",
      "1746    175.365460\n",
      "1747    175.807213\n",
      "1748    176.223774\n",
      "1749    176.400393\n",
      "1750    176.544171\n",
      "1751    176.867013\n",
      "1752    177.202902\n",
      "1753    177.471464\n",
      "1754    177.645479\n",
      "1755    177.883263\n",
      "1756    178.129651\n",
      "1757    178.220410\n",
      "1758    178.314425\n",
      "1759    178.512866\n",
      "Name: Close, Length: 140, dtype: float64\n"
     ]
    }
   ],
   "source": [
    "print(ewma)"
   ]
  },
  {
   "cell_type": "code",
   "execution_count": 89,
   "metadata": {},
   "outputs": [],
   "source": [
    "ewma = ewma.to_numpy()"
   ]
  },
  {
   "cell_type": "code",
   "execution_count": 91,
   "metadata": {},
   "outputs": [
    {
     "data": {
      "image/png": "[encoded data removed]",
      "text/plain": [
       "<Figure size 432x288 with 1 Axes>"
      ]
     },
     "metadata": {
      "needs_background": "light"
     },
     "output_type": "display_data"
    }
   ],
   "source": [
    "plt.figure()\n",
    "plt.plot(y_pred_orig)\n",
    "plt.plot(ewma)\n",
    "plt.plot(y_test_t_orig)\n",
    "plt.title('Prediction, Exponentially Weighted Moving Average and Real Stock Price LSTM')\n",
    "plt.ylabel('Price')\n",
    "plt.xlabel('Days')\n",
    "plt.legend(['Prediction', 'Moving_average', 'Real'], loc='upper left')\n",
    "plt.show()"
   ]
  },
  {
   "cell_type": "code",
   "execution_count": 31,
   "metadata": {},
   "outputs": [],
   "source": [
    "# do gridsearch, put logging into\n",
    "# what overfit would mean here?\n",
    "# read lstm AK\n",
    "# how to appreciate how good is the prediction?\n",
    "\n",
    "# sentiment analysis for stock prediction ? X\n",
    "\n",
    "# ! when u use lstm, y is the close price of that they\n",
    "# on another model I think you kept the close price of that they"
   ]
  },
  {
   "cell_type": "code",
   "execution_count": 32,
   "metadata": {},
   "outputs": [
    {
     "name": "stdout",
     "output_type": "stream",
     "text": [
      "<class 'numpy.ndarray'>\n",
      "(140,)\n"
     ]
    }
   ],
   "source": [
    "print(type(y_test_t_orig))\n",
    "print(y_test_t_orig.shape)"
   ]
  },
  {
   "cell_type": "code",
   "execution_count": null,
   "metadata": {},
   "outputs": [],
   "source": []
  },
  {
   "cell_type": "markdown",
   "metadata": {},
   "source": [
    "# STRATEGY"
   ]
  },
  {
   "cell_type": "markdown",
   "metadata": {},
   "source": [
    "\n",
    "    http://cs229.stanford.edu/proj2017/final-reports/5241098.pdf"
   ]
  },
  {
   "cell_type": "markdown",
   "metadata": {},
   "source": [
    "We consider a simple algorithmic trading strategy based\n",
    "on the prediction by the model. At day t, an investor buys\n",
    "one share of INTC stock if the predicted price is higher\n",
    "than the current actual adjusted closing price. Otherwise,\n",
    "he or she sells one share of INTC stock. The strategy st\n",
    "can be described as:\n",
    "st =\n",
    "(\n",
    "+1 if yˆt+1 > yt\n",
    "−1 if yˆt+1 ≤ yt"
   ]
  },
  {
   "cell_type": "code",
   "execution_count": 33,
   "metadata": {},
   "outputs": [],
   "source": [
    "y_pred # prediction\n",
    "pass"
   ]
  },
  {
   "cell_type": "code",
   "execution_count": 34,
   "metadata": {},
   "outputs": [],
   "source": [
    "x_test_t # window\n",
    "pass"
   ]
  },
  {
   "cell_type": "code",
   "execution_count": 35,
   "metadata": {},
   "outputs": [],
   "source": [
    "# x_t : train data\n",
    "# x_val: validation data\n",
    "# x_test_t: test data"
   ]
  },
  {
   "cell_type": "markdown",
   "metadata": {},
   "source": [
    "TODO\n",
    "1. get data OK\n",
    "2. write trading algorithm (function of the prediction) OK\n",
    "3. compute returns\n",
    "\n",
    "4. compute sharpe ratio of the strategy"
   ]
  },
  {
   "cell_type": "code",
   "execution_count": 36,
   "metadata": {},
   "outputs": [],
   "source": [
    "y_pred_orig # predicted data\n",
    "pass"
   ]
  },
  {
   "cell_type": "code",
   "execution_count": 37,
   "metadata": {},
   "outputs": [],
   "source": [
    "y_test_t_orig # real data\n",
    "pass"
   ]
  },
  {
   "cell_type": "code",
   "execution_count": 38,
   "metadata": {},
   "outputs": [],
   "source": [
    "predicted_data = y_pred_orig\n",
    "real_data = y_test_t_orig"
   ]
  },
  {
   "cell_type": "code",
   "execution_count": 39,
   "metadata": {},
   "outputs": [
    {
     "data": {
      "text/plain": [
       "True"
      ]
     },
     "execution_count": 39,
     "metadata": {},
     "output_type": "execute_result"
    }
   ],
   "source": [
    "len(predicted_data) == len(real_data)"
   ]
  },
  {
   "cell_type": "code",
   "execution_count": 40,
   "metadata": {},
   "outputs": [
    {
     "data": {
      "text/plain": [
       "(numpy.ndarray, numpy.float32)"
      ]
     },
     "execution_count": 40,
     "metadata": {},
     "output_type": "execute_result"
    }
   ],
   "source": [
    "assert len(predicted_data) == len(real_data)\n",
    "type(predicted_data), type(predicted_data[0])"
   ]
  },
  {
   "cell_type": "code",
   "execution_count": 41,
   "metadata": {},
   "outputs": [],
   "source": [
    "class strategy():\n",
    "    def __init__(self):\n",
    "        self.in = 0\n",
    "    \n",
    "    def take_action(self, today_real_price, tomorrow_forcasted_price):\n",
    "        \"\"\"\n",
    "         At day t, an investor buys one share of INTC stock if the predicted price \n",
    "         is higher than the current actual adjusted closing price.\n",
    "         Otherwise, he or she sells one share of INTC stock\"\"\"\n",
    "        if tomorrow_forcasted_price > today_real_price:\n",
    "            self.stocks += 1\n",
    "        else:\n",
    "            self.stocks -= 1\n",
    "    \n",
    "    def compute_daily_return(self, today_real_price, tomorrow_real_price):\n",
    "        \"\"\"\n",
    "         Using the\n",
    "indicator variable st\n",
    ", we can calculate a daily return of\n",
    "the strategy at day t + 1:\n",
    "rt+1 = st × log \u0012\n",
    "yt+1\n",
    "yt\n",
    "\u0013\n",
    "−\n",
    "        \"\"\"\n",
    "        import math\n",
    "        daily_return = self.stocks * math.log(tomorrow_real_price, today_real_price)\n",
    "        return daily_return\n",
    "            "
   ]
  },
  {
   "cell_type": "code",
   "execution_count": 42,
   "metadata": {},
   "outputs": [],
   "source": [
    "def execute_strategy(strategy, predicted_data, verbose=True):\n",
    "    \"\"\"\n",
    "    args: strategy to execute\n",
    "    \"\"\"\n",
    "    cumulative_return = 0\n",
    "    for day, today_real_price in enumerate(real_data[:-1]):\n",
    "        # day by day and execute my strategy\n",
    "        today_predicted_price = predicted_data[day]\n",
    "        if verbose: print(day, today_real_price, today_predicted_price)\n",
    "        \n",
    "        strategy.take_action(today_real_price, predicted_data[day + 1])\n",
    "        today_return = strategy.compute_daily_return(today_real_price, real_data[day + 1])\n",
    "        # metric: cumulative return\n",
    "        # sum of all the returns\n",
    "        cumulative_return += today_return\n",
    "    return cumulative_return"
   ]
  },
  {
   "cell_type": "code",
   "execution_count": 43,
   "metadata": {},
   "outputs": [
    {
     "name": "stdout",
     "output_type": "stream",
     "text": [
      "7876.452753226821\n"
     ]
    }
   ],
   "source": [
    "lstm_strategy = strategy() # you need initialize this every time\n",
    "lstm_predicted_data = y_pred_orig # find prediction data\n",
    "\n",
    "real_data = y_test_t_orig\n",
    "\n",
    "lstm_strategy_return = execute_strategy(lstm_strategy, lstm_predicted_data, verbose=False)\n",
    "lstm_strategy.stocks # how is my stock balance at the end of the execution:?\n",
    "print(lstm_strategy_return)"
   ]
  },
  {
   "cell_type": "code",
   "execution_count": 44,
   "metadata": {},
   "outputs": [
    {
     "name": "stdout",
     "output_type": "stream",
     "text": [
      "7876.452753226821\n"
     ]
    }
   ],
   "source": [
    "regressor_strategy = strategy()\n",
    "regression_predicted_data = y_pred_orig # TODO: find this\n",
    "real_data = y_test_t_orig\n",
    "regression_strategy_return = execute_strategy(regressor_strategy, regression_predicted_data, verbose=False)\n",
    "regressor_strategy.stocks\n",
    "print(regression_strategy_return)"
   ]
  },
  {
   "cell_type": "markdown",
   "metadata": {},
   "source": [
    "##Directional Accuracy"
   ]
  },
  {
   "cell_type": "code",
   "execution_count": 51,
   "metadata": {},
   "outputs": [],
   "source": [
    "def directional_accuracy(predicted_data, real_data):\n",
    "    \"\"\"return the nb of days that the model got the movement right / nb of days in total\n",
    "    args:\n",
    "        predicted_data:\n",
    "    \"\"\"        \n",
    "    days_predicted = len(real_data) \n",
    "    nb_correct_pred = 0\n",
    "    \n",
    "    for t in range(days_predicted-1):\n",
    "        if (predicted_data[t+1] - predicted_data[t]) * (real_data[t+1] - real_data[t]) > 0:\n",
    "            nb_correct_pred += 1\n",
    "    return nb_correct_pred / (days_predicted - 1) # movements in the market = nb of pred days - 1\n",
    "    "
   ]
  },
  {
   "cell_type": "code",
   "execution_count": 56,
   "metadata": {},
   "outputs": [],
   "source": [
    "def returns_vector_daily_returns(strategy, predicted_data, real_data):\n",
    "    \"\"\"\n",
    "    args: strategy to execute\n",
    "    \n",
    "    returns: dayly_returns list\n",
    "    \"\"\"\n",
    "    daily_returns = []\n",
    "    for day, today_real_price in enumerate(real_data[:-1]):\n",
    "        # day by day and execute my strategy\n",
    "        today_predicted_price = predicted_data[day]\n",
    "        \n",
    "        strategy.take_action(today_real_price, predicted_data[day + 1])\n",
    "        today_return = strategy.compute_daily_return(today_real_price, real_data[day + 1])\n",
    "        # metric: cumulative return\n",
    "        # sum of all the returns\n",
    "        daily_returns.append(today_return)\n",
    "    return daily_returns"
   ]
  },
  {
   "cell_type": "code",
   "execution_count": 63,
   "metadata": {},
   "outputs": [],
   "source": [
    "def computes_sharpe_ratio(input_vector):\n",
    "    \"\"\"returns mean and standard deviation\"\"\"\n",
    "    ndarray = np.array(input_vector)\n",
    "    mean = ndarray.mean()\n",
    "    std = ndarray.std()\n",
    "    \n",
    "    sharpe_ratio = mean / std\n",
    "    print('mean, std', mean, std)\n",
    "    return sharpe_ratio\n",
    "    \n",
    "\n",
    "    "
   ]
  },
  {
   "cell_type": "code",
   "execution_count": 64,
   "metadata": {},
   "outputs": [
    {
     "name": "stdout",
     "output_type": "stream",
     "text": [
      "0.5179856115107914\n"
     ]
    }
   ],
   "source": [
    "# compute directional accuracy for lstm 300\n",
    "print(directional_accuracy(lstm_predicted_data, real_data))"
   ]
  },
  {
   "cell_type": "code",
   "execution_count": 65,
   "metadata": {},
   "outputs": [],
   "source": [
    "#compute sharpe ratio for lstm\n",
    "daily_returns = returns_vector_daily_returns(lstm_strategy, lstm_predicted_data, real_data)\n"
   ]
  },
  {
   "cell_type": "code",
   "execution_count": 66,
   "metadata": {},
   "outputs": [
    {
     "name": "stdout",
     "output_type": "stream",
     "text": [
      "mean, std 332.7329093654071 26.28995595404192\n",
      "12.65627488867099\n"
     ]
    }
   ],
   "source": [
    "print(computes_sharpe_ratio(daily_returns))"
   ]
  },
  {
   "cell_type": "code",
   "execution_count": null,
   "metadata": {},
   "outputs": [],
   "source": []
  }
 ],
 "metadata": {
  "kernelspec": {
   "display_name": "Python 3",
   "language": "python",
   "name": "python3"
  },
  "language_info": {
   "codemirror_mode": {
    "name": "ipython",
    "version": 3
   },
   "file_extension": ".py",
   "mimetype": "text/x-python",
   "name": "python",
   "nbconvert_exporter": "python",
   "pygments_lexer": "ipython3",
   "version": "3.7.1"
  }
 },
 "nbformat": 4,
 "nbformat_minor": 2
}
